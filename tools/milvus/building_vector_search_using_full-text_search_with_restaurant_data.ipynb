{
 "cells": [
  {
   "cell_type": "markdown",
   "id": "141f039b",
   "metadata": {},
   "source": [
    "### 🏪 Series II: Indexing and Querying Restaurant Data with Milvus using Full-Text Search (BM25)\n",
    "\n",
    "This notebook demonstrates how to index and search restaurant data using the Milvus Vector Database with sparse vector embeddings for full-text search.\n",
    "\n",
    "In this example, we'll use BM25 to convert restaurant fields (like title) into sparse vectors, then perform full-text similarity search on those embeddings.\n",
    "> 🧠 This approach enables keyword-based search — finding similar restaurants based on tokenized text and BM25 ranking.\n",
    "\n",
    "You'll learn how to:\n",
    "\n",
    "* Prepare restaurant data with `title` fields.\n",
    "* Tokenize and preprocess text for BM25.\n",
    "* Insert the processed data into Milvus.\n",
    "* Perform full-text similarity searches to find related restaurants.\n",
    "\n",
    "#### 🛠 Requirements\n",
    "Make sure you have the following Python libraries installed:\n",
    "* `pymilvus`\n",
    "* `pythainlp`\n",
    "* `pandas`\n",
    "\n",
    "You can use either:\n",
    "* A **local Milvus** instance (e.g. via Docker)\n",
    "* Or a **managed Milvus** service such as [Zilliz Cloud](https://cloud.zilliz.com)\n",
    "\n",
    "📖 For more context, see the full blog post at: [wiphoo.dev](https://go.wiphoo.dev/Z9R1Wy)"
   ]
  },
  {
   "cell_type": "markdown",
   "id": "811de5e9",
   "metadata": {},
   "source": [
    "### 🔗 Connect to Milvus (Local or Managed Cloud)"
   ]
  },
  {
   "cell_type": "code",
   "execution_count": 1,
   "id": "fc474290",
   "metadata": {},
   "outputs": [],
   "source": [
    "# create a connection to Milvus either local or Zilliz cloud\n",
    "from pymilvus import connections\n",
    "\n",
    "# local Milvus\n",
    "connections.connect(uri='http://localhost:19530')\n",
    "\n",
    "# # Zilliz cloud\n",
    "# connections.connect(uri=\"https://YOUR_URI.cloud.zilliz.com\", \n",
    "#                     token='YOUR_TOKEN',\n",
    "#                     )"
   ]
  },
  {
   "cell_type": "markdown",
   "id": "02b9eada",
   "metadata": {},
   "source": [
    "#### 🔤 Tokenize and Preprocess Text for BM25\n",
    "\n",
    "We use PyThaiNLP to tokenize Thai text and remove common stopwords. This helps BM25 focus on meaningful tokens."
   ]
  },
  {
   "cell_type": "code",
   "execution_count": 2,
   "id": "3ae26b6c",
   "metadata": {},
   "outputs": [],
   "source": [
    "from pythainlp.tokenize import word_tokenize\n",
    "stopwords = ['ร้าน', 'อาหาร', 'สาขา']\n",
    "def tokenize_and_filter(text):\n",
    "    tokens = word_tokenize(text, engine=\"newmm\")\n",
    "    return \" \".join([t for t in tokens if t not in stopwords and t.strip() != \"\"])\n"
   ]
  },
  {
   "cell_type": "markdown",
   "id": "ed1fca5b",
   "metadata": {},
   "source": [
    "#### 🗂️ Define a Schema and Create a Collection with Indexing\n",
    "\n",
    "##### 📄 Step 1: Define the Schema for Restaurant Data\n",
    "\n",
    "We’ll define a schema that includes key information for each restaurant:\n",
    "* `id`: Unique identifier (string)\n",
    "* `title`: Restaurant name (string)\n",
    "* `text_standard`, `text_whitespace`: Tokenized text fields for different analyzers\n",
    "* `sparse_vector_standard`, `sparse_vector_whitespace`: Sparse vector fields for BM25"
   ]
  },
  {
   "cell_type": "code",
   "execution_count": 3,
   "id": "7fa7d59a",
   "metadata": {},
   "outputs": [],
   "source": [
    "from pymilvus import FieldSchema, DataType\n",
    "fields = [\n",
    "    FieldSchema(name=\"id\", dtype=DataType.VARCHAR, is_primary=True, auto_id=False, max_length=128),\n",
    "    FieldSchema(name=\"title\", dtype=DataType.VARCHAR, max_length=512),\n",
    "    FieldSchema(name=\"text_standard\", dtype=DataType.VARCHAR, max_length=1000, enable_match=True, enable_analyzer=True, analyzer_params={\"tokenizer\": \"standard\"}),\n",
    "    FieldSchema(name=\"text_whitespace\", dtype=DataType.VARCHAR, max_length=1000, enable_match=True, enable_analyzer=True, analyzer_params={\"tokenizer\": \"whitespace\"}),\n",
    "    FieldSchema(name=\"sparse_vector_standard\", dtype=DataType.SPARSE_FLOAT_VECTOR),\n",
    "    FieldSchema(name=\"sparse_vector_whitespace\", dtype=DataType.SPARSE_FLOAT_VECTOR),\n",
    "]\n"
   ]
  },
  {
   "cell_type": "markdown",
   "id": "e6570d6d",
   "metadata": {},
   "source": [
    "##### 📄 Step 2: Define BM25 Functions for Sparse Vectorization"
   ]
  },
  {
   "cell_type": "code",
   "execution_count": 4,
   "id": "6027e513",
   "metadata": {},
   "outputs": [],
   "source": [
    "from pymilvus import Function, FunctionType\n",
    "functions = [\n",
    "    Function(name=\"bm25_standard\", function_type=FunctionType.BM25, input_field_names=[\"text_standard\"], output_field_names=\"sparse_vector_standard\"),\n",
    "    Function(name=\"bm25_whitespace\", function_type=FunctionType.BM25, input_field_names=[\"text_whitespace\"], output_field_names=\"sparse_vector_whitespace\"),\n",
    "]\n"
   ]
  },
  {
   "cell_type": "markdown",
   "id": "ee14629a",
   "metadata": {},
   "source": [
    "##### 📄 Step 3: Create the Collection and Indices"
   ]
  },
  {
   "cell_type": "code",
   "execution_count": 5,
   "id": "8fdae5cc",
   "metadata": {},
   "outputs": [],
   "source": [
    "from pymilvus import CollectionSchema, Collection, utility\n",
    "schema = CollectionSchema(fields=fields, functions=functions, description=\"Schema สำหรับข้อมูลร้านอาหาร เพื่อ Full Text Search\")\n",
    "collection_name = \"full_text_search_restaurants\"\n",
    "if utility.has_collection(collection_name):\n",
    "    Collection(collection_name).drop()\n",
    "collection = Collection(collection_name, schema)\n",
    "# สร้าง index\n",
    "sparse_index = {\n",
    "    \"index_type\": \"SPARSE_INVERTED_INDEX\",\n",
    "    \"metric_type\": \"BM25\",\n",
    "    \"params\":{\n",
    "        \"inverted_index_algo\": \"DAAT_MAXSCORE\",\n",
    "        \"bm25_k1\": 1.2,\n",
    "        \"bm25_b\": 0.75\n",
    "    }\n",
    "}\n",
    "collection.create_index(field_name=\"sparse_vector_standard\", index_params=sparse_index)\n",
    "collection.create_index(field_name=\"sparse_vector_whitespace\", index_params=sparse_index)\n",
    "collection.load()\n"
   ]
  },
  {
   "cell_type": "markdown",
   "id": "7fbd5d9a",
   "metadata": {},
   "source": [
    "#### 🍽️ Step 4: Prepare, Tokenize, and Ingest Restaurant Data"
   ]
  },
  {
   "cell_type": "code",
   "execution_count": 6,
   "id": "7603d37d",
   "metadata": {},
   "outputs": [
    {
     "name": "stdout",
     "output_type": "stream",
     "text": [
      "Inserted 268 records with embeddings.\n"
     ]
    }
   ],
   "source": [
    "import pandas as pd\n",
    "df = pd.read_csv(\"../../data/2025/restaurants/sample_restaurants.csv\")\n",
    "df[\"tokenized_separate_by_whitespace\"] = df[[\"title\"]].agg(\" \".join, axis=1).apply(tokenize_and_filter)\n",
    "entities = [\n",
    "    df[\"place_id\"].tolist(),\n",
    "    df[\"title\"].tolist(),\n",
    "    df[\"tokenized_separate_by_whitespace\"].tolist(),\n",
    "    df[\"tokenized_separate_by_whitespace\"].tolist(),\n",
    "]\n",
    "collection.insert(entities)\n",
    "collection.flush()\n",
    "print(f\"Inserted {len(df)} records with embeddings.\")\n"
   ]
  },
  {
   "cell_type": "markdown",
   "id": "2ca3c8db",
   "metadata": {},
   "source": [
    "#### ⚙️ Step 5: Create Helper Function to Display Results"
   ]
  },
  {
   "cell_type": "code",
   "execution_count": 7,
   "id": "ae904451",
   "metadata": {},
   "outputs": [],
   "source": [
    "def display_results(results):\n",
    "    flat_results = []\n",
    "    for query_results in results:\n",
    "        for match in query_results:\n",
    "            entity = match.get(\"entity\", {})\n",
    "            flat_result = {\n",
    "                \"id\": match.get(\"id\"),\n",
    "                \"distance\": match.get(\"distance\"),\n",
    "                **{k: v for k, v in entity.items()}\n",
    "            }\n",
    "            flat_results.append(flat_result)\n",
    "    return pd.DataFrame(flat_results).sort_values(by=['distance', 'title', 'id'])\n"
   ]
  },
  {
   "cell_type": "markdown",
   "id": "ebeb4da0",
   "metadata": {},
   "source": [
    "#### 🔍 Step 6: Test Queries (BM25 Search)"
   ]
  },
  {
   "cell_type": "code",
   "execution_count": 8,
   "id": "82f8ecb5",
   "metadata": {},
   "outputs": [
    {
     "data": {
      "text/html": [
       "<div>\n",
       "<style scoped>\n",
       "    .dataframe tbody tr th:only-of-type {\n",
       "        vertical-align: middle;\n",
       "    }\n",
       "\n",
       "    .dataframe tbody tr th {\n",
       "        vertical-align: top;\n",
       "    }\n",
       "\n",
       "    .dataframe thead th {\n",
       "        text-align: right;\n",
       "    }\n",
       "</style>\n",
       "<table border=\"1\" class=\"dataframe\">\n",
       "  <thead>\n",
       "    <tr style=\"text-align: right;\">\n",
       "      <th></th>\n",
       "      <th>id</th>\n",
       "      <th>distance</th>\n",
       "      <th>title</th>\n",
       "    </tr>\n",
       "  </thead>\n",
       "  <tbody>\n",
       "    <tr>\n",
       "      <th>1</th>\n",
       "      <td>ChIJXx6MOwCj4jARGMX5QqIoacQ</td>\n",
       "      <td>3.362928</td>\n",
       "      <td>ต้มเลือดหมูท่านเปา ประชาอุทิศ 62</td>\n",
       "    </tr>\n",
       "    <tr>\n",
       "      <th>0</th>\n",
       "      <td>ChIJ89mnRNGj4jARXFw7F8kdlu8</td>\n",
       "      <td>8.132664</td>\n",
       "      <td>ไข่หวานบ้านซูชิ สาขาประชาอุทิศ</td>\n",
       "    </tr>\n",
       "  </tbody>\n",
       "</table>\n",
       "</div>"
      ],
      "text/plain": [
       "                            id  distance                             title\n",
       "1  ChIJXx6MOwCj4jARGMX5QqIoacQ  3.362928  ต้มเลือดหมูท่านเปา ประชาอุทิศ 62\n",
       "0  ChIJ89mnRNGj4jARXFw7F8kdlu8  8.132664    ไข่หวานบ้านซูชิ สาขาประชาอุทิศ"
      ]
     },
     "execution_count": 8,
     "metadata": {},
     "output_type": "execute_result"
    }
   ],
   "source": [
    "results_standard = collection.search(\n",
    "    data=['บ้าน'],\n",
    "    anns_field=\"sparse_vector_standard\",\n",
    "    param={\"metric_type\": \"BM25\", \"topk\": 10},\n",
    "    output_fields=[\"id\", \"title\"],\n",
    "    limit=10,\n",
    ")\n",
    "display_results(results_standard)\n"
   ]
  },
  {
   "cell_type": "code",
   "execution_count": 9,
   "id": "52e5eeae",
   "metadata": {},
   "outputs": [
    {
     "data": {
      "text/html": [
       "<div>\n",
       "<style scoped>\n",
       "    .dataframe tbody tr th:only-of-type {\n",
       "        vertical-align: middle;\n",
       "    }\n",
       "\n",
       "    .dataframe tbody tr th {\n",
       "        vertical-align: top;\n",
       "    }\n",
       "\n",
       "    .dataframe thead th {\n",
       "        text-align: right;\n",
       "    }\n",
       "</style>\n",
       "<table border=\"1\" class=\"dataframe\">\n",
       "  <thead>\n",
       "    <tr style=\"text-align: right;\">\n",
       "      <th></th>\n",
       "      <th>id</th>\n",
       "      <th>distance</th>\n",
       "      <th>title</th>\n",
       "    </tr>\n",
       "  </thead>\n",
       "  <tbody>\n",
       "    <tr>\n",
       "      <th>0</th>\n",
       "      <td>ChIJ89mnRNGj4jARXFw7F8kdlu8</td>\n",
       "      <td>5.057873</td>\n",
       "      <td>ไข่หวานบ้านซูชิ สาขาประชาอุทิศ</td>\n",
       "    </tr>\n",
       "  </tbody>\n",
       "</table>\n",
       "</div>"
      ],
      "text/plain": [
       "                            id  distance                           title\n",
       "0  ChIJ89mnRNGj4jARXFw7F8kdlu8  5.057873  ไข่หวานบ้านซูชิ สาขาประชาอุทิศ"
      ]
     },
     "execution_count": 9,
     "metadata": {},
     "output_type": "execute_result"
    }
   ],
   "source": [
    "results_standard = collection.search(\n",
    "    data=['บ้าน'],\n",
    "    anns_field=\"sparse_vector_whitespace\",\n",
    "    param={\"metric_type\": \"BM25\", \"topk\": 10},\n",
    "    output_fields=[\"id\", \"title\"],\n",
    "    limit=10,\n",
    ")\n",
    "display_results(results_standard)\n"
   ]
  },
  {
   "cell_type": "markdown",
   "id": "08e0d1bb",
   "metadata": {},
   "source": [
    "#### Step 7: Cleanup - Disconnect Milvus Connection"
   ]
  },
  {
   "cell_type": "code",
   "execution_count": 10,
   "id": "0e161974",
   "metadata": {},
   "outputs": [],
   "source": [
    "# disconnect Milvus connection\n",
    "connections.disconnect('default')"
   ]
  }
 ],
 "metadata": {
  "kernelspec": {
   "display_name": ".venv",
   "language": "python",
   "name": "python3"
  },
  "language_info": {
   "codemirror_mode": {
    "name": "ipython",
    "version": 3
   },
   "file_extension": ".py",
   "mimetype": "text/x-python",
   "name": "python",
   "nbconvert_exporter": "python",
   "pygments_lexer": "ipython3",
   "version": "3.12.3"
  }
 },
 "nbformat": 4,
 "nbformat_minor": 5
}
