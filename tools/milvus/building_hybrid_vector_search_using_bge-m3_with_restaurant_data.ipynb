{
 "cells": [
  {
   "cell_type": "markdown",
   "id": "973a1ac1",
   "metadata": {},
   "source": [
    "# 🍜 Hybrid Vector Search for Restaurants with Milvus\n",
    "\n",
    "This notebook demonstrates how to build a hybrid search system for restaurant data using Milvus, combining dense (BGE-M3, LaBSE) and sparse (BM25) embeddings, plus full-text search.\n",
    "\n",
    "**You will learn how to:**\n",
    "- Prepare restaurant data for hybrid search\n",
    "- Use BGE-M3 and LaBSE embedding models\n",
    "- Create a Milvus collection with dense, sparse, and text fields\n",
    "- Insert data with multiple embedding types\n",
    "- Perform and compare hybrid, dense, and sparse searches with clear examples\n",
    "\n",
    "#### 🛠 Requirements\n",
    "Make sure you have the following Python libraries installed:\n",
    "* `pymilvus`\n",
    "* `pandas`\n",
    "* `numpy`\n",
    "\n",
    "You can use either:\n",
    "* A **local Milvus** instance (e.g. via Docker)\n",
    "* Or a **managed Milvus** service such as [Zilliz Cloud](https://cloud.zilliz.com)\n",
    "\n",
    "📖 For more context, see the full blog post at: [wiphoo.dev](https://go.wiphoo.dev/IOifZo)\n"
   ]
  },
  {
   "cell_type": "markdown",
   "id": "85fa3a7f",
   "metadata": {},
   "source": [
    "## Table of Contents\n",
    "\n",
    "- 1. Connect to Milvus\n",
    "- 2. Create Embedding Functions (LaBSE, BGE-M3)\n",
    "- 3. Define Collection Schema\n",
    "- 4. Add BM25 Function (PyThaiNLP)\n",
    "- 5. Create Collection & Indexes\n",
    "- 6. Preprocess Data (Tokenize)\n",
    "- 7. Generate Embeddings (Dense + Sparse)\n",
    "- 8. Convert Sparse to Milvus Dict\n",
    "- 9. Insert Data\n",
    "- 10. Collection Stats\n",
    "- 11. Prepare Query Embeddings\n",
    "- 12. Helpers (to_dataframe, sparse conversion)\n",
    "- 13. Search Helpers (search_labse, search_fulltext, search_bge_dense, search_bge_sparse)\n",
    "- 14. Search Examples (LaBSE, Full-text, BGE-M3 Dense & Sparse)\n",
    "- 15. Comparison & Visualization\n",
    "\n",
    "> Run the notebook top-to-bottom. Use the `search_*` helper functions for concise queries and easy comparison."
   ]
  },
  {
   "cell_type": "markdown",
   "id": "2fac1eab",
   "metadata": {},
   "source": [
    "---\n",
    "\n",
    "## 1. Connect to Milvus\n",
    "\n",
    "Establish a connection to your Milvus instance (local or cloud). Use `MilvusClient(uri=...)` or your cloud credentials."
   ]
  },
  {
   "cell_type": "code",
   "execution_count": 1,
   "id": "ef4edf9e",
   "metadata": {},
   "outputs": [
    {
     "name": "stderr",
     "output_type": "stream",
     "text": [
      ".../.venv/lib/python3.12/site-packages/google/protobuf/runtime_version.py:98: UserWarning: Protobuf gencode version 5.27.2 is exactly one major version older than the runtime version 6.31.1 at schema.proto. Please update the gencode to avoid compatibility violations in the next runtime release.\n",
      "  warnings.warn(\n",
      ".../.venv/lib/python3.12/site-packages/google/protobuf/runtime_version.py:98: UserWarning: Protobuf gencode version 5.27.2 is exactly one major version older than the runtime version 6.31.1 at common.proto. Please update the gencode to avoid compatibility violations in the next runtime release.\n",
      "  warnings.warn(\n",
      ".../.venv/lib/python3.12/site-packages/google/protobuf/runtime_version.py:98: UserWarning: Protobuf gencode version 5.27.2 is exactly one major version older than the runtime version 6.31.1 at milvus.proto. Please update the gencode to avoid compatibility violations in the next runtime release.\n",
      "  warnings.warn(\n",
      ".../.venv/lib/python3.12/site-packages/google/protobuf/runtime_version.py:98: UserWarning: Protobuf gencode version 5.27.2 is exactly one major version older than the runtime version 6.31.1 at rg.proto. Please update the gencode to avoid compatibility violations in the next runtime release.\n",
      "  warnings.warn(\n",
      ".../.venv/lib/python3.12/site-packages/google/protobuf/runtime_version.py:98: UserWarning: Protobuf gencode version 5.27.2 is exactly one major version older than the runtime version 6.31.1 at feder.proto. Please update the gencode to avoid compatibility violations in the next runtime release.\n",
      "  warnings.warn(\n",
      ".../.venv/lib/python3.12/site-packages/google/protobuf/runtime_version.py:98: UserWarning: Protobuf gencode version 5.27.2 is exactly one major version older than the runtime version 6.31.1 at msg.proto. Please update the gencode to avoid compatibility violations in the next runtime release.\n",
      "  warnings.warn(\n"
     ]
    }
   ],
   "source": [
    "# Step 1: Connect to Milvus\n",
    "from pymilvus import MilvusClient\n",
    "\n",
    "# Connect to local Milvus server\n",
    "client = MilvusClient(uri=\"http://localhost:19530\")\n",
    "\n",
    "# For Zilliz Cloud, uncomment and fill in your credentials:\n",
    "# client = MilvusClient(\n",
    "#     uri=\"https://<your-endpoint>\",\n",
    "#     token=\"<your-token>\"\n",
    "# )"
   ]
  },
  {
   "cell_type": "markdown",
   "id": "0c524903",
   "metadata": {},
   "source": [
    "Connect to Milvus server (local or cloud)."
   ]
  },
  {
   "cell_type": "markdown",
   "id": "2f7b7dad",
   "metadata": {},
   "source": [
    "---\n",
    "\n",
    "## 2. Create Embedding Functions (LaBSE, BGE-M3)\n",
    "\n",
    "Set up embedding functions for both LaBSE (dense) and BGE-M3 (hybrid: dense + sparse)."
   ]
  },
  {
   "cell_type": "markdown",
   "id": "c7ab7ca3",
   "metadata": {},
   "source": [
    "### 2.1 LaBSE (Dense) — Multilingual Dense Embeddings"
   ]
  },
  {
   "cell_type": "code",
   "execution_count": 2,
   "id": "49e0b03d",
   "metadata": {},
   "outputs": [
    {
     "name": "stderr",
     "output_type": "stream",
     "text": [
      ".../.venv/lib/python3.12/site-packages/tqdm/auto.py:21: TqdmWarning: IProgress not found. Please update jupyter and ipywidgets. See https://ipywidgets.readthedocs.io/en/stable/user_install.html\n",
      "  from .autonotebook import tqdm as notebook_tqdm\n"
     ]
    }
   ],
   "source": [
    "# Step 2: Create Embedding Functions\n",
    "from pymilvus.model.dense import SentenceTransformerEmbeddingFunction\n",
    "\n",
    "# LaBSE: Multilingual dense embedding (good for Thai/English)\n",
    "labse_embedding_func = SentenceTransformerEmbeddingFunction(\n",
    "    model_name=\"sentence-transformers/LaBSE\",\n",
    "    batch_size=32,\n",
    "    device=\"cpu\",\n",
    "    normalize_embeddings=True,  # Recommended for COSINE metric\n",
    ")"
   ]
  },
  {
   "cell_type": "markdown",
   "id": "e15e4038",
   "metadata": {},
   "source": [
    "Set up LaBSE embedding (multilingual dense vectors)."
   ]
  },
  {
   "cell_type": "markdown",
   "id": "4b68cebc",
   "metadata": {},
   "source": [
    "### 2.2 BGE-M3 (Hybrid) — Dense + Sparse Embeddings\n",
    "\n",
    "BGE-M3 provides both a dense vector and a sparse representation; we store both to support hybrid ranking."
   ]
  },
  {
   "cell_type": "code",
   "execution_count": 3,
   "id": "53d72b16",
   "metadata": {},
   "outputs": [
    {
     "name": "stderr",
     "output_type": "stream",
     "text": [
      "Fetching 30 files: 100%|██████████| 30/30 [00:00<00:00, 149263.49it/s]\n"
     ]
    }
   ],
   "source": [
    "from pymilvus.model.hybrid import BGEM3EmbeddingFunction\n",
    "\n",
    "bge_m3_embedding_func = BGEM3EmbeddingFunction(\n",
    "    model_name='BAAI/bge-m3',\n",
    "    device='cpu',\n",
    "    use_fp16=False,\n",
    ")"
   ]
  },
  {
   "cell_type": "markdown",
   "id": "d60e1d6a",
   "metadata": {},
   "source": [
    "Set up BGE-M3 embedding (dense + sparse for hybrid search)."
   ]
  },
  {
   "cell_type": "code",
   "execution_count": 4,
   "id": "708c0f9f",
   "metadata": {},
   "outputs": [
    {
     "data": {
      "text/plain": [
       "{'auto_id': False, 'description': '', 'fields': [{'name': 'id', 'description': '', 'type': <DataType.VARCHAR: 21>, 'params': {'max_length': 128}, 'is_primary': True, 'auto_id': False}, {'name': 'title', 'description': '', 'type': <DataType.VARCHAR: 21>, 'params': {'max_length': 512}}, {'name': 'latitude', 'description': '', 'type': <DataType.FLOAT: 10>}, {'name': 'longitude', 'description': '', 'type': <DataType.FLOAT: 10>}, {'name': 'text_tokenize', 'description': '', 'type': <DataType.VARCHAR: 21>, 'params': {'max_length': 4096, 'enable_analyzer': True, 'analyzer_params': '{\"tokenizer\":\"whitespace\"}'}}, {'name': 'labse_dense_vector', 'description': '', 'type': <DataType.FLOAT_VECTOR: 101>, 'params': {'dim': 768}}, {'name': 'pythainlp_sparse_vector', 'description': '', 'type': <DataType.SPARSE_FLOAT_VECTOR: 104>}, {'name': 'bge_m3_dense_vector', 'description': '', 'type': <DataType.FLOAT_VECTOR: 101>, 'params': {'dim': 1024}}, {'name': 'bge_m3_sparse_vector', 'description': '', 'type': <DataType.SPARSE_FLOAT_VECTOR: 104>}, {'name': 'h3_r8', 'description': '', 'type': <DataType.VARCHAR: 21>, 'params': {'max_length': 32}, 'is_partition_key': True}], 'enable_dynamic_field': False}"
      ]
     },
     "execution_count": 4,
     "metadata": {},
     "output_type": "execute_result"
    }
   ],
   "source": [
    "from pymilvus import DataType\n",
    "\n",
    "# Step 3: Define Collection Schema\n",
    "collection_name = \"restaurants\"\n",
    "if collection_name in client.list_collections():\n",
    "    client.drop_collection(collection_name)\n",
    "\n",
    "schema = MilvusClient.create_schema(\n",
    "    auto_id=False,\n",
    "    enable_dynamic_field=False,\n",
    ")\n",
    "\n",
    "# Main fields\n",
    "schema.add_field(field_name=\"id\", datatype=DataType.VARCHAR, is_primary=True, auto_id=False, max_length=128)\n",
    "schema.add_field(field_name=\"title\", datatype=DataType.VARCHAR, max_length=512)\n",
    "schema.add_field(field_name=\"latitude\", datatype=DataType.FLOAT)\n",
    "schema.add_field(field_name=\"longitude\", datatype=DataType.FLOAT)\n",
    "\n",
    "# Text for full-text search\n",
    "schema.add_field(field_name=\"text_tokenize\", datatype=DataType.VARCHAR, max_length=4096,\n",
    "                enable_analyzer=True, analyzer_params={\"tokenizer\": \"whitespace\"})\n",
    "\n",
    "# Embedding fields\n",
    "schema.add_field(field_name=\"labse_dense_vector\", datatype=DataType.FLOAT_VECTOR, dim=labse_embedding_func.dim)\n",
    "schema.add_field(field_name=\"pythainlp_sparse_vector\", datatype=DataType.SPARSE_FLOAT_VECTOR)\n",
    "schema.add_field(field_name=\"bge_m3_dense_vector\", datatype=DataType.FLOAT_VECTOR, dim=bge_m3_embedding_func.dim[\"dense\"])\n",
    "schema.add_field(field_name=\"bge_m3_sparse_vector\", datatype=DataType.SPARSE_FLOAT_VECTOR)\n",
    "\n",
    "# Partition key for geo search\n",
    "schema.add_field(field_name=\"h3_r8\", datatype=DataType.VARCHAR, max_length=32, is_partition_key=True)"
   ]
  },
  {
   "cell_type": "markdown",
   "id": "4099dae2",
   "metadata": {},
   "source": [
    "Define Milvus collection schema for all fields."
   ]
  },
  {
   "cell_type": "markdown",
   "id": "3f3c87f6",
   "metadata": {},
   "source": [
    "---\n",
    "\n",
    "## 3. Define Collection Schema\n",
    "\n",
    "Drop the old collection (if it exists) and define fields for dense vectors, sparse vectors, and tokenized text."
   ]
  },
  {
   "cell_type": "code",
   "execution_count": 5,
   "id": "2bffa2c8",
   "metadata": {},
   "outputs": [
    {
     "data": {
      "text/plain": [
       "{'auto_id': False, 'description': '', 'fields': [{'name': 'id', 'description': '', 'type': <DataType.VARCHAR: 21>, 'params': {'max_length': 128}, 'is_primary': True, 'auto_id': False}, {'name': 'title', 'description': '', 'type': <DataType.VARCHAR: 21>, 'params': {'max_length': 512}}, {'name': 'latitude', 'description': '', 'type': <DataType.FLOAT: 10>}, {'name': 'longitude', 'description': '', 'type': <DataType.FLOAT: 10>}, {'name': 'text_tokenize', 'description': '', 'type': <DataType.VARCHAR: 21>, 'params': {'max_length': 4096, 'enable_analyzer': True, 'analyzer_params': '{\"tokenizer\":\"whitespace\"}'}}, {'name': 'labse_dense_vector', 'description': '', 'type': <DataType.FLOAT_VECTOR: 101>, 'params': {'dim': 768}}, {'name': 'pythainlp_sparse_vector', 'description': '', 'type': <DataType.SPARSE_FLOAT_VECTOR: 104>, 'is_function_output': True}, {'name': 'bge_m3_dense_vector', 'description': '', 'type': <DataType.FLOAT_VECTOR: 101>, 'params': {'dim': 1024}}, {'name': 'bge_m3_sparse_vector', 'description': '', 'type': <DataType.SPARSE_FLOAT_VECTOR: 104>}, {'name': 'h3_r8', 'description': '', 'type': <DataType.VARCHAR: 21>, 'params': {'max_length': 32}, 'is_partition_key': True}], 'enable_dynamic_field': False, 'functions': [{'name': 'bm25_pythainlp', 'description': '', 'type': <FunctionType.BM25: 1>, 'input_field_names': ['text_tokenize'], 'output_field_names': ['pythainlp_sparse_vector'], 'params': {}}]}"
      ]
     },
     "execution_count": 5,
     "metadata": {},
     "output_type": "execute_result"
    }
   ],
   "source": [
    "# 4. Add BM25 Function (PyThaiNLP)\n",
    "from pymilvus import Function, FunctionType\n",
    "\n",
    "# Add BM25 function for full-text search (PyThaiNLP tokenizer)\n",
    "schema.add_function(Function(\n",
    "    name=\"bm25_pythainlp\",\n",
    "    function_type=FunctionType.BM25,\n",
    "    input_field_names=[\"text_tokenize\"],\n",
    "    output_field_names=[\"pythainlp_sparse_vector\"],\n",
    "))"
   ]
  },
  {
   "cell_type": "markdown",
   "id": "7c0f0604",
   "metadata": {},
   "source": [
    "Add BM25 function for full-text search (PyThaiNLP)."
   ]
  },
  {
   "cell_type": "code",
   "execution_count": 6,
   "id": "49feee94",
   "metadata": {},
   "outputs": [],
   "source": [
    "# Step 4: Create the collection\n",
    "client.create_collection(\n",
    "    collection_name=collection_name,\n",
    "    schema=schema,\n",
    ")"
   ]
  },
  {
   "cell_type": "markdown",
   "id": "9ca29383",
   "metadata": {},
   "source": [
    "Create the collection in Milvus."
   ]
  },
  {
   "cell_type": "code",
   "execution_count": 7,
   "id": "4fa6a242",
   "metadata": {},
   "outputs": [],
   "source": [
    "# Step 5: Create indexes for all fields\n",
    "index_params = client.prepare_index_params()\n",
    "\n",
    "index_params.add_index(\n",
    "    field_name=\"labse_dense_vector\",\n",
    "    index_type=\"AUTOINDEX\",\n",
    "    metric_type=\"COSINE\",\n",
    ")\n",
    "index_params.add_index(\n",
    "    field_name=\"pythainlp_sparse_vector\",\n",
    "    index_type=\"SPARSE_INVERTED_INDEX\",\n",
    "    metric_type=\"BM25\",\n",
    "    params={\n",
    "        \"inverted_index_algo\": \"DAAT_MAXSCORE\",\n",
    "        \"bm25_k1\": 1.2,\n",
    "        \"bm25_b\": 0.75,\n",
    "    },\n",
    ")\n",
    "index_params.add_index(\n",
    "    field_name=\"bge_m3_dense_vector\",\n",
    "    index_type=\"AUTOINDEX\",\n",
    "    metric_type=\"IP\",\n",
    ")\n",
    "index_params.add_index(\n",
    "    field_name=\"bge_m3_sparse_vector\",\n",
    "    index_type=\"SPARSE_INVERTED_INDEX\",\n",
    "    metric_type=\"IP\",\n",
    ")\n",
    "index_params.add_index(\n",
    "    field_name=\"h3_r8\",\n",
    "    index_type=\"AUTOINDEX\",\n",
    ")"
   ]
  },
  {
   "cell_type": "markdown",
   "id": "ac482ed6",
   "metadata": {},
   "source": [
    "Create indexes for all search fields."
   ]
  },
  {
   "cell_type": "markdown",
   "id": "520ec776",
   "metadata": {},
   "source": [
    "---\n",
    "\n",
    "## 5. Create Collection & Indexes\n",
    "\n",
    "Create the Milvus collection and build indexes for dense and sparse fields. Index params include metric type and optional BM25 params for sparse fields."
   ]
  },
  {
   "cell_type": "code",
   "execution_count": 8,
   "id": "e7a72fe0",
   "metadata": {},
   "outputs": [],
   "source": [
    "# Build all indexes\n",
    "client.create_index(collection_name, index_params)"
   ]
  },
  {
   "cell_type": "markdown",
   "id": "93bfc811",
   "metadata": {},
   "source": [
    "Build all indexes."
   ]
  },
  {
   "cell_type": "code",
   "execution_count": 9,
   "id": "22372197",
   "metadata": {},
   "outputs": [],
   "source": [
    "# Step 6: Tokenize text for full-text search (using PyThaiNLP)\n",
    "from pythainlp.tokenize import word_tokenize\n",
    "\n",
    "stopwords = ['ร้าน', 'อาหาร', 'สาขา']\n",
    "\n",
    "def tokenize_and_filter(text: str) -> str:\n",
    "    tokens = word_tokenize(text, engine=\"newmm\")\n",
    "    return \" \".join([t for t in tokens if t not in stopwords and t.strip() != \"\"])"
   ]
  },
  {
   "cell_type": "markdown",
   "id": "60d4a99d",
   "metadata": {},
   "source": [
    "Tokenize text for BM25 search (remove stopwords)."
   ]
  },
  {
   "cell_type": "markdown",
   "id": "436b66e8",
   "metadata": {},
   "source": [
    "---\n",
    "\n",
    "## 6. Preprocess Data (Tokenize)\n",
    "\n",
    "Tokenize and clean restaurant text prior to embedding or BM25 indexing. We use PyThaiNLP for Thai tokenization."
   ]
  },
  {
   "cell_type": "code",
   "execution_count": 10,
   "id": "27117e52",
   "metadata": {},
   "outputs": [
    {
     "data": {
      "text/html": [
       "<div>\n",
       "<style scoped>\n",
       "    .dataframe tbody tr th:only-of-type {\n",
       "        vertical-align: middle;\n",
       "    }\n",
       "\n",
       "    .dataframe tbody tr th {\n",
       "        vertical-align: top;\n",
       "    }\n",
       "\n",
       "    .dataframe thead th {\n",
       "        text-align: right;\n",
       "    }\n",
       "</style>\n",
       "<table border=\"1\" class=\"dataframe\">\n",
       "  <thead>\n",
       "    <tr style=\"text-align: right;\">\n",
       "      <th></th>\n",
       "      <th>title</th>\n",
       "      <th>place_id</th>\n",
       "      <th>latitude</th>\n",
       "      <th>longitude</th>\n",
       "      <th>rating</th>\n",
       "      <th>reviews</th>\n",
       "      <th>types</th>\n",
       "      <th>type_ids</th>\n",
       "      <th>h3_r6</th>\n",
       "      <th>h3_r8</th>\n",
       "      <th>h3_r10</th>\n",
       "      <th>h3_r12</th>\n",
       "      <th>combined_text</th>\n",
       "      <th>tokenized_separate_by_whitespace</th>\n",
       "    </tr>\n",
       "  </thead>\n",
       "  <tbody>\n",
       "    <tr>\n",
       "      <th>0</th>\n",
       "      <td>Catory Pizza สาขาประชาอุทิศ</td>\n",
       "      <td>ChIJP5SViq6j4jAR6C9tANeGbcM</td>\n",
       "      <td>13.652919</td>\n",
       "      <td>100.496844</td>\n",
       "      <td>4.9</td>\n",
       "      <td>936.0</td>\n",
       "      <td>[\"Pizza restaurant\"]</td>\n",
       "      <td>[\"pizza_restaurant\"]</td>\n",
       "      <td>8664a4b27ffffff</td>\n",
       "      <td>8864a4b23dfffff</td>\n",
       "      <td>8a64a4b23c57fff</td>\n",
       "      <td>8c64a4b23cec9ff</td>\n",
       "      <td>Catory Pizza สาขาประชาอุทิศ pizza_restaurant</td>\n",
       "      <td>Catory Pizza ประชา อุทิศ pizza _restaurant</td>\n",
       "    </tr>\n",
       "    <tr>\n",
       "      <th>1</th>\n",
       "      <td>ERA VALLEY</td>\n",
       "      <td>ChIJS_B0uzKj4jARyoRkKkXMRo4</td>\n",
       "      <td>13.657025</td>\n",
       "      <td>100.468720</td>\n",
       "      <td>4.6</td>\n",
       "      <td>53.0</td>\n",
       "      <td>[\"Restaurant\"]</td>\n",
       "      <td>[\"restaurant\"]</td>\n",
       "      <td>8664a4b2fffffff</td>\n",
       "      <td>8864a4b2e5fffff</td>\n",
       "      <td>8a64a4b2e4cffff</td>\n",
       "      <td>8c64a4b2e4c13ff</td>\n",
       "      <td>ERA VALLEY restaurant</td>\n",
       "      <td>ERA VALLEY restaurant</td>\n",
       "    </tr>\n",
       "    <tr>\n",
       "      <th>2</th>\n",
       "      <td>HUANG หวง เกี๊ยวจีน 黄餃子館</td>\n",
       "      <td>ChIJGyEeYxSZ4jAREqdmdTa_mQ4</td>\n",
       "      <td>13.658768</td>\n",
       "      <td>100.468625</td>\n",
       "      <td>4.9</td>\n",
       "      <td>83.0</td>\n",
       "      <td>[\"Chinese restaurant\",\"Chinese takeaway\"]</td>\n",
       "      <td>[\"chinese_restaurant\",\"chinese_takeaway\"]</td>\n",
       "      <td>8664a4b2fffffff</td>\n",
       "      <td>8864a4b05bfffff</td>\n",
       "      <td>8a64a4b2e4dffff</td>\n",
       "      <td>8c64a4b2e4db5ff</td>\n",
       "      <td>HUANG หวง เกี๊ยวจีน 黄餃子館 chinese_restaurant,ch...</td>\n",
       "      <td>HUANG หวง เกี๊ยว จีน 黄餃子館 chinese _restaurant,...</td>\n",
       "    </tr>\n",
       "    <tr>\n",
       "      <th>3</th>\n",
       "      <td>เนื้อเทพ NueaThep (สาขาประชาอุทิศ)</td>\n",
       "      <td>ChIJX-tIU6aj4jARBc4SLkbXKM8</td>\n",
       "      <td>13.651996</td>\n",
       "      <td>100.497408</td>\n",
       "      <td>4.7</td>\n",
       "      <td>29.0</td>\n",
       "      <td>[\"Restaurant\",\"Noodle shop\"]</td>\n",
       "      <td>[\"restaurant\",\"noodle_shop\"]</td>\n",
       "      <td>8664a4b27ffffff</td>\n",
       "      <td>8864a4b23dfffff</td>\n",
       "      <td>8a64a4b23c57fff</td>\n",
       "      <td>8c64a4b23c541ff</td>\n",
       "      <td>เนื้อเทพ NueaThep (สาขาประชาอุทิศ) restaurant,...</td>\n",
       "      <td>เนื้อ เทพ NueaThep ( ประชา อุทิศ ) restaurant ...</td>\n",
       "    </tr>\n",
       "    <tr>\n",
       "      <th>4</th>\n",
       "      <td>Indian Barbeque Nation 57</td>\n",
       "      <td>ChIJBUSnKQqf4jAR_9kF8Wjqwu8</td>\n",
       "      <td>13.645877</td>\n",
       "      <td>100.498482</td>\n",
       "      <td>4.6</td>\n",
       "      <td>43.0</td>\n",
       "      <td>[\"Restaurant\"]</td>\n",
       "      <td>[\"restaurant\"]</td>\n",
       "      <td>8664a4b27ffffff</td>\n",
       "      <td>8864a4b239fffff</td>\n",
       "      <td>8a64a4b23997fff</td>\n",
       "      <td>8c64a4b239959ff</td>\n",
       "      <td>Indian Barbeque Nation 57 restaurant</td>\n",
       "      <td>Indian Barbeque Nation 57 restaurant</td>\n",
       "    </tr>\n",
       "  </tbody>\n",
       "</table>\n",
       "</div>"
      ],
      "text/plain": [
       "                                title                     place_id   latitude  \\\n",
       "0         Catory Pizza สาขาประชาอุทิศ  ChIJP5SViq6j4jAR6C9tANeGbcM  13.652919   \n",
       "1                          ERA VALLEY  ChIJS_B0uzKj4jARyoRkKkXMRo4  13.657025   \n",
       "2            HUANG หวง เกี๊ยวจีน 黄餃子館  ChIJGyEeYxSZ4jAREqdmdTa_mQ4  13.658768   \n",
       "3  เนื้อเทพ NueaThep (สาขาประชาอุทิศ)  ChIJX-tIU6aj4jARBc4SLkbXKM8  13.651996   \n",
       "4           Indian Barbeque Nation 57  ChIJBUSnKQqf4jAR_9kF8Wjqwu8  13.645877   \n",
       "\n",
       "    longitude  rating  reviews                                      types  \\\n",
       "0  100.496844     4.9    936.0                       [\"Pizza restaurant\"]   \n",
       "1  100.468720     4.6     53.0                             [\"Restaurant\"]   \n",
       "2  100.468625     4.9     83.0  [\"Chinese restaurant\",\"Chinese takeaway\"]   \n",
       "3  100.497408     4.7     29.0               [\"Restaurant\",\"Noodle shop\"]   \n",
       "4  100.498482     4.6     43.0                             [\"Restaurant\"]   \n",
       "\n",
       "                                    type_ids            h3_r6  \\\n",
       "0                       [\"pizza_restaurant\"]  8664a4b27ffffff   \n",
       "1                             [\"restaurant\"]  8664a4b2fffffff   \n",
       "2  [\"chinese_restaurant\",\"chinese_takeaway\"]  8664a4b2fffffff   \n",
       "3               [\"restaurant\",\"noodle_shop\"]  8664a4b27ffffff   \n",
       "4                             [\"restaurant\"]  8664a4b27ffffff   \n",
       "\n",
       "             h3_r8           h3_r10           h3_r12  \\\n",
       "0  8864a4b23dfffff  8a64a4b23c57fff  8c64a4b23cec9ff   \n",
       "1  8864a4b2e5fffff  8a64a4b2e4cffff  8c64a4b2e4c13ff   \n",
       "2  8864a4b05bfffff  8a64a4b2e4dffff  8c64a4b2e4db5ff   \n",
       "3  8864a4b23dfffff  8a64a4b23c57fff  8c64a4b23c541ff   \n",
       "4  8864a4b239fffff  8a64a4b23997fff  8c64a4b239959ff   \n",
       "\n",
       "                                       combined_text  \\\n",
       "0       Catory Pizza สาขาประชาอุทิศ pizza_restaurant   \n",
       "1                              ERA VALLEY restaurant   \n",
       "2  HUANG หวง เกี๊ยวจีน 黄餃子館 chinese_restaurant,ch...   \n",
       "3  เนื้อเทพ NueaThep (สาขาประชาอุทิศ) restaurant,...   \n",
       "4               Indian Barbeque Nation 57 restaurant   \n",
       "\n",
       "                    tokenized_separate_by_whitespace  \n",
       "0         Catory Pizza ประชา อุทิศ pizza _restaurant  \n",
       "1                              ERA VALLEY restaurant  \n",
       "2  HUANG หวง เกี๊ยว จีน 黄餃子館 chinese _restaurant,...  \n",
       "3  เนื้อ เทพ NueaThep ( ประชา อุทิศ ) restaurant ...  \n",
       "4               Indian Barbeque Nation 57 restaurant  "
      ]
     },
     "execution_count": 10,
     "metadata": {},
     "output_type": "execute_result"
    }
   ],
   "source": [
    "# Step 7: Load and preprocess restaurant data\n",
    "import pandas as pd\n",
    "\n",
    "df = pd.read_csv(\"../../data/2025/restaurants/sample_restaurants.csv\")\n",
    "df[\"combined_text\"] = df[[\"title\", \"type_ids\"]].agg(\" \".join, axis=1).str.replace(\"[\", \"\", regex=False).str.replace(\"]\", \"\", regex=False).str.replace(\"\\\"\", \"\", regex=False)\n",
    "df[\"tokenized_separate_by_whitespace\"] = df[\"combined_text\"].astype(str).apply(tokenize_and_filter)\n",
    "df.head()"
   ]
  },
  {
   "cell_type": "markdown",
   "id": "5324770b",
   "metadata": {},
   "source": [
    "Load and preprocess restaurant data."
   ]
  },
  {
   "cell_type": "code",
   "execution_count": 11,
   "id": "569cacb0",
   "metadata": {},
   "outputs": [
    {
     "name": "stderr",
     "output_type": "stream",
     "text": [
      "pre tokenize: 100%|██████████| 17/17 [00:00<00:00, 1975.10it/s]\n",
      "You're using a XLMRobertaTokenizerFast tokenizer. Please note that with a fast tokenizer, using the `__call__` method is faster than using a method to encode the text followed by a call to the `pad` method to get a padded encoding.\n",
      "Inference Embeddings: 100%|██████████| 17/17 [00:11<00:00,  1.49it/s]\n"
     ]
    }
   ],
   "source": [
    "# Step 8: Generate embeddings for all documents\n",
    "bge_m3_embedded_text = bge_m3_embedding_func.encode_documents(df[\"combined_text\"].tolist())\n",
    "labse_embedded_text = labse_embedding_func.encode_documents(df[\"combined_text\"].tolist())"
   ]
  },
  {
   "cell_type": "markdown",
   "id": "c25bf532",
   "metadata": {},
   "source": [
    "Generate dense embeddings for all records."
   ]
  },
  {
   "cell_type": "markdown",
   "id": "1c2cf147",
   "metadata": {},
   "source": [
    "---\n",
    "\n",
    "## 7. Generate Embeddings (Dense + Sparse)\n",
    "\n",
    "Use LaBSE and BGE-M3 embedding functions to produce dense vectors and BGE-M3's sparse outputs."
   ]
  },
  {
   "cell_type": "code",
   "execution_count": 12,
   "id": "876c6427",
   "metadata": {},
   "outputs": [],
   "source": [
    "# 8. Convert Sparse to Milvus Dict\n",
    "import numpy as np\n",
    "bge_m3_embedded_sparse_csr = bge_m3_embedded_text[\"sparse\"].tocsr()\n",
    "bge_m3_embedded_sparse_csr.sum_duplicates()\n",
    "bge_m3_embedded_sparse_csr.sort_indices()\n",
    "\n",
    "def bge_m3_embedded_sparse_row_to_dict(row):\n",
    "    s, e = bge_m3_embedded_sparse_csr.indptr[row], bge_m3_embedded_sparse_csr.indptr[row + 1]\n",
    "    idx = bge_m3_embedded_sparse_csr.indices[s:e]\n",
    "    val = bge_m3_embedded_sparse_csr.data[s:e].astype(np.float32, copy=False)\n",
    "    return {int(i): float(v) for i, v in zip(idx, val)}"
   ]
  },
  {
   "cell_type": "markdown",
   "id": "1613d309",
   "metadata": {},
   "source": [
    "Convert BGE-M3 sparse output to Milvus format."
   ]
  },
  {
   "cell_type": "code",
   "execution_count": 13,
   "id": "f47f5091",
   "metadata": {},
   "outputs": [
    {
     "name": "stdout",
     "output_type": "stream",
     "text": [
      "Inserted 268 records with embeddings.\n"
     ]
    }
   ],
   "source": [
    "# 9. Insert Data\n",
    "entities = [\n",
    "    {\n",
    "        \"id\": str(row[\"place_id\"]),\n",
    "        \"title\": str(row[\"title\"]),\n",
    "        \"latitude\": float(row['latitude']),\n",
    "        \"longitude\": float(row['longitude']),\n",
    "        \"text_tokenize\": str(row[\"tokenized_separate_by_whitespace\"]),\n",
    "        \"labse_dense_vector\": labse_embedded_text[idx],\n",
    "        \"bge_m3_dense_vector\": bge_m3_embedded_text[\"dense\"][idx].tolist(),\n",
    "        \"bge_m3_sparse_vector\": bge_m3_embedded_sparse_row_to_dict(idx),\n",
    "        \"h3_r8\": str(row[\"h3_r8\"]),\n",
    "    }\n",
    "    for idx, row in df.iterrows()\n",
    "]\n",
    "\n",
    "client.insert(collection_name, entities)\n",
    "client.flush(collection_name)\n",
    "client.load_collection(collection_name)\n",
    "print(f\"Inserted {len(entities)} records with embeddings.\")"
   ]
  },
  {
   "cell_type": "markdown",
   "id": "37f4e6bd",
   "metadata": {},
   "source": [
    "Insert all data and embeddings into Milvus."
   ]
  },
  {
   "cell_type": "code",
   "execution_count": 14,
   "id": "f18c8ed9",
   "metadata": {},
   "outputs": [
    {
     "name": "stdout",
     "output_type": "stream",
     "text": [
      "Number of 268 records in collection restaurants.\n"
     ]
    }
   ],
   "source": [
    "# Step 10: Check collection stats\n",
    "print(f\"Number of {client.get_collection_stats(collection_name)['row_count']} records in collection {collection_name}.\")"
   ]
  },
  {
   "cell_type": "markdown",
   "id": "ac945320",
   "metadata": {},
   "source": [
    "Show number of records in the collection."
   ]
  },
  {
   "cell_type": "markdown",
   "id": "51676ad2",
   "metadata": {},
   "source": [
    "---\n",
    "\n",
    "## 10. Collection Stats\n",
    "\n",
    "Check collection statistics and ensure data is loaded for search."
   ]
  },
  {
   "cell_type": "code",
   "execution_count": 15,
   "id": "93d96d54",
   "metadata": {},
   "outputs": [],
   "source": [
    "# Step 11: Prepare query embeddings for search\n",
    "query_text = \"ร้านอาหารญี่ปุ่น\"\n",
    "query_labse_embedding = labse_embedding_func.encode_queries([query_text])\n",
    "query_bge_m3_embedding = bge_m3_embedding_func.encode_queries([query_text])"
   ]
  },
  {
   "cell_type": "markdown",
   "id": "352f7566",
   "metadata": {},
   "source": [
    "Encode query for search."
   ]
  },
  {
   "cell_type": "markdown",
   "id": "866fd718",
   "metadata": {},
   "source": [
    "---\n",
    "\n",
    "## 11. Prepare Query Embeddings\n",
    "\n",
    "Encode your search query using the same embedding functions (LaBSE, BGE-M3) before running search examples."
   ]
  },
  {
   "cell_type": "markdown",
   "id": "9a51ca87",
   "metadata": {},
   "source": [
    "---\n",
    "\n",
    "## 12. Helpers (to_dataframe, search functions)\n",
    "\n",
    "Utility helpers for result formatting and search (e.g., `to_dataframe`)."
   ]
  },
  {
   "cell_type": "code",
   "execution_count": 16,
   "id": "7888f32e",
   "metadata": {},
   "outputs": [],
   "source": [
    "# Helper: Convert Milvus results to DataFrame for easy viewing\n",
    "from itertools import chain\n",
    "import pandas as pd\n",
    "\n",
    "def to_dataframe(data):\n",
    "    \"\"\"\n",
    "    Accepts either a list of dicts or a list of lists of dicts (like your example)\n",
    "    and returns a flattened DataFrame with `entity_*` columns.\n",
    "    \"\"\"\n",
    "    if data and isinstance(data[0], list):\n",
    "        records = list(chain.from_iterable(data))\n",
    "    else:\n",
    "        records = data\n",
    "    flat = []\n",
    "    for item in records:\n",
    "        base = {k: v for k, v in item.items() if k != \"entity\"}\n",
    "        entity = item.get(\"entity\") or {}\n",
    "        base.update({f\"{k}\": v for k, v in entity.items()})\n",
    "        flat.append(base)\n",
    "    df = pd.DataFrame(flat)\n",
    "    preferred = [\"id\", \"distance\", \"title\", \"latitude\", \"longitude\", \"h3_r8\"]\n",
    "    df = df.reindex(columns=[c for c in preferred if c in df.columns] + [c for c in df.columns if c not in preferred])\n",
    "    return df"
   ]
  },
  {
   "cell_type": "markdown",
   "id": "54b98f02",
   "metadata": {},
   "source": [
    "Convert Milvus results to DataFrame."
   ]
  },
  {
   "cell_type": "code",
   "execution_count": 17,
   "id": "4db766e5",
   "metadata": {},
   "outputs": [],
   "source": [
    "# 13. Search Helpers (search_labse, search_fulltext, search_bge_dense, search_bge_sparse)\n",
    "from IPython.display import display\n",
    "\n",
    "def search_labse(query: str, limit: int = 5):\n",
    "    \"\"\"Encode query with LaBSE and search the labse_dense_vector field.\"\"\"\n",
    "    q_emb = labse_embedding_func.encode_queries([query])\n",
    "    res = client.search(\n",
    "        collection_name=collection_name,\n",
    "        data=q_emb,\n",
    "        anns_field=\"labse_dense_vector\",\n",
    "        limit=limit,\n",
    "        search_params={\"metric_type\": \"COSINE\", \"params\": {\"nprobe\": 10}},\n",
    "        output_fields=[\"title\", \"latitude\", \"longitude\", \"h3_r8\"],\n",
    "    )\n",
    "    return to_dataframe(res)\n",
    "\n",
    "def search_fulltext(query: str, limit: int = 10):\n",
    "    \"\"\"Tokenize query and search the PyThaiNLP BM25 sparse vector field.\"\"\"\n",
    "    tokens = tokenize_and_filter(query).split()\n",
    "    res = client.search(\n",
    "        collection_name=collection_name,\n",
    "        data=tokens,\n",
    "        anns_field=\"pythainlp_sparse_vector\",\n",
    "        limit=limit,\n",
    "        search_params={\"metric_type\": \"BM25\", \"topk\": limit},\n",
    "        output_fields=[\"id\", \"title\", \"latitude\", \"longitude\", \"h3_r8\"],\n",
    "    )\n",
    "    return to_dataframe(res)\n",
    "\n",
    "def search_bge_dense(query: str, limit: int = 5):\n",
    "    \"\"\"Encode query with BGE-M3 and search its dense field.\"\"\"\n",
    "    q_emb = bge_m3_embedding_func.encode_queries([query])[\"dense\"]\n",
    "    res = client.search(\n",
    "        collection_name=collection_name,\n",
    "        data=q_emb,\n",
    "        anns_field=\"bge_m3_dense_vector\",\n",
    "        limit=limit,\n",
    "        search_params={\"metric_type\": \"IP\", \"params\": {\"nprobe\": 10}},\n",
    "        output_fields=[\"id\", \"title\", \"latitude\", \"longitude\", \"h3_r8\"],\n",
    "    )\n",
    "    return to_dataframe(res)\n",
    "\n",
    "def search_bge_sparse(query: str, limit: int = 5):\n",
    "    \"\"\"Encode query with BGE-M3 and search its sparse field.\"\"\"\n",
    "    q_emb = bge_m3_embedding_func.encode_queries([query])[\"sparse\"]\n",
    "    res = client.search(\n",
    "        collection_name=collection_name,\n",
    "        data=q_emb,\n",
    "        anns_field=\"bge_m3_sparse_vector\",\n",
    "        limit=limit,\n",
    "        search_params={\"metric_type\": \"IP\", \"params\": {\"nprobe\": 10}},\n",
    "        output_fields=[\"id\", \"title\", \"latitude\", \"longitude\", \"h3_r8\"],\n",
    "    )\n",
    "    return to_dataframe(res)"
   ]
  },
  {
   "cell_type": "markdown",
   "id": "7483ee58",
   "metadata": {},
   "source": [
    "Helper functions for all search types."
   ]
  },
  {
   "cell_type": "markdown",
   "id": "53869a68",
   "metadata": {},
   "source": [
    "---\n",
    "\n",
    "## 15. Comparison & Visualization\n",
    "\n",
    "Run the same query across LaBSE (dense), Full-text (BM25), BGE-M3 dense, and BGE-M3 sparse, then compare results side-by-side. Use the helper below to collect and display results for quick inspection."
   ]
  },
  {
   "cell_type": "markdown",
   "id": "1897a43a",
   "metadata": {},
   "source": [
    "#### 15.1 LaBSE Dense Search Example"
   ]
  },
  {
   "cell_type": "code",
   "execution_count": 18,
   "id": "617acabd",
   "metadata": {},
   "outputs": [
    {
     "data": {
      "text/html": [
       "<div>\n",
       "<style scoped>\n",
       "    .dataframe tbody tr th:only-of-type {\n",
       "        vertical-align: middle;\n",
       "    }\n",
       "\n",
       "    .dataframe tbody tr th {\n",
       "        vertical-align: top;\n",
       "    }\n",
       "\n",
       "    .dataframe thead th {\n",
       "        text-align: right;\n",
       "    }\n",
       "</style>\n",
       "<table border=\"1\" class=\"dataframe\">\n",
       "  <thead>\n",
       "    <tr style=\"text-align: right;\">\n",
       "      <th></th>\n",
       "      <th>id</th>\n",
       "      <th>distance</th>\n",
       "      <th>title</th>\n",
       "      <th>latitude</th>\n",
       "      <th>longitude</th>\n",
       "      <th>h3_r8</th>\n",
       "    </tr>\n",
       "  </thead>\n",
       "  <tbody>\n",
       "    <tr>\n",
       "      <th>0</th>\n",
       "      <td>ChIJG5cMlYmf4jARjI14Tvhzj5I</td>\n",
       "      <td>0.539514</td>\n",
       "      <td>Sushi Sora</td>\n",
       "      <td>13.726238</td>\n",
       "      <td>100.543182</td>\n",
       "      <td>8864a4b14dfffff</td>\n",
       "    </tr>\n",
       "    <tr>\n",
       "      <th>1</th>\n",
       "      <td>ChIJFepMlimf4jARW2MqZCN7GMQ</td>\n",
       "      <td>0.521155</td>\n",
       "      <td>sushimai ซูชิมั้ย ศรีบำเพ็ญ</td>\n",
       "      <td>13.721445</td>\n",
       "      <td>100.546730</td>\n",
       "      <td>8864a4b327fffff</td>\n",
       "    </tr>\n",
       "    <tr>\n",
       "      <th>2</th>\n",
       "      <td>ChIJC_IG4WGZ4jARJil71QyJnJQ</td>\n",
       "      <td>0.475555</td>\n",
       "      <td>Min Sushi by Sushi Cottage ずしコテージ</td>\n",
       "      <td>13.740359</td>\n",
       "      <td>100.525108</td>\n",
       "      <td>8864a4b10dfffff</td>\n",
       "    </tr>\n",
       "    <tr>\n",
       "      <th>3</th>\n",
       "      <td>ChIJ89mnRNGj4jARXFw7F8kdlu8</td>\n",
       "      <td>0.463266</td>\n",
       "      <td>ไข่หวานบ้านซูชิ สาขาประชาอุทิศ</td>\n",
       "      <td>13.660226</td>\n",
       "      <td>100.501335</td>\n",
       "      <td>8864a4b223fffff</td>\n",
       "    </tr>\n",
       "    <tr>\n",
       "      <th>4</th>\n",
       "      <td>ChIJT-MmY-mj4jARBxgvjap0hf0</td>\n",
       "      <td>0.424365</td>\n",
       "      <td>Suki Teenoi Susco Phuttha Bucha</td>\n",
       "      <td>13.651340</td>\n",
       "      <td>100.488991</td>\n",
       "      <td>8864a4b231fffff</td>\n",
       "    </tr>\n",
       "  </tbody>\n",
       "</table>\n",
       "</div>"
      ],
      "text/plain": [
       "                            id  distance                              title  \\\n",
       "0  ChIJG5cMlYmf4jARjI14Tvhzj5I  0.539514                         Sushi Sora   \n",
       "1  ChIJFepMlimf4jARW2MqZCN7GMQ  0.521155        sushimai ซูชิมั้ย ศรีบำเพ็ญ   \n",
       "2  ChIJC_IG4WGZ4jARJil71QyJnJQ  0.475555  Min Sushi by Sushi Cottage ずしコテージ   \n",
       "3  ChIJ89mnRNGj4jARXFw7F8kdlu8  0.463266     ไข่หวานบ้านซูชิ สาขาประชาอุทิศ   \n",
       "4  ChIJT-MmY-mj4jARBxgvjap0hf0  0.424365    Suki Teenoi Susco Phuttha Bucha   \n",
       "\n",
       "    latitude   longitude            h3_r8  \n",
       "0  13.726238  100.543182  8864a4b14dfffff  \n",
       "1  13.721445  100.546730  8864a4b327fffff  \n",
       "2  13.740359  100.525108  8864a4b10dfffff  \n",
       "3  13.660226  100.501335  8864a4b223fffff  \n",
       "4  13.651340  100.488991  8864a4b231fffff  "
      ]
     },
     "metadata": {},
     "output_type": "display_data"
    }
   ],
   "source": [
    "# LaBSE dense search example\n",
    "query = \"ซูชิ\"\n",
    "display(search_labse(query, limit=5))"
   ]
  },
  {
   "cell_type": "markdown",
   "id": "b7b20189",
   "metadata": {},
   "source": [
    "LaBSE dense search example."
   ]
  },
  {
   "cell_type": "markdown",
   "id": "b7ed5dbf",
   "metadata": {},
   "source": [
    "#### 15.2 Full-text search example"
   ]
  },
  {
   "cell_type": "code",
   "execution_count": 19,
   "id": "1bd21ab8",
   "metadata": {},
   "outputs": [
    {
     "data": {
      "text/plain": [
       "['ซูชิ']"
      ]
     },
     "execution_count": 19,
     "metadata": {},
     "output_type": "execute_result"
    }
   ],
   "source": [
    "# 15.2 Full-text Search Example\n",
    "query_text_tokenized = tokenize_and_filter(query).split()\n",
    "query_text_tokenized"
   ]
  },
  {
   "cell_type": "markdown",
   "id": "26257cb3",
   "metadata": {},
   "source": [
    "Tokenize query for BM25 search."
   ]
  },
  {
   "cell_type": "code",
   "execution_count": 20,
   "id": "3aabf9dc",
   "metadata": {},
   "outputs": [
    {
     "data": {
      "text/html": [
       "<div>\n",
       "<style scoped>\n",
       "    .dataframe tbody tr th:only-of-type {\n",
       "        vertical-align: middle;\n",
       "    }\n",
       "\n",
       "    .dataframe tbody tr th {\n",
       "        vertical-align: top;\n",
       "    }\n",
       "\n",
       "    .dataframe thead th {\n",
       "        text-align: right;\n",
       "    }\n",
       "</style>\n",
       "<table border=\"1\" class=\"dataframe\">\n",
       "  <thead>\n",
       "    <tr style=\"text-align: right;\">\n",
       "      <th></th>\n",
       "      <th>id</th>\n",
       "      <th>distance</th>\n",
       "      <th>title</th>\n",
       "      <th>latitude</th>\n",
       "      <th>longitude</th>\n",
       "      <th>h3_r8</th>\n",
       "    </tr>\n",
       "  </thead>\n",
       "  <tbody>\n",
       "    <tr>\n",
       "      <th>0</th>\n",
       "      <td>ChIJ89mnRNGj4jARXFw7F8kdlu8</td>\n",
       "      <td>4.527886</td>\n",
       "      <td>ไข่หวานบ้านซูชิ สาขาประชาอุทิศ</td>\n",
       "      <td>13.660226</td>\n",
       "      <td>100.501335</td>\n",
       "      <td>8864a4b223fffff</td>\n",
       "    </tr>\n",
       "    <tr>\n",
       "      <th>1</th>\n",
       "      <td>ChIJFepMlimf4jARW2MqZCN7GMQ</td>\n",
       "      <td>4.527886</td>\n",
       "      <td>sushimai ซูชิมั้ย ศรีบำเพ็ญ</td>\n",
       "      <td>13.721445</td>\n",
       "      <td>100.546730</td>\n",
       "      <td>8864a4b327fffff</td>\n",
       "    </tr>\n",
       "  </tbody>\n",
       "</table>\n",
       "</div>"
      ],
      "text/plain": [
       "                            id  distance                           title  \\\n",
       "0  ChIJ89mnRNGj4jARXFw7F8kdlu8  4.527886  ไข่หวานบ้านซูชิ สาขาประชาอุทิศ   \n",
       "1  ChIJFepMlimf4jARW2MqZCN7GMQ  4.527886     sushimai ซูชิมั้ย ศรีบำเพ็ญ   \n",
       "\n",
       "    latitude   longitude            h3_r8  \n",
       "0  13.660226  100.501335  8864a4b223fffff  \n",
       "1  13.721445  100.546730  8864a4b327fffff  "
      ]
     },
     "metadata": {},
     "output_type": "display_data"
    }
   ],
   "source": [
    "display(search_fulltext(query, limit=10))"
   ]
  },
  {
   "cell_type": "markdown",
   "id": "d50deff8",
   "metadata": {},
   "source": [
    "BM25 full-text search example."
   ]
  },
  {
   "cell_type": "markdown",
   "id": "36899997",
   "metadata": {},
   "source": [
    "#### 15.3 BGE M3 dense search example"
   ]
  },
  {
   "cell_type": "code",
   "execution_count": 21,
   "id": "6fb7fff9",
   "metadata": {},
   "outputs": [
    {
     "data": {
      "text/html": [
       "<div>\n",
       "<style scoped>\n",
       "    .dataframe tbody tr th:only-of-type {\n",
       "        vertical-align: middle;\n",
       "    }\n",
       "\n",
       "    .dataframe tbody tr th {\n",
       "        vertical-align: top;\n",
       "    }\n",
       "\n",
       "    .dataframe thead th {\n",
       "        text-align: right;\n",
       "    }\n",
       "</style>\n",
       "<table border=\"1\" class=\"dataframe\">\n",
       "  <thead>\n",
       "    <tr style=\"text-align: right;\">\n",
       "      <th></th>\n",
       "      <th>id</th>\n",
       "      <th>distance</th>\n",
       "      <th>title</th>\n",
       "      <th>latitude</th>\n",
       "      <th>longitude</th>\n",
       "      <th>h3_r8</th>\n",
       "    </tr>\n",
       "  </thead>\n",
       "  <tbody>\n",
       "    <tr>\n",
       "      <th>0</th>\n",
       "      <td>ChIJ89mnRNGj4jARXFw7F8kdlu8</td>\n",
       "      <td>0.609167</td>\n",
       "      <td>ไข่หวานบ้านซูชิ สาขาประชาอุทิศ</td>\n",
       "      <td>13.660226</td>\n",
       "      <td>100.501335</td>\n",
       "      <td>8864a4b223fffff</td>\n",
       "    </tr>\n",
       "    <tr>\n",
       "      <th>1</th>\n",
       "      <td>ChIJFepMlimf4jARW2MqZCN7GMQ</td>\n",
       "      <td>0.597811</td>\n",
       "      <td>sushimai ซูชิมั้ย ศรีบำเพ็ญ</td>\n",
       "      <td>13.721445</td>\n",
       "      <td>100.546730</td>\n",
       "      <td>8864a4b327fffff</td>\n",
       "    </tr>\n",
       "    <tr>\n",
       "      <th>2</th>\n",
       "      <td>ChIJG5cMlYmf4jARjI14Tvhzj5I</td>\n",
       "      <td>0.567272</td>\n",
       "      <td>Sushi Sora</td>\n",
       "      <td>13.726238</td>\n",
       "      <td>100.543182</td>\n",
       "      <td>8864a4b14dfffff</td>\n",
       "    </tr>\n",
       "  </tbody>\n",
       "</table>\n",
       "</div>"
      ],
      "text/plain": [
       "                            id  distance                           title  \\\n",
       "0  ChIJ89mnRNGj4jARXFw7F8kdlu8  0.609167  ไข่หวานบ้านซูชิ สาขาประชาอุทิศ   \n",
       "1  ChIJFepMlimf4jARW2MqZCN7GMQ  0.597811     sushimai ซูชิมั้ย ศรีบำเพ็ญ   \n",
       "2  ChIJG5cMlYmf4jARjI14Tvhzj5I  0.567272                      Sushi Sora   \n",
       "\n",
       "    latitude   longitude            h3_r8  \n",
       "0  13.660226  100.501335  8864a4b223fffff  \n",
       "1  13.721445  100.546730  8864a4b327fffff  \n",
       "2  13.726238  100.543182  8864a4b14dfffff  "
      ]
     },
     "execution_count": 21,
     "metadata": {},
     "output_type": "execute_result"
    }
   ],
   "source": [
    "search_bge_dense(query, limit=3)"
   ]
  },
  {
   "cell_type": "markdown",
   "id": "b69ffa05",
   "metadata": {},
   "source": [
    "BGE-M3 dense search example."
   ]
  },
  {
   "cell_type": "markdown",
   "id": "3b01d73b",
   "metadata": {},
   "source": [
    "#### 15.4 BEG M3 sparse search example"
   ]
  },
  {
   "cell_type": "code",
   "execution_count": 22,
   "id": "dc5f7413",
   "metadata": {},
   "outputs": [
    {
     "data": {
      "text/html": [
       "<div>\n",
       "<style scoped>\n",
       "    .dataframe tbody tr th:only-of-type {\n",
       "        vertical-align: middle;\n",
       "    }\n",
       "\n",
       "    .dataframe tbody tr th {\n",
       "        vertical-align: top;\n",
       "    }\n",
       "\n",
       "    .dataframe thead th {\n",
       "        text-align: right;\n",
       "    }\n",
       "</style>\n",
       "<table border=\"1\" class=\"dataframe\">\n",
       "  <thead>\n",
       "    <tr style=\"text-align: right;\">\n",
       "      <th></th>\n",
       "      <th>id</th>\n",
       "      <th>distance</th>\n",
       "      <th>title</th>\n",
       "      <th>latitude</th>\n",
       "      <th>longitude</th>\n",
       "      <th>h3_r8</th>\n",
       "    </tr>\n",
       "  </thead>\n",
       "  <tbody>\n",
       "    <tr>\n",
       "      <th>0</th>\n",
       "      <td>ChIJFepMlimf4jARW2MqZCN7GMQ</td>\n",
       "      <td>0.095425</td>\n",
       "      <td>sushimai ซูชิมั้ย ศรีบำเพ็ญ</td>\n",
       "      <td>13.721445</td>\n",
       "      <td>100.546730</td>\n",
       "      <td>8864a4b327fffff</td>\n",
       "    </tr>\n",
       "    <tr>\n",
       "      <th>1</th>\n",
       "      <td>ChIJ89mnRNGj4jARXFw7F8kdlu8</td>\n",
       "      <td>0.060696</td>\n",
       "      <td>ไข่หวานบ้านซูชิ สาขาประชาอุทิศ</td>\n",
       "      <td>13.660226</td>\n",
       "      <td>100.501335</td>\n",
       "      <td>8864a4b223fffff</td>\n",
       "    </tr>\n",
       "    <tr>\n",
       "      <th>2</th>\n",
       "      <td>ChIJ7crcpPaj4jAR3QlRUKokiWI</td>\n",
       "      <td>0.000433</td>\n",
       "      <td>KFC @Susco square</td>\n",
       "      <td>13.650912</td>\n",
       "      <td>100.488785</td>\n",
       "      <td>8864a4b231fffff</td>\n",
       "    </tr>\n",
       "  </tbody>\n",
       "</table>\n",
       "</div>"
      ],
      "text/plain": [
       "                            id  distance                           title  \\\n",
       "0  ChIJFepMlimf4jARW2MqZCN7GMQ  0.095425     sushimai ซูชิมั้ย ศรีบำเพ็ญ   \n",
       "1  ChIJ89mnRNGj4jARXFw7F8kdlu8  0.060696  ไข่หวานบ้านซูชิ สาขาประชาอุทิศ   \n",
       "2  ChIJ7crcpPaj4jAR3QlRUKokiWI  0.000433               KFC @Susco square   \n",
       "\n",
       "    latitude   longitude            h3_r8  \n",
       "0  13.721445  100.546730  8864a4b327fffff  \n",
       "1  13.660226  100.501335  8864a4b223fffff  \n",
       "2  13.650912  100.488785  8864a4b231fffff  "
      ]
     },
     "execution_count": 22,
     "metadata": {},
     "output_type": "execute_result"
    }
   ],
   "source": [
    "search_bge_sparse(query, limit=3)"
   ]
  },
  {
   "cell_type": "markdown",
   "id": "bbb57eeb",
   "metadata": {},
   "source": [
    "BGE-M3 sparse search example."
   ]
  },
  {
   "cell_type": "markdown",
   "id": "3cb53787",
   "metadata": {},
   "source": [
    "#### 15.5 Hybrid Search Example: LaBSE + Full-text BM25\n",
    "\n",
    "Combine LaBSE dense vector search and BM25 full-text search. This cell retrieves results from both, normalizes and merges scores, and ranks by a weighted sum for a hybrid result."
   ]
  },
  {
   "cell_type": "code",
   "execution_count": 23,
   "id": "b3e523c1",
   "metadata": {},
   "outputs": [
    {
     "data": {
      "text/html": [
       "<div>\n",
       "<style scoped>\n",
       "    .dataframe tbody tr th:only-of-type {\n",
       "        vertical-align: middle;\n",
       "    }\n",
       "\n",
       "    .dataframe tbody tr th {\n",
       "        vertical-align: top;\n",
       "    }\n",
       "\n",
       "    .dataframe thead th {\n",
       "        text-align: right;\n",
       "    }\n",
       "</style>\n",
       "<table border=\"1\" class=\"dataframe\">\n",
       "  <thead>\n",
       "    <tr style=\"text-align: right;\">\n",
       "      <th></th>\n",
       "      <th>id</th>\n",
       "      <th>distance</th>\n",
       "      <th>title</th>\n",
       "      <th>latitude</th>\n",
       "      <th>longitude</th>\n",
       "      <th>h3_r8</th>\n",
       "    </tr>\n",
       "  </thead>\n",
       "  <tbody>\n",
       "    <tr>\n",
       "      <th>0</th>\n",
       "      <td>ChIJFepMlimf4jARW2MqZCN7GMQ</td>\n",
       "      <td>0.811099</td>\n",
       "      <td>sushimai ซูชิมั้ย ศรีบำเพ็ญ</td>\n",
       "      <td>13.721445</td>\n",
       "      <td>100.546730</td>\n",
       "      <td>8864a4b327fffff</td>\n",
       "    </tr>\n",
       "    <tr>\n",
       "      <th>1</th>\n",
       "      <td>ChIJ89mnRNGj4jARXFw7F8kdlu8</td>\n",
       "      <td>0.796627</td>\n",
       "      <td>ไข่หวานบ้านซูชิ สาขาประชาอุทิศ</td>\n",
       "      <td>13.660226</td>\n",
       "      <td>100.501335</td>\n",
       "      <td>8864a4b223fffff</td>\n",
       "    </tr>\n",
       "    <tr>\n",
       "      <th>2</th>\n",
       "      <td>ChIJG5cMlYmf4jARjI14Tvhzj5I</td>\n",
       "      <td>0.384878</td>\n",
       "      <td>Sushi Sora</td>\n",
       "      <td>13.726238</td>\n",
       "      <td>100.543182</td>\n",
       "      <td>8864a4b14dfffff</td>\n",
       "    </tr>\n",
       "    <tr>\n",
       "      <th>3</th>\n",
       "      <td>ChIJC_IG4WGZ4jARJil71QyJnJQ</td>\n",
       "      <td>0.368889</td>\n",
       "      <td>Min Sushi by Sushi Cottage ずしコテージ</td>\n",
       "      <td>13.740359</td>\n",
       "      <td>100.525108</td>\n",
       "      <td>8864a4b10dfffff</td>\n",
       "    </tr>\n",
       "    <tr>\n",
       "      <th>4</th>\n",
       "      <td>ChIJT-MmY-mj4jARBxgvjap0hf0</td>\n",
       "      <td>0.356091</td>\n",
       "      <td>Suki Teenoi Susco Phuttha Bucha</td>\n",
       "      <td>13.651340</td>\n",
       "      <td>100.488991</td>\n",
       "      <td>8864a4b231fffff</td>\n",
       "    </tr>\n",
       "  </tbody>\n",
       "</table>\n",
       "</div>"
      ],
      "text/plain": [
       "                            id  distance                              title  \\\n",
       "0  ChIJFepMlimf4jARW2MqZCN7GMQ  0.811099        sushimai ซูชิมั้ย ศรีบำเพ็ญ   \n",
       "1  ChIJ89mnRNGj4jARXFw7F8kdlu8  0.796627     ไข่หวานบ้านซูชิ สาขาประชาอุทิศ   \n",
       "2  ChIJG5cMlYmf4jARjI14Tvhzj5I  0.384878                         Sushi Sora   \n",
       "3  ChIJC_IG4WGZ4jARJil71QyJnJQ  0.368889  Min Sushi by Sushi Cottage ずしコテージ   \n",
       "4  ChIJT-MmY-mj4jARBxgvjap0hf0  0.356091    Suki Teenoi Susco Phuttha Bucha   \n",
       "\n",
       "    latitude   longitude            h3_r8  \n",
       "0  13.721445  100.546730  8864a4b327fffff  \n",
       "1  13.660226  100.501335  8864a4b223fffff  \n",
       "2  13.726238  100.543182  8864a4b14dfffff  \n",
       "3  13.740359  100.525108  8864a4b10dfffff  \n",
       "4  13.651340  100.488991  8864a4b231fffff  "
      ]
     },
     "metadata": {},
     "output_type": "display_data"
    }
   ],
   "source": [
    "# Hybrid search: combine LaBSE dense and BM25 full-text using client.hybrid_search (float fix)\n",
    "from pymilvus import AnnSearchRequest, WeightedRanker\n",
    "\n",
    "# Prepare LaBSE dense query (should be a list of list of float)\n",
    "labse_query = labse_embedding_func.encode_queries([query])  # returns [[...]]\n",
    "labse_request = AnnSearchRequest(\n",
    "    data=labse_query,  # [[float, float, ...]]\n",
    "    anns_field=\"labse_dense_vector\",\n",
    "    param={\n",
    "        \"metric_type\": \"COSINE\",\n",
    "        \"params\": {\"nprobe\": 10}\n",
    "    },\n",
    "    limit=10\n",
    ")\n",
    "\n",
    "# Prepare BM25 full-text query (data should be list of str)\n",
    "fulltext_tokens = [str(t) for t in tokenize_and_filter(query).split()]\n",
    "fulltext_request = AnnSearchRequest(\n",
    "    data=fulltext_tokens,  # [str, str, ...]\n",
    "    anns_field=\"pythainlp_sparse_vector\",\n",
    "    param={\n",
    "        \"metric_type\": \"BM25\"\n",
    "    },\n",
    "    limit=10\n",
    ")\n",
    "\n",
    "# Weighted ranker: weights must match number of requests\n",
    "ranker = WeightedRanker(0.5, 0.5)\n",
    "\n",
    "# Run hybrid search\n",
    "hybrid_res = client.hybrid_search(\n",
    "    collection_name=collection_name,\n",
    "    reqs=[labse_request, fulltext_request],\n",
    "    ranker=ranker,\n",
    "    limit=5,\n",
    "    output_fields=[\"id\", \"title\", \"latitude\", \"longitude\", \"h3_r8\"]\n",
    ")\n",
    "\n",
    "display(to_dataframe(hybrid_res))"
   ]
  },
  {
   "cell_type": "markdown",
   "id": "3531de32",
   "metadata": {},
   "source": [
    "#### 15.6 Hybrid Search Example: BGE-M3 Dense + Sparse\n",
    "\n",
    "Combine BGE-M3 dense and sparse vectors for hybrid search. This uses the same embedding model's dense and sparse representations, ranked by WeightedRanker."
   ]
  },
  {
   "cell_type": "code",
   "execution_count": 24,
   "id": "e1bd892d",
   "metadata": {},
   "outputs": [
    {
     "data": {
      "text/html": [
       "<div>\n",
       "<style scoped>\n",
       "    .dataframe tbody tr th:only-of-type {\n",
       "        vertical-align: middle;\n",
       "    }\n",
       "\n",
       "    .dataframe tbody tr th {\n",
       "        vertical-align: top;\n",
       "    }\n",
       "\n",
       "    .dataframe thead th {\n",
       "        text-align: right;\n",
       "    }\n",
       "</style>\n",
       "<table border=\"1\" class=\"dataframe\">\n",
       "  <thead>\n",
       "    <tr style=\"text-align: right;\">\n",
       "      <th></th>\n",
       "      <th>id</th>\n",
       "      <th>distance</th>\n",
       "      <th>title</th>\n",
       "      <th>latitude</th>\n",
       "      <th>longitude</th>\n",
       "      <th>h3_r8</th>\n",
       "    </tr>\n",
       "  </thead>\n",
       "  <tbody>\n",
       "    <tr>\n",
       "      <th>0</th>\n",
       "      <td>ChIJE4Fo9SWf4jARBjP_LjHfd2c</td>\n",
       "      <td>0.489091</td>\n",
       "      <td>Fuji Restaurant</td>\n",
       "      <td>13.727249</td>\n",
       "      <td>100.540962</td>\n",
       "      <td>8864a4b14dfffff</td>\n",
       "    </tr>\n",
       "    <tr>\n",
       "      <th>1</th>\n",
       "      <td>ChIJNcxj5ZGZ4jAR1QmlhMQwj5g</td>\n",
       "      <td>0.488160</td>\n",
       "      <td>Nijiki</td>\n",
       "      <td>13.734060</td>\n",
       "      <td>100.526360</td>\n",
       "      <td>8864a4b147fffff</td>\n",
       "    </tr>\n",
       "    <tr>\n",
       "      <th>2</th>\n",
       "      <td>ChIJT1SX7Q-f4jARPs72c600vVQ</td>\n",
       "      <td>0.484106</td>\n",
       "      <td>Ko' Edo</td>\n",
       "      <td>13.730033</td>\n",
       "      <td>100.534241</td>\n",
       "      <td>8864a4b141fffff</td>\n",
       "    </tr>\n",
       "    <tr>\n",
       "      <th>3</th>\n",
       "      <td>ChIJ6bsdFyOf4jARwkK6xhgKl1A</td>\n",
       "      <td>0.482674</td>\n",
       "      <td>ROUX'S</td>\n",
       "      <td>13.723981</td>\n",
       "      <td>100.534882</td>\n",
       "      <td>8864a4b141fffff</td>\n",
       "    </tr>\n",
       "    <tr>\n",
       "      <th>4</th>\n",
       "      <td>ChIJ_53rJw6f4jARqQOQOs-5dkk</td>\n",
       "      <td>0.480409</td>\n",
       "      <td>Maji Curry</td>\n",
       "      <td>13.746146</td>\n",
       "      <td>100.532379</td>\n",
       "      <td>8864a4b16bfffff</td>\n",
       "    </tr>\n",
       "  </tbody>\n",
       "</table>\n",
       "</div>"
      ],
      "text/plain": [
       "                            id  distance            title   latitude  \\\n",
       "0  ChIJE4Fo9SWf4jARBjP_LjHfd2c  0.489091  Fuji Restaurant  13.727249   \n",
       "1  ChIJNcxj5ZGZ4jAR1QmlhMQwj5g  0.488160           Nijiki  13.734060   \n",
       "2  ChIJT1SX7Q-f4jARPs72c600vVQ  0.484106          Ko' Edo  13.730033   \n",
       "3  ChIJ6bsdFyOf4jARwkK6xhgKl1A  0.482674           ROUX'S  13.723981   \n",
       "4  ChIJ_53rJw6f4jARqQOQOs-5dkk  0.480409       Maji Curry  13.746146   \n",
       "\n",
       "    longitude            h3_r8  \n",
       "0  100.540962  8864a4b14dfffff  \n",
       "1  100.526360  8864a4b147fffff  \n",
       "2  100.534241  8864a4b141fffff  \n",
       "3  100.534882  8864a4b141fffff  \n",
       "4  100.532379  8864a4b16bfffff  "
      ]
     },
     "metadata": {},
     "output_type": "display_data"
    }
   ],
   "source": [
    "# Hybrid search: combine BGE-M3 dense and sparse using client.hybrid_search\n",
    "from pymilvus import AnnSearchRequest, WeightedRanker\n",
    "import numpy as np\n",
    "\n",
    "# Prepare BGE-M3 dense query\n",
    "bge_dense_query = query_bge_m3_embedding[\"dense\"]  # [float, ...]\n",
    "bge_dense_request = AnnSearchRequest(\n",
    "    data=bge_dense_query,  # [float, ...]\n",
    "    anns_field=\"bge_m3_dense_vector\",\n",
    "    param={\n",
    "        \"metric_type\": \"IP\",\n",
    "        \"params\": {\"nprobe\": 10}\n",
    "    },\n",
    "    limit=10\n",
    ")\n",
    "\n",
    "# Prepare BGE-M3 sparse query\n",
    "bge_sparse_query = query_bge_m3_embedding[\"sparse\"]  # dict\n",
    "bge_sparse_request = AnnSearchRequest(\n",
    "    data=bge_sparse_query,  # sparse_dict\n",
    "    anns_field=\"bge_m3_sparse_vector\",\n",
    "    param={\n",
    "        \"metric_type\": \"IP\"\n",
    "    },\n",
    "    limit=10\n",
    ")\n",
    "\n",
    "# Weighted ranker: adjust weights (e.g., favor dense more)\n",
    "ranker = WeightedRanker(0.7, 0.3)  # 70% dense, 30% sparse\n",
    "\n",
    "# Run hybrid search\n",
    "hybrid_res = client.hybrid_search(\n",
    "    collection_name=collection_name,\n",
    "    reqs=[bge_dense_request, bge_sparse_request],\n",
    "    ranker=ranker,\n",
    "    limit=5,\n",
    "    output_fields=[\"id\", \"title\", \"latitude\", \"longitude\", \"h3_r8\"]\n",
    ")\n",
    "\n",
    "display(to_dataframe(hybrid_res))"
   ]
  }
 ],
 "metadata": {
  "kernelspec": {
   "display_name": ".venv",
   "language": "python",
   "name": "python3"
  },
  "language_info": {
   "codemirror_mode": {
    "name": "ipython",
    "version": 3
   },
   "file_extension": ".py",
   "mimetype": "text/x-python",
   "name": "python",
   "nbconvert_exporter": "python",
   "pygments_lexer": "ipython3",
   "version": "3.12.3"
  }
 },
 "nbformat": 4,
 "nbformat_minor": 5
}
