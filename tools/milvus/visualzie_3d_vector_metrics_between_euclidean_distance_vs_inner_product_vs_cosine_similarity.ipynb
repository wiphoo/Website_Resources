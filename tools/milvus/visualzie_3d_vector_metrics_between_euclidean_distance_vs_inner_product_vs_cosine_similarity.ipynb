{
 "cells": [
  {
   "cell_type": "markdown",
   "id": "9330ab89",
   "metadata": {},
   "source": [
    "# 3D Vector Similarity Metrics\n",
    "\n",
    "Interactive 3D visualizations of three fundamental vector similarity measures:\n",
    "- **Euclidean Distance**: Straight-line distance between vectors\n",
    "- **Inner Product**: Dot product and vector projections\n",
    "- **Cosine Similarity**: Angle between normalized vectors\n",
    "- **Multi-vector Comparison**: Query vs multiple candidates with all metrics\n",
    "\n",
    "\n",
    "## 🎯 What You'll Learn\n",
    "\n",
    "This notebook demonstrates how vector databases work by visualizing similarity metrics in 3D space. Understanding these metrics is crucial for:\n",
    "\n",
    "- **Vector Databases**: Choosing the right similarity measure for your use case\n",
    "- **Machine Learning**: Interpreting embeddings and feature vectors\n",
    "- **Information Retrieval**: Ranking search results by relevance\n",
    "- **Recommendation Systems**: Finding similar items or users\n",
    "\n",
    "## 📊 Metric Overview\n",
    "\n",
    "| Metric | Formula | Range | Use Case | Interpretation |\n",
    "|--------|---------|-------|----------|----------------|\n",
    "| **Euclidean Distance** | `√(Σ(xᵢ-yᵢ)²)` | [0, ∞) | Spatial proximity | Smaller = more similar |\n",
    "| **Inner Product** | `Σ(xᵢ×yᵢ)` | (-∞, ∞) | Recommendations | Higher = better match |\n",
    "| **Cosine Similarity** | `(a·b)/(‖a‖×‖b‖)` | [-1, 1] | Text similarity | Closer to 1 = more similar |\n",
    "\n",
    "## 🔧 Prerequisites\n",
    "\n",
    "- Basic understanding of vectors and linear algebra\n",
    "- Familiarity with Python (NumPy basics helpful)\n",
    "- Interest in machine learning and information retrieval\n",
    "\n",
    "## 📈 Learning Objectives\n",
    "\n",
    "By the end of this notebook, you'll understand:\n",
    "1. How each similarity metric works geometrically\n",
    "2. When to use each metric for different applications\n",
    "3. How vector databases rank and retrieve similar vectors\n",
    "4. Practical implementation examples for real-world use cases\n",
    "\n",
    "📖 For more context, see the full blog post at: [wiphoo.dev](https://go.wiphoo.dev/nhL42L)"
   ]
  },
  {
   "cell_type": "markdown",
   "id": "5182d8b8",
   "metadata": {},
   "source": [
    "## Setup: Import Libraries"
   ]
  },
  {
   "cell_type": "code",
   "execution_count": 1,
   "id": "d9dea930",
   "metadata": {},
   "outputs": [
    {
     "name": "stdout",
     "output_type": "stream",
     "text": [
      "Looking in indexes: https://pypi.org/simple, https://packagecloud.io/github/git-lfs/pypi/simple\n",
      "Requirement already satisfied: numpy in .../.venv/lib/python3.12/site-packages (2.2.6)\n",
      "Requirement already satisfied: plotly in .../.venv/lib/python3.12/site-packages (6.3.0)\n",
      "Requirement already satisfied: ipywidgets in .../.venv/lib/python3.12/site-packages (8.1.7)\n",
      "Requirement already satisfied: narwhals>=1.15.1 in .../.venv/lib/python3.12/site-packages (from plotly) (2.5.0)\n",
      "Requirement already satisfied: packaging in .../.venv/lib/python3.12/site-packages (from plotly) (25.0)\n",
      "Requirement already satisfied: comm>=0.1.3 in .../.venv/lib/python3.12/site-packages (from ipywidgets) (0.2.2)\n",
      "Requirement already satisfied: ipython>=6.1.0 in .../.venv/lib/python3.12/site-packages (from ipywidgets) (9.3.0)\n",
      "Requirement already satisfied: traitlets>=4.3.1 in .../.venv/lib/python3.12/site-packages (from ipywidgets) (5.14.3)\n",
      "Requirement already satisfied: widgetsnbextension~=4.0.14 in .../.venv/lib/python3.12/site-packages (from ipywidgets) (4.0.14)\n",
      "Requirement already satisfied: jupyterlab_widgets~=3.0.15 in .../.venv/lib/python3.12/site-packages (from ipywidgets) (3.0.15)\n",
      "Requirement already satisfied: decorator in .../.venv/lib/python3.12/site-packages (from ipython>=6.1.0->ipywidgets) (5.2.1)\n",
      "Requirement already satisfied: ipython-pygments-lexers in .../.venv/lib/python3.12/site-packages (from ipython>=6.1.0->ipywidgets) (1.1.1)\n",
      "Requirement already satisfied: jedi>=0.16 in .../.venv/lib/python3.12/site-packages (from ipython>=6.1.0->ipywidgets) (0.19.2)\n",
      "Requirement already satisfied: matplotlib-inline in .../.venv/lib/python3.12/site-packages (from ipython>=6.1.0->ipywidgets) (0.1.7)\n",
      "Requirement already satisfied: pexpect>4.3 in .../.venv/lib/python3.12/site-packages (from ipython>=6.1.0->ipywidgets) (4.9.0)\n",
      "Requirement already satisfied: prompt_toolkit<3.1.0,>=3.0.41 in .../.venv/lib/python3.12/site-packages (from ipython>=6.1.0->ipywidgets) (3.0.51)\n",
      "Requirement already satisfied: pygments>=2.4.0 in .../.venv/lib/python3.12/site-packages (from ipython>=6.1.0->ipywidgets) (2.19.1)\n",
      "Requirement already satisfied: stack_data in .../.venv/lib/python3.12/site-packages (from ipython>=6.1.0->ipywidgets) (0.6.3)\n",
      "Requirement already satisfied: comm>=0.1.3 in .../.venv/lib/python3.12/site-packages (from ipywidgets) (0.2.2)\n",
      "Requirement already satisfied: ipython>=6.1.0 in .../.venv/lib/python3.12/site-packages (from ipywidgets) (9.3.0)\n",
      "Requirement already satisfied: traitlets>=4.3.1 in .../.venv/lib/python3.12/site-packages (from ipywidgets) (5.14.3)\n",
      "Requirement already satisfied: widgetsnbextension~=4.0.14 in .../.venv/lib/python3.12/site-packages (from ipywidgets) (4.0.14)\n",
      "Requirement already satisfied: jupyterlab_widgets~=3.0.15 in .../.venv/lib/python3.12/site-packages (from ipywidgets) (3.0.15)\n",
      "Requirement already satisfied: decorator in .../.venv/lib/python3.12/site-packages (from ipython>=6.1.0->ipywidgets) (5.2.1)\n",
      "Requirement already satisfied: ipython-pygments-lexers in .../.venv/lib/python3.12/site-packages (from ipython>=6.1.0->ipywidgets) (1.1.1)\n",
      "Requirement already satisfied: jedi>=0.16 in .../.venv/lib/python3.12/site-packages (from ipython>=6.1.0->ipywidgets) (0.19.2)\n",
      "Requirement already satisfied: matplotlib-inline in .../.venv/lib/python3.12/site-packages (from ipython>=6.1.0->ipywidgets) (0.1.7)\n",
      "Requirement already satisfied: pexpect>4.3 in .../.venv/lib/python3.12/site-packages (from ipython>=6.1.0->ipywidgets) (4.9.0)\n",
      "Requirement already satisfied: prompt_toolkit<3.1.0,>=3.0.41 in .../.venv/lib/python3.12/site-packages (from ipython>=6.1.0->ipywidgets) (3.0.51)\n",
      "Requirement already satisfied: pygments>=2.4.0 in .../.venv/lib/python3.12/site-packages (from ipython>=6.1.0->ipywidgets) (2.19.1)\n",
      "Requirement already satisfied: stack_data in .../.venv/lib/python3.12/site-packages (from ipython>=6.1.0->ipywidgets) (0.6.3)\n",
      "Requirement already satisfied: parso<0.9.0,>=0.8.4 in .../.venv/lib/python3.12/site-packages (from jedi>=0.16->ipython>=6.1.0->ipywidgets) (0.8.4)\n",
      "Requirement already satisfied: ptyprocess>=0.5 in .../.venv/lib/python3.12/site-packages (from pexpect>4.3->ipython>=6.1.0->ipywidgets) (0.7.0)\n",
      "Requirement already satisfied: wcwidth in .../.venv/lib/python3.12/site-packages (from prompt_toolkit<3.1.0,>=3.0.41->ipython>=6.1.0->ipywidgets) (0.2.13)\n",
      "Requirement already satisfied: executing>=1.2.0 in .../.venv/lib/python3.12/site-packages (from stack_data->ipython>=6.1.0->ipywidgets) (2.2.0)\n",
      "Requirement already satisfied: asttokens>=2.1.0 in .../.venv/lib/python3.12/site-packages (from stack_data->ipython>=6.1.0->ipywidgets) (3.0.0)\n",
      "Requirement already satisfied: pure-eval in .../.venv/lib/python3.12/site-packages (from stack_data->ipython>=6.1.0->ipywidgets) (0.2.3)\n",
      "Requirement already satisfied: parso<0.9.0,>=0.8.4 in .../.venv/lib/python3.12/site-packages (from jedi>=0.16->ipython>=6.1.0->ipywidgets) (0.8.4)\n",
      "Requirement already satisfied: ptyprocess>=0.5 in .../.venv/lib/python3.12/site-packages (from pexpect>4.3->ipython>=6.1.0->ipywidgets) (0.7.0)\n",
      "Requirement already satisfied: wcwidth in .../.venv/lib/python3.12/site-packages (from prompt_toolkit<3.1.0,>=3.0.41->ipython>=6.1.0->ipywidgets) (0.2.13)\n",
      "Requirement already satisfied: executing>=1.2.0 in .../.venv/lib/python3.12/site-packages (from stack_data->ipython>=6.1.0->ipywidgets) (2.2.0)\n",
      "Requirement already satisfied: asttokens>=2.1.0 in .../.venv/lib/python3.12/site-packages (from stack_data->ipython>=6.1.0->ipywidgets) (3.0.0)\n",
      "Requirement already satisfied: pure-eval in .../.venv/lib/python3.12/site-packages (from stack_data->ipython>=6.1.0->ipywidgets) (0.2.3)\n",
      "Note: you may need to restart the kernel to use updated packages.\n",
      "Note: you may need to restart the kernel to use updated packages.\n"
     ]
    }
   ],
   "source": [
    "%pip install numpy plotly ipywidgets"
   ]
  },
  {
   "cell_type": "code",
   "execution_count": 2,
   "id": "089c37d7",
   "metadata": {},
   "outputs": [],
   "source": [
    "import numpy as np\n",
    "import plotly.graph_objects as go\n",
    "from plotly.subplots import make_subplots\n",
    "import ipywidgets as widgets\n",
    "from IPython.display import display, clear_output"
   ]
  },
  {
   "cell_type": "markdown",
   "id": "5bce0f6e",
   "metadata": {},
   "source": [
    "## Define Example Vectors"
   ]
  },
  {
   "cell_type": "code",
   "execution_count": 3,
   "id": "20d76c43",
   "metadata": {},
   "outputs": [
    {
     "name": "stdout",
     "output_type": "stream",
     "text": [
      "Example Vectors:\n",
      "Query (v₁): [3.  1.5 2. ]\n",
      "Candidate 1 (v₂): [1.  2.5 0.5]\n",
      "Candidate 2 (v₃): [-2.   1.   1.5]\n",
      "Candidate 3 (v₄): [ 0.5 -1.   3. ]\n"
     ]
    }
   ],
   "source": [
    "# Query vector and candidate vectors for demonstration\n",
    "v1 = np.array([3.0, 1.5, 2.0])  # Query vector (red)\n",
    "v2 = np.array([1.0, 2.5, 0.5])  # Candidate 1: Similar direction (blue)\n",
    "v3 = np.array([-2.0, 1.0, 1.5]) # Candidate 2: Opposite direction (green)\n",
    "v4 = np.array([0.5, -1.0, 3.0]) # Candidate 3: Different direction (orange)\n",
    "\n",
    "vectors = [v1, v2, v3, v4]\n",
    "vector_names = [\"Query (v₁)\", \"Candidate 1 (v₂)\", \"Candidate 2 (v₃)\", \"Candidate 3 (v₄)\"]\n",
    "vector_colors = [\"red\", \"blue\", \"green\", \"orange\"]\n",
    "\n",
    "print(\"Example Vectors:\")\n",
    "for i, (vec, name) in enumerate(zip(vectors, vector_names), 1):\n",
    "    print(f\"{name}: {vec}\")"
   ]
  },
  {
   "cell_type": "markdown",
   "id": "33f8384d",
   "metadata": {},
   "source": [
    "## Core Similarity Functions"
   ]
  },
  {
   "cell_type": "code",
   "execution_count": 4,
   "id": "8e296497",
   "metadata": {},
   "outputs": [],
   "source": [
    "def euclidean_distance(a, b):\n",
    "    \"\"\"Calculate straight-line distance between two vectors\"\"\"\n",
    "    return np.linalg.norm(a - b)\n",
    "\n",
    "def inner_product(a, b):\n",
    "    \"\"\"Calculate dot product of two vectors\"\"\"\n",
    "    return np.dot(a, b)\n",
    "\n",
    "def cosine_similarity(a, b):\n",
    "    \"\"\"Calculate cosine of angle between normalized vectors\"\"\"\n",
    "    norm_a = np.linalg.norm(a)\n",
    "    norm_b = np.linalg.norm(b)\n",
    "    if norm_a == 0 or norm_b == 0:\n",
    "        return 0.0\n",
    "    return np.dot(a, b) / (norm_a * norm_b)\n",
    "\n",
    "def calculate_metrics(vec1, vec2):\n",
    "    \"\"\"Calculate all three similarity metrics between two vectors\"\"\"\n",
    "    return {\n",
    "        'euclidean_dist': euclidean_distance(vec1, vec2),\n",
    "        'dot_product': inner_product(vec1, vec2),\n",
    "        'cosine_sim': cosine_similarity(vec1, vec2),\n",
    "        'norm1': np.linalg.norm(vec1),\n",
    "        'norm2': np.linalg.norm(vec2)\n",
    "    }"
   ]
  },
  {
   "cell_type": "markdown",
   "id": "079a70f5",
   "metadata": {},
   "source": [
    "## Calculate Similarity Scores"
   ]
  },
  {
   "cell_type": "code",
   "execution_count": 5,
   "id": "de9ab710",
   "metadata": {},
   "outputs": [
    {
     "name": "stdout",
     "output_type": "stream",
     "text": [
      "Similarity Scores (Query v₁ vs Candidates):\n",
      "v₁ vs v2:\n",
      "  Euclidean Distance: 2.693\n",
      "  Inner Product:      7.750\n",
      "  Cosine Similarity:  0.725\n",
      "\n",
      "v₁ vs v3:\n",
      "  Euclidean Distance: 5.050\n",
      "  Inner Product:      -1.500\n",
      "  Cosine Similarity:  -0.143\n",
      "\n",
      "v₁ vs v4:\n",
      "  Euclidean Distance: 3.674\n",
      "  Inner Product:      6.000\n",
      "  Cosine Similarity:  0.480\n",
      "\n"
     ]
    }
   ],
   "source": [
    "# Calculate metrics for query vector (v1) vs all candidates\n",
    "metrics_v1 = {}\n",
    "for i, vec in enumerate(vectors[1:], 2):  # v2, v3, v4\n",
    "    metrics_v1[f'v1_v{i}'] = calculate_metrics(v1, vec)\n",
    "\n",
    "print(\"Similarity Scores (Query v₁ vs Candidates):\")\n",
    "for pair, metrics in metrics_v1.items():\n",
    "    v_num = pair[-1]\n",
    "    print(f\"v₁ vs v{v_num}:\")\n",
    "    print(f\"  Euclidean Distance: {metrics['euclidean_dist']:.3f}\")\n",
    "    print(f\"  Inner Product:      {metrics['dot_product']:.3f}\")\n",
    "    print(f\"  Cosine Similarity:  {metrics['cosine_sim']:.3f}\")\n",
    "    print()"
   ]
  },
  {
   "cell_type": "markdown",
   "id": "fc12922f",
   "metadata": {},
   "source": [
    "## Plotting Helper Functions"
   ]
  },
  {
   "cell_type": "code",
   "execution_count": 6,
   "id": "af11c14d",
   "metadata": {},
   "outputs": [],
   "source": [
    "def make_layout(title):\n",
    "    \"\"\"Create consistent 3D plot layout\"\"\"\n",
    "    return go.Layout(\n",
    "        title=title,\n",
    "        scene=dict(\n",
    "            xaxis=dict(title=\"x\", gridcolor=\"lightgray\", linecolor=\"black\", linewidth=2),\n",
    "            yaxis=dict(title=\"y\", gridcolor=\"lightgray\", linecolor=\"black\", linewidth=2),\n",
    "            zaxis=dict(title=\"z\", gridcolor=\"lightgray\", linecolor=\"black\", linewidth=2),\n",
    "            aspectmode=\"cube\"\n",
    "        ),\n",
    "        showlegend=True,\n",
    "        paper_bgcolor=\"white\",\n",
    "        plot_bgcolor=\"white\"\n",
    "    )\n",
    "\n",
    "def vector_trace(v, name, color=None, show_text=True):\n",
    "    \"\"\"Create a 3D vector trace from origin to point v\"\"\"\n",
    "    mode = \"lines+markers+text\" if show_text else \"lines+markers\"\n",
    "    return go.Scatter3d(\n",
    "        x=[0, v[0]], y=[0, v[1]], z=[0, v[2]],\n",
    "        mode=mode,\n",
    "        line=dict(width=6, color=color),\n",
    "        marker=dict(size=4, color=color),\n",
    "        text=[None, name],\n",
    "        textposition=\"top center\",\n",
    "        name=name,\n",
    "        opacity=1.0\n",
    "    )\n",
    "\n",
    "def tip_to_tip_trace(p, q, dash=\"dot\", color=\"green\", name=\"‖a − b‖\"):\n",
    "    \"\"\"Create a line trace between two points p and q\"\"\"\n",
    "    return go.Scatter3d(\n",
    "        x=[p[0], q[0]], y=[p[1], q[1]], z=[p[2], q[2]],\n",
    "        mode=\"lines+text\",\n",
    "        line=dict(width=4, dash=dash, color=color),\n",
    "        text=[None, f\"{name} = {np.linalg.norm(p-q):.3f}\"],\n",
    "        textposition=\"middle right\",\n",
    "        name=name,\n",
    "        opacity=1.0\n",
    "    )\n",
    "\n",
    "def text3d(x, y, z, text, color=\"black\"):\n",
    "    \"\"\"Create 3D text annotation at position (x,y,z)\"\"\"\n",
    "    return go.Scatter3d(\n",
    "        x=[x], y=[y], z=[z],\n",
    "        mode=\"text\",\n",
    "        text=[text],\n",
    "        textfont=dict(color=color),\n",
    "        name=\"label\",\n",
    "        opacity=1.0\n",
    "    )\n",
    "\n",
    "def projection_of_b_on_a(a, b):\n",
    "    \"\"\"Calculate projection of vector b onto vector a\"\"\"\n",
    "    na2 = float(np.dot(a, a))\n",
    "    coeff = float(np.dot(a, b) / na2) if na2 > 0 else 0.0\n",
    "    return coeff * a, coeff"
   ]
  },
  {
   "cell_type": "markdown",
   "id": "1353d7be",
   "metadata": {},
   "source": [
    "## 1. Euclidean Distance Visualization"
   ]
  },
  {
   "cell_type": "code",
   "execution_count": 7,
   "id": "1193859a",
   "metadata": {},
   "outputs": [
    {
     "data": {
      "application/vnd.plotly.v1+json": {
       "config": {
        "plotlyServerURL": "https://plot.ly"
       },
       "data": [
        {
         "line": {
          "color": "red",
          "width": 6
         },
         "marker": {
          "color": "red",
          "size": 4
         },
         "mode": "lines+markers+text",
         "name": "Query (v₁)",
         "opacity": 1,
         "text": [
          null,
          "Query (v₁)"
         ],
         "textposition": "top center",
         "type": "scatter3d",
         "x": [
          0,
          3
         ],
         "y": [
          0,
          1.5
         ],
         "z": [
          0,
          2
         ]
        },
        {
         "line": {
          "color": "blue",
          "width": 6
         },
         "marker": {
          "color": "blue",
          "size": 4
         },
         "mode": "lines+markers+text",
         "name": "Candidate 1 (v₂)",
         "opacity": 1,
         "text": [
          null,
          "Candidate 1 (v₂)"
         ],
         "textposition": "top center",
         "type": "scatter3d",
         "x": [
          0,
          1
         ],
         "y": [
          0,
          2.5
         ],
         "z": [
          0,
          0.5
         ]
        },
        {
         "line": {
          "color": "green",
          "dash": "dot",
          "width": 4
         },
         "mode": "lines+text",
         "name": "‖v₁ − v₂‖",
         "opacity": 1,
         "text": [
          null,
          "‖v₁ − v₂‖ = 2.693"
         ],
         "textposition": "middle right",
         "type": "scatter3d",
         "x": [
          3,
          1
         ],
         "y": [
          1.5,
          2.5
         ],
         "z": [
          2,
          0.5
         ]
        }
       ],
       "layout": {
        "margin": {
         "b": 0,
         "l": 0,
         "r": 0,
         "t": 50
        },
        "paper_bgcolor": "white",
        "plot_bgcolor": "white",
        "scene": {
         "aspectmode": "cube",
         "xaxis": {
          "gridcolor": "lightgray",
          "linecolor": "black",
          "linewidth": 2,
          "title": {
           "text": "x"
          }
         },
         "yaxis": {
          "gridcolor": "lightgray",
          "linecolor": "black",
          "linewidth": 2,
          "title": {
           "text": "y"
          }
         },
         "zaxis": {
          "gridcolor": "lightgray",
          "linecolor": "black",
          "linewidth": 2,
          "title": {
           "text": "z"
          }
         }
        },
        "showlegend": true,
        "template": {
         "data": {
          "bar": [
           {
            "error_x": {
             "color": "#2a3f5f"
            },
            "error_y": {
             "color": "#2a3f5f"
            },
            "marker": {
             "line": {
              "color": "#E5ECF6",
              "width": 0.5
             },
             "pattern": {
              "fillmode": "overlay",
              "size": 10,
              "solidity": 0.2
             }
            },
            "type": "bar"
           }
          ],
          "barpolar": [
           {
            "marker": {
             "line": {
              "color": "#E5ECF6",
              "width": 0.5
             },
             "pattern": {
              "fillmode": "overlay",
              "size": 10,
              "solidity": 0.2
             }
            },
            "type": "barpolar"
           }
          ],
          "carpet": [
           {
            "aaxis": {
             "endlinecolor": "#2a3f5f",
             "gridcolor": "white",
             "linecolor": "white",
             "minorgridcolor": "white",
             "startlinecolor": "#2a3f5f"
            },
            "baxis": {
             "endlinecolor": "#2a3f5f",
             "gridcolor": "white",
             "linecolor": "white",
             "minorgridcolor": "white",
             "startlinecolor": "#2a3f5f"
            },
            "type": "carpet"
           }
          ],
          "choropleth": [
           {
            "colorbar": {
             "outlinewidth": 0,
             "ticks": ""
            },
            "type": "choropleth"
           }
          ],
          "contour": [
           {
            "colorbar": {
             "outlinewidth": 0,
             "ticks": ""
            },
            "colorscale": [
             [
              0,
              "#0d0887"
             ],
             [
              0.1111111111111111,
              "#46039f"
             ],
             [
              0.2222222222222222,
              "#7201a8"
             ],
             [
              0.3333333333333333,
              "#9c179e"
             ],
             [
              0.4444444444444444,
              "#bd3786"
             ],
             [
              0.5555555555555556,
              "#d8576b"
             ],
             [
              0.6666666666666666,
              "#ed7953"
             ],
             [
              0.7777777777777778,
              "#fb9f3a"
             ],
             [
              0.8888888888888888,
              "#fdca26"
             ],
             [
              1,
              "#f0f921"
             ]
            ],
            "type": "contour"
           }
          ],
          "contourcarpet": [
           {
            "colorbar": {
             "outlinewidth": 0,
             "ticks": ""
            },
            "type": "contourcarpet"
           }
          ],
          "heatmap": [
           {
            "colorbar": {
             "outlinewidth": 0,
             "ticks": ""
            },
            "colorscale": [
             [
              0,
              "#0d0887"
             ],
             [
              0.1111111111111111,
              "#46039f"
             ],
             [
              0.2222222222222222,
              "#7201a8"
             ],
             [
              0.3333333333333333,
              "#9c179e"
             ],
             [
              0.4444444444444444,
              "#bd3786"
             ],
             [
              0.5555555555555556,
              "#d8576b"
             ],
             [
              0.6666666666666666,
              "#ed7953"
             ],
             [
              0.7777777777777778,
              "#fb9f3a"
             ],
             [
              0.8888888888888888,
              "#fdca26"
             ],
             [
              1,
              "#f0f921"
             ]
            ],
            "type": "heatmap"
           }
          ],
          "histogram": [
           {
            "marker": {
             "pattern": {
              "fillmode": "overlay",
              "size": 10,
              "solidity": 0.2
             }
            },
            "type": "histogram"
           }
          ],
          "histogram2d": [
           {
            "colorbar": {
             "outlinewidth": 0,
             "ticks": ""
            },
            "colorscale": [
             [
              0,
              "#0d0887"
             ],
             [
              0.1111111111111111,
              "#46039f"
             ],
             [
              0.2222222222222222,
              "#7201a8"
             ],
             [
              0.3333333333333333,
              "#9c179e"
             ],
             [
              0.4444444444444444,
              "#bd3786"
             ],
             [
              0.5555555555555556,
              "#d8576b"
             ],
             [
              0.6666666666666666,
              "#ed7953"
             ],
             [
              0.7777777777777778,
              "#fb9f3a"
             ],
             [
              0.8888888888888888,
              "#fdca26"
             ],
             [
              1,
              "#f0f921"
             ]
            ],
            "type": "histogram2d"
           }
          ],
          "histogram2dcontour": [
           {
            "colorbar": {
             "outlinewidth": 0,
             "ticks": ""
            },
            "colorscale": [
             [
              0,
              "#0d0887"
             ],
             [
              0.1111111111111111,
              "#46039f"
             ],
             [
              0.2222222222222222,
              "#7201a8"
             ],
             [
              0.3333333333333333,
              "#9c179e"
             ],
             [
              0.4444444444444444,
              "#bd3786"
             ],
             [
              0.5555555555555556,
              "#d8576b"
             ],
             [
              0.6666666666666666,
              "#ed7953"
             ],
             [
              0.7777777777777778,
              "#fb9f3a"
             ],
             [
              0.8888888888888888,
              "#fdca26"
             ],
             [
              1,
              "#f0f921"
             ]
            ],
            "type": "histogram2dcontour"
           }
          ],
          "mesh3d": [
           {
            "colorbar": {
             "outlinewidth": 0,
             "ticks": ""
            },
            "type": "mesh3d"
           }
          ],
          "parcoords": [
           {
            "line": {
             "colorbar": {
              "outlinewidth": 0,
              "ticks": ""
             }
            },
            "type": "parcoords"
           }
          ],
          "pie": [
           {
            "automargin": true,
            "type": "pie"
           }
          ],
          "scatter": [
           {
            "fillpattern": {
             "fillmode": "overlay",
             "size": 10,
             "solidity": 0.2
            },
            "type": "scatter"
           }
          ],
          "scatter3d": [
           {
            "line": {
             "colorbar": {
              "outlinewidth": 0,
              "ticks": ""
             }
            },
            "marker": {
             "colorbar": {
              "outlinewidth": 0,
              "ticks": ""
             }
            },
            "type": "scatter3d"
           }
          ],
          "scattercarpet": [
           {
            "marker": {
             "colorbar": {
              "outlinewidth": 0,
              "ticks": ""
             }
            },
            "type": "scattercarpet"
           }
          ],
          "scattergeo": [
           {
            "marker": {
             "colorbar": {
              "outlinewidth": 0,
              "ticks": ""
             }
            },
            "type": "scattergeo"
           }
          ],
          "scattergl": [
           {
            "marker": {
             "colorbar": {
              "outlinewidth": 0,
              "ticks": ""
             }
            },
            "type": "scattergl"
           }
          ],
          "scattermap": [
           {
            "marker": {
             "colorbar": {
              "outlinewidth": 0,
              "ticks": ""
             }
            },
            "type": "scattermap"
           }
          ],
          "scattermapbox": [
           {
            "marker": {
             "colorbar": {
              "outlinewidth": 0,
              "ticks": ""
             }
            },
            "type": "scattermapbox"
           }
          ],
          "scatterpolar": [
           {
            "marker": {
             "colorbar": {
              "outlinewidth": 0,
              "ticks": ""
             }
            },
            "type": "scatterpolar"
           }
          ],
          "scatterpolargl": [
           {
            "marker": {
             "colorbar": {
              "outlinewidth": 0,
              "ticks": ""
             }
            },
            "type": "scatterpolargl"
           }
          ],
          "scatterternary": [
           {
            "marker": {
             "colorbar": {
              "outlinewidth": 0,
              "ticks": ""
             }
            },
            "type": "scatterternary"
           }
          ],
          "surface": [
           {
            "colorbar": {
             "outlinewidth": 0,
             "ticks": ""
            },
            "colorscale": [
             [
              0,
              "#0d0887"
             ],
             [
              0.1111111111111111,
              "#46039f"
             ],
             [
              0.2222222222222222,
              "#7201a8"
             ],
             [
              0.3333333333333333,
              "#9c179e"
             ],
             [
              0.4444444444444444,
              "#bd3786"
             ],
             [
              0.5555555555555556,
              "#d8576b"
             ],
             [
              0.6666666666666666,
              "#ed7953"
             ],
             [
              0.7777777777777778,
              "#fb9f3a"
             ],
             [
              0.8888888888888888,
              "#fdca26"
             ],
             [
              1,
              "#f0f921"
             ]
            ],
            "type": "surface"
           }
          ],
          "table": [
           {
            "cells": {
             "fill": {
              "color": "#EBF0F8"
             },
             "line": {
              "color": "white"
             }
            },
            "header": {
             "fill": {
              "color": "#C8D4E3"
             },
             "line": {
              "color": "white"
             }
            },
            "type": "table"
           }
          ]
         },
         "layout": {
          "annotationdefaults": {
           "arrowcolor": "#2a3f5f",
           "arrowhead": 0,
           "arrowwidth": 1
          },
          "autotypenumbers": "strict",
          "coloraxis": {
           "colorbar": {
            "outlinewidth": 0,
            "ticks": ""
           }
          },
          "colorscale": {
           "diverging": [
            [
             0,
             "#8e0152"
            ],
            [
             0.1,
             "#c51b7d"
            ],
            [
             0.2,
             "#de77ae"
            ],
            [
             0.3,
             "#f1b6da"
            ],
            [
             0.4,
             "#fde0ef"
            ],
            [
             0.5,
             "#f7f7f7"
            ],
            [
             0.6,
             "#e6f5d0"
            ],
            [
             0.7,
             "#b8e186"
            ],
            [
             0.8,
             "#7fbc41"
            ],
            [
             0.9,
             "#4d9221"
            ],
            [
             1,
             "#276419"
            ]
           ],
           "sequential": [
            [
             0,
             "#0d0887"
            ],
            [
             0.1111111111111111,
             "#46039f"
            ],
            [
             0.2222222222222222,
             "#7201a8"
            ],
            [
             0.3333333333333333,
             "#9c179e"
            ],
            [
             0.4444444444444444,
             "#bd3786"
            ],
            [
             0.5555555555555556,
             "#d8576b"
            ],
            [
             0.6666666666666666,
             "#ed7953"
            ],
            [
             0.7777777777777778,
             "#fb9f3a"
            ],
            [
             0.8888888888888888,
             "#fdca26"
            ],
            [
             1,
             "#f0f921"
            ]
           ],
           "sequentialminus": [
            [
             0,
             "#0d0887"
            ],
            [
             0.1111111111111111,
             "#46039f"
            ],
            [
             0.2222222222222222,
             "#7201a8"
            ],
            [
             0.3333333333333333,
             "#9c179e"
            ],
            [
             0.4444444444444444,
             "#bd3786"
            ],
            [
             0.5555555555555556,
             "#d8576b"
            ],
            [
             0.6666666666666666,
             "#ed7953"
            ],
            [
             0.7777777777777778,
             "#fb9f3a"
            ],
            [
             0.8888888888888888,
             "#fdca26"
            ],
            [
             1,
             "#f0f921"
            ]
           ]
          },
          "colorway": [
           "#636efa",
           "#EF553B",
           "#00cc96",
           "#ab63fa",
           "#FFA15A",
           "#19d3f3",
           "#FF6692",
           "#B6E880",
           "#FF97FF",
           "#FECB52"
          ],
          "font": {
           "color": "#2a3f5f"
          },
          "geo": {
           "bgcolor": "white",
           "lakecolor": "white",
           "landcolor": "#E5ECF6",
           "showlakes": true,
           "showland": true,
           "subunitcolor": "white"
          },
          "hoverlabel": {
           "align": "left"
          },
          "hovermode": "closest",
          "mapbox": {
           "style": "light"
          },
          "paper_bgcolor": "white",
          "plot_bgcolor": "#E5ECF6",
          "polar": {
           "angularaxis": {
            "gridcolor": "white",
            "linecolor": "white",
            "ticks": ""
           },
           "bgcolor": "#E5ECF6",
           "radialaxis": {
            "gridcolor": "white",
            "linecolor": "white",
            "ticks": ""
           }
          },
          "scene": {
           "xaxis": {
            "backgroundcolor": "#E5ECF6",
            "gridcolor": "white",
            "gridwidth": 2,
            "linecolor": "white",
            "showbackground": true,
            "ticks": "",
            "zerolinecolor": "white"
           },
           "yaxis": {
            "backgroundcolor": "#E5ECF6",
            "gridcolor": "white",
            "gridwidth": 2,
            "linecolor": "white",
            "showbackground": true,
            "ticks": "",
            "zerolinecolor": "white"
           },
           "zaxis": {
            "backgroundcolor": "#E5ECF6",
            "gridcolor": "white",
            "gridwidth": 2,
            "linecolor": "white",
            "showbackground": true,
            "ticks": "",
            "zerolinecolor": "white"
           }
          },
          "shapedefaults": {
           "line": {
            "color": "#2a3f5f"
           }
          },
          "ternary": {
           "aaxis": {
            "gridcolor": "white",
            "linecolor": "white",
            "ticks": ""
           },
           "baxis": {
            "gridcolor": "white",
            "linecolor": "white",
            "ticks": ""
           },
           "bgcolor": "#E5ECF6",
           "caxis": {
            "gridcolor": "white",
            "linecolor": "white",
            "ticks": ""
           }
          },
          "title": {
           "x": 0.05
          },
          "xaxis": {
           "automargin": true,
           "gridcolor": "white",
           "linecolor": "white",
           "ticks": "",
           "title": {
            "standoff": 15
           },
           "zerolinecolor": "white",
           "zerolinewidth": 2
          },
          "yaxis": {
           "automargin": true,
           "gridcolor": "white",
           "linecolor": "white",
           "ticks": "",
           "title": {
            "standoff": 15
           },
           "zerolinecolor": "white",
           "zerolinewidth": 2
          }
         }
        },
        "title": {
         "text": "Euclidean Distance: Straight-line distance between vectors"
        }
       }
      }
     },
     "metadata": {},
     "output_type": "display_data"
    }
   ],
   "source": [
    "# Euclidean Distance: Straight-line distance between vectors\n",
    "fig = go.Figure(layout=make_layout(\"Euclidean Distance: Straight-line distance between vectors\"))\n",
    "fig.add_trace(vector_trace(v1, \"Query (v₁)\", color=\"red\"))\n",
    "fig.add_trace(vector_trace(v2, \"Candidate 1 (v₂)\", color=\"blue\"))\n",
    "fig.add_trace(tip_to_tip_trace(v1, v2, dash=\"dot\", color=\"green\", name=\"‖v₁ − v₂‖\"))\n",
    "fig.update_layout(margin=dict(l=0, r=0, t=50, b=0))\n",
    "fig.show()"
   ]
  },
  {
   "cell_type": "markdown",
   "id": "5fab3c73",
   "metadata": {},
   "source": [
    "## 2. Inner Product Visualization"
   ]
  },
  {
   "cell_type": "code",
   "execution_count": 8,
   "id": "6526d1d4",
   "metadata": {},
   "outputs": [
    {
     "data": {
      "application/vnd.plotly.v1+json": {
       "config": {
        "plotlyServerURL": "https://plot.ly"
       },
       "data": [
        {
         "line": {
          "color": "red",
          "width": 6
         },
         "marker": {
          "color": "red",
          "size": 4
         },
         "mode": "lines+markers+text",
         "name": "Query (v₁)",
         "opacity": 1,
         "text": [
          null,
          "Query (v₁)"
         ],
         "textposition": "top center",
         "type": "scatter3d",
         "x": [
          0,
          3
         ],
         "y": [
          0,
          1.5
         ],
         "z": [
          0,
          2
         ]
        },
        {
         "line": {
          "color": "blue",
          "width": 6
         },
         "marker": {
          "color": "blue",
          "size": 4
         },
         "mode": "lines+markers+text",
         "name": "Candidate 1 (v₂)",
         "opacity": 1,
         "text": [
          null,
          "Candidate 1 (v₂)"
         ],
         "textposition": "top center",
         "type": "scatter3d",
         "x": [
          0,
          1
         ],
         "y": [
          0,
          2.5
         ],
         "z": [
          0,
          0.5
         ]
        },
        {
         "line": {
          "color": "green",
          "width": 6
         },
         "marker": {
          "color": "green",
          "size": 4
         },
         "mode": "lines+markers+text",
         "name": "proj_{v₁}(v₂)",
         "opacity": 1,
         "text": [
          null,
          "proj_{v₁}(v₂)"
         ],
         "textposition": "top center",
         "type": "scatter3d",
         "x": [
          0,
          1.5245901639344264
         ],
         "y": [
          0,
          0.7622950819672132
         ],
         "z": [
          0,
          1.0163934426229508
         ]
        },
        {
         "line": {
          "color": "orange",
          "width": 6
         },
         "marker": {
          "color": "orange",
          "size": 4
         },
         "mode": "lines+markers+text",
         "name": "⊥ component",
         "opacity": 1,
         "text": [
          null,
          "⊥ component"
         ],
         "textposition": "top center",
         "type": "scatter3d",
         "x": [
          0,
          -0.5245901639344264
         ],
         "y": [
          0,
          1.7377049180327868
         ],
         "z": [
          0,
          -0.5163934426229508
         ]
        },
        {
         "line": {
          "color": "green",
          "dash": "dot",
          "width": 2
         },
         "mode": "lines",
         "showlegend": false,
         "type": "scatter3d",
         "x": [
          1.5245901639344264,
          1.755056547813639,
          1.671664157388548
         ],
         "y": [
          0.7622950819672132,
          0.8775282739068195,
          1.1537655671899334
         ],
         "z": [
          1.0163934426229508,
          1.170037698542426,
          1.0879483142177269
         ]
        },
        {
         "mode": "text",
         "name": "label",
         "opacity": 1,
         "text": [
          "v₁·v₂ = 7.750"
         ],
         "textfont": {
          "color": "black"
         },
         "type": "scatter3d",
         "x": [
          0
         ],
         "y": [
          0
         ],
         "z": [
          -0.5
         ]
        },
        {
         "mode": "text",
         "name": "label",
         "opacity": 1,
         "text": [
          "proj_{v₁}(v₂) = 0.508·v₁"
         ],
         "textfont": {
          "color": "black"
         },
         "type": "scatter3d",
         "x": [
          1.6782344198539016
         ],
         "y": [
          0.8391172099269508
         ],
         "z": [
          1.1188229465692676
         ]
        },
        {
         "mode": "text",
         "name": "label",
         "opacity": 1,
         "text": [
          "v₂ = proj_{v₁}(v₂) + ⊥ component"
         ],
         "textfont": {
          "color": "black"
         },
         "type": "scatter3d",
         "x": [
          0
         ],
         "y": [
          0
         ],
         "z": [
          -1
         ]
        }
       ],
       "layout": {
        "margin": {
         "b": 0,
         "l": 0,
         "r": 0,
         "t": 50
        },
        "paper_bgcolor": "white",
        "plot_bgcolor": "white",
        "scene": {
         "aspectmode": "cube",
         "xaxis": {
          "gridcolor": "lightgray",
          "linecolor": "black",
          "linewidth": 2,
          "title": {
           "text": "x"
          }
         },
         "yaxis": {
          "gridcolor": "lightgray",
          "linecolor": "black",
          "linewidth": 2,
          "title": {
           "text": "y"
          }
         },
         "zaxis": {
          "gridcolor": "lightgray",
          "linecolor": "black",
          "linewidth": 2,
          "title": {
           "text": "z"
          }
         }
        },
        "showlegend": true,
        "template": {
         "data": {
          "bar": [
           {
            "error_x": {
             "color": "#2a3f5f"
            },
            "error_y": {
             "color": "#2a3f5f"
            },
            "marker": {
             "line": {
              "color": "#E5ECF6",
              "width": 0.5
             },
             "pattern": {
              "fillmode": "overlay",
              "size": 10,
              "solidity": 0.2
             }
            },
            "type": "bar"
           }
          ],
          "barpolar": [
           {
            "marker": {
             "line": {
              "color": "#E5ECF6",
              "width": 0.5
             },
             "pattern": {
              "fillmode": "overlay",
              "size": 10,
              "solidity": 0.2
             }
            },
            "type": "barpolar"
           }
          ],
          "carpet": [
           {
            "aaxis": {
             "endlinecolor": "#2a3f5f",
             "gridcolor": "white",
             "linecolor": "white",
             "minorgridcolor": "white",
             "startlinecolor": "#2a3f5f"
            },
            "baxis": {
             "endlinecolor": "#2a3f5f",
             "gridcolor": "white",
             "linecolor": "white",
             "minorgridcolor": "white",
             "startlinecolor": "#2a3f5f"
            },
            "type": "carpet"
           }
          ],
          "choropleth": [
           {
            "colorbar": {
             "outlinewidth": 0,
             "ticks": ""
            },
            "type": "choropleth"
           }
          ],
          "contour": [
           {
            "colorbar": {
             "outlinewidth": 0,
             "ticks": ""
            },
            "colorscale": [
             [
              0,
              "#0d0887"
             ],
             [
              0.1111111111111111,
              "#46039f"
             ],
             [
              0.2222222222222222,
              "#7201a8"
             ],
             [
              0.3333333333333333,
              "#9c179e"
             ],
             [
              0.4444444444444444,
              "#bd3786"
             ],
             [
              0.5555555555555556,
              "#d8576b"
             ],
             [
              0.6666666666666666,
              "#ed7953"
             ],
             [
              0.7777777777777778,
              "#fb9f3a"
             ],
             [
              0.8888888888888888,
              "#fdca26"
             ],
             [
              1,
              "#f0f921"
             ]
            ],
            "type": "contour"
           }
          ],
          "contourcarpet": [
           {
            "colorbar": {
             "outlinewidth": 0,
             "ticks": ""
            },
            "type": "contourcarpet"
           }
          ],
          "heatmap": [
           {
            "colorbar": {
             "outlinewidth": 0,
             "ticks": ""
            },
            "colorscale": [
             [
              0,
              "#0d0887"
             ],
             [
              0.1111111111111111,
              "#46039f"
             ],
             [
              0.2222222222222222,
              "#7201a8"
             ],
             [
              0.3333333333333333,
              "#9c179e"
             ],
             [
              0.4444444444444444,
              "#bd3786"
             ],
             [
              0.5555555555555556,
              "#d8576b"
             ],
             [
              0.6666666666666666,
              "#ed7953"
             ],
             [
              0.7777777777777778,
              "#fb9f3a"
             ],
             [
              0.8888888888888888,
              "#fdca26"
             ],
             [
              1,
              "#f0f921"
             ]
            ],
            "type": "heatmap"
           }
          ],
          "histogram": [
           {
            "marker": {
             "pattern": {
              "fillmode": "overlay",
              "size": 10,
              "solidity": 0.2
             }
            },
            "type": "histogram"
           }
          ],
          "histogram2d": [
           {
            "colorbar": {
             "outlinewidth": 0,
             "ticks": ""
            },
            "colorscale": [
             [
              0,
              "#0d0887"
             ],
             [
              0.1111111111111111,
              "#46039f"
             ],
             [
              0.2222222222222222,
              "#7201a8"
             ],
             [
              0.3333333333333333,
              "#9c179e"
             ],
             [
              0.4444444444444444,
              "#bd3786"
             ],
             [
              0.5555555555555556,
              "#d8576b"
             ],
             [
              0.6666666666666666,
              "#ed7953"
             ],
             [
              0.7777777777777778,
              "#fb9f3a"
             ],
             [
              0.8888888888888888,
              "#fdca26"
             ],
             [
              1,
              "#f0f921"
             ]
            ],
            "type": "histogram2d"
           }
          ],
          "histogram2dcontour": [
           {
            "colorbar": {
             "outlinewidth": 0,
             "ticks": ""
            },
            "colorscale": [
             [
              0,
              "#0d0887"
             ],
             [
              0.1111111111111111,
              "#46039f"
             ],
             [
              0.2222222222222222,
              "#7201a8"
             ],
             [
              0.3333333333333333,
              "#9c179e"
             ],
             [
              0.4444444444444444,
              "#bd3786"
             ],
             [
              0.5555555555555556,
              "#d8576b"
             ],
             [
              0.6666666666666666,
              "#ed7953"
             ],
             [
              0.7777777777777778,
              "#fb9f3a"
             ],
             [
              0.8888888888888888,
              "#fdca26"
             ],
             [
              1,
              "#f0f921"
             ]
            ],
            "type": "histogram2dcontour"
           }
          ],
          "mesh3d": [
           {
            "colorbar": {
             "outlinewidth": 0,
             "ticks": ""
            },
            "type": "mesh3d"
           }
          ],
          "parcoords": [
           {
            "line": {
             "colorbar": {
              "outlinewidth": 0,
              "ticks": ""
             }
            },
            "type": "parcoords"
           }
          ],
          "pie": [
           {
            "automargin": true,
            "type": "pie"
           }
          ],
          "scatter": [
           {
            "fillpattern": {
             "fillmode": "overlay",
             "size": 10,
             "solidity": 0.2
            },
            "type": "scatter"
           }
          ],
          "scatter3d": [
           {
            "line": {
             "colorbar": {
              "outlinewidth": 0,
              "ticks": ""
             }
            },
            "marker": {
             "colorbar": {
              "outlinewidth": 0,
              "ticks": ""
             }
            },
            "type": "scatter3d"
           }
          ],
          "scattercarpet": [
           {
            "marker": {
             "colorbar": {
              "outlinewidth": 0,
              "ticks": ""
             }
            },
            "type": "scattercarpet"
           }
          ],
          "scattergeo": [
           {
            "marker": {
             "colorbar": {
              "outlinewidth": 0,
              "ticks": ""
             }
            },
            "type": "scattergeo"
           }
          ],
          "scattergl": [
           {
            "marker": {
             "colorbar": {
              "outlinewidth": 0,
              "ticks": ""
             }
            },
            "type": "scattergl"
           }
          ],
          "scattermap": [
           {
            "marker": {
             "colorbar": {
              "outlinewidth": 0,
              "ticks": ""
             }
            },
            "type": "scattermap"
           }
          ],
          "scattermapbox": [
           {
            "marker": {
             "colorbar": {
              "outlinewidth": 0,
              "ticks": ""
             }
            },
            "type": "scattermapbox"
           }
          ],
          "scatterpolar": [
           {
            "marker": {
             "colorbar": {
              "outlinewidth": 0,
              "ticks": ""
             }
            },
            "type": "scatterpolar"
           }
          ],
          "scatterpolargl": [
           {
            "marker": {
             "colorbar": {
              "outlinewidth": 0,
              "ticks": ""
             }
            },
            "type": "scatterpolargl"
           }
          ],
          "scatterternary": [
           {
            "marker": {
             "colorbar": {
              "outlinewidth": 0,
              "ticks": ""
             }
            },
            "type": "scatterternary"
           }
          ],
          "surface": [
           {
            "colorbar": {
             "outlinewidth": 0,
             "ticks": ""
            },
            "colorscale": [
             [
              0,
              "#0d0887"
             ],
             [
              0.1111111111111111,
              "#46039f"
             ],
             [
              0.2222222222222222,
              "#7201a8"
             ],
             [
              0.3333333333333333,
              "#9c179e"
             ],
             [
              0.4444444444444444,
              "#bd3786"
             ],
             [
              0.5555555555555556,
              "#d8576b"
             ],
             [
              0.6666666666666666,
              "#ed7953"
             ],
             [
              0.7777777777777778,
              "#fb9f3a"
             ],
             [
              0.8888888888888888,
              "#fdca26"
             ],
             [
              1,
              "#f0f921"
             ]
            ],
            "type": "surface"
           }
          ],
          "table": [
           {
            "cells": {
             "fill": {
              "color": "#EBF0F8"
             },
             "line": {
              "color": "white"
             }
            },
            "header": {
             "fill": {
              "color": "#C8D4E3"
             },
             "line": {
              "color": "white"
             }
            },
            "type": "table"
           }
          ]
         },
         "layout": {
          "annotationdefaults": {
           "arrowcolor": "#2a3f5f",
           "arrowhead": 0,
           "arrowwidth": 1
          },
          "autotypenumbers": "strict",
          "coloraxis": {
           "colorbar": {
            "outlinewidth": 0,
            "ticks": ""
           }
          },
          "colorscale": {
           "diverging": [
            [
             0,
             "#8e0152"
            ],
            [
             0.1,
             "#c51b7d"
            ],
            [
             0.2,
             "#de77ae"
            ],
            [
             0.3,
             "#f1b6da"
            ],
            [
             0.4,
             "#fde0ef"
            ],
            [
             0.5,
             "#f7f7f7"
            ],
            [
             0.6,
             "#e6f5d0"
            ],
            [
             0.7,
             "#b8e186"
            ],
            [
             0.8,
             "#7fbc41"
            ],
            [
             0.9,
             "#4d9221"
            ],
            [
             1,
             "#276419"
            ]
           ],
           "sequential": [
            [
             0,
             "#0d0887"
            ],
            [
             0.1111111111111111,
             "#46039f"
            ],
            [
             0.2222222222222222,
             "#7201a8"
            ],
            [
             0.3333333333333333,
             "#9c179e"
            ],
            [
             0.4444444444444444,
             "#bd3786"
            ],
            [
             0.5555555555555556,
             "#d8576b"
            ],
            [
             0.6666666666666666,
             "#ed7953"
            ],
            [
             0.7777777777777778,
             "#fb9f3a"
            ],
            [
             0.8888888888888888,
             "#fdca26"
            ],
            [
             1,
             "#f0f921"
            ]
           ],
           "sequentialminus": [
            [
             0,
             "#0d0887"
            ],
            [
             0.1111111111111111,
             "#46039f"
            ],
            [
             0.2222222222222222,
             "#7201a8"
            ],
            [
             0.3333333333333333,
             "#9c179e"
            ],
            [
             0.4444444444444444,
             "#bd3786"
            ],
            [
             0.5555555555555556,
             "#d8576b"
            ],
            [
             0.6666666666666666,
             "#ed7953"
            ],
            [
             0.7777777777777778,
             "#fb9f3a"
            ],
            [
             0.8888888888888888,
             "#fdca26"
            ],
            [
             1,
             "#f0f921"
            ]
           ]
          },
          "colorway": [
           "#636efa",
           "#EF553B",
           "#00cc96",
           "#ab63fa",
           "#FFA15A",
           "#19d3f3",
           "#FF6692",
           "#B6E880",
           "#FF97FF",
           "#FECB52"
          ],
          "font": {
           "color": "#2a3f5f"
          },
          "geo": {
           "bgcolor": "white",
           "lakecolor": "white",
           "landcolor": "#E5ECF6",
           "showlakes": true,
           "showland": true,
           "subunitcolor": "white"
          },
          "hoverlabel": {
           "align": "left"
          },
          "hovermode": "closest",
          "mapbox": {
           "style": "light"
          },
          "paper_bgcolor": "white",
          "plot_bgcolor": "#E5ECF6",
          "polar": {
           "angularaxis": {
            "gridcolor": "white",
            "linecolor": "white",
            "ticks": ""
           },
           "bgcolor": "#E5ECF6",
           "radialaxis": {
            "gridcolor": "white",
            "linecolor": "white",
            "ticks": ""
           }
          },
          "scene": {
           "xaxis": {
            "backgroundcolor": "#E5ECF6",
            "gridcolor": "white",
            "gridwidth": 2,
            "linecolor": "white",
            "showbackground": true,
            "ticks": "",
            "zerolinecolor": "white"
           },
           "yaxis": {
            "backgroundcolor": "#E5ECF6",
            "gridcolor": "white",
            "gridwidth": 2,
            "linecolor": "white",
            "showbackground": true,
            "ticks": "",
            "zerolinecolor": "white"
           },
           "zaxis": {
            "backgroundcolor": "#E5ECF6",
            "gridcolor": "white",
            "gridwidth": 2,
            "linecolor": "white",
            "showbackground": true,
            "ticks": "",
            "zerolinecolor": "white"
           }
          },
          "shapedefaults": {
           "line": {
            "color": "#2a3f5f"
           }
          },
          "ternary": {
           "aaxis": {
            "gridcolor": "white",
            "linecolor": "white",
            "ticks": ""
           },
           "baxis": {
            "gridcolor": "white",
            "linecolor": "white",
            "ticks": ""
           },
           "bgcolor": "#E5ECF6",
           "caxis": {
            "gridcolor": "white",
            "linecolor": "white",
            "ticks": ""
           }
          },
          "title": {
           "x": 0.05
          },
          "xaxis": {
           "automargin": true,
           "gridcolor": "white",
           "linecolor": "white",
           "ticks": "",
           "title": {
            "standoff": 15
           },
           "zerolinecolor": "white",
           "zerolinewidth": 2
          },
          "yaxis": {
           "automargin": true,
           "gridcolor": "white",
           "linecolor": "white",
           "ticks": "",
           "title": {
            "standoff": 15
           },
           "zerolinecolor": "white",
           "zerolinewidth": 2
          }
         }
        },
        "title": {
         "text": "Inner Product: Vector projection and perpendicular component"
        }
       }
      }
     },
     "metadata": {},
     "output_type": "display_data"
    }
   ],
   "source": [
    "# Inner Product: Vector projection and perpendicular component\n",
    "fig = go.Figure(layout=make_layout(\"Inner Product: Vector projection and perpendicular component\"))\n",
    "fig.add_trace(vector_trace(v1, \"Query (v₁)\", color=\"red\"))\n",
    "fig.add_trace(vector_trace(v2, \"Candidate 1 (v₂)\", color=\"blue\"))\n",
    "\n",
    "# Calculate and show projection\n",
    "proj, coeff = projection_of_b_on_a(v1, v2)\n",
    "fig.add_trace(vector_trace(proj, \"proj_{v₁}(v₂)\", color=\"green\"))\n",
    "\n",
    "# Show perpendicular component\n",
    "perp_component = v2 - proj\n",
    "if np.linalg.norm(perp_component) > 1e-10:\n",
    "    fig.add_trace(vector_trace(perp_component, \"⊥ component\", color=\"orange\"))\n",
    "    \n",
    "    # Draw right angle indicator\n",
    "    right_angle_size = 0.3\n",
    "    proj_norm = proj / np.linalg.norm(proj) if np.linalg.norm(proj) > 0 else np.array([1, 0, 0])\n",
    "    perp_norm = perp_component / np.linalg.norm(perp_component) if np.linalg.norm(perp_component) > 0 else np.array([0, 1, 0])\n",
    "    \n",
    "    corner = proj\n",
    "    ra1 = corner + right_angle_size * proj_norm\n",
    "    ra2 = corner + right_angle_size * perp_norm\n",
    "    \n",
    "    fig.add_trace(go.Scatter3d(\n",
    "        x=[corner[0], ra1[0], ra1[0] + right_angle_size * perp_norm[0]],\n",
    "        y=[corner[1], ra1[1], ra1[1] + right_angle_size * perp_norm[1]],\n",
    "        z=[corner[2], ra1[2], ra1[2] + right_angle_size * perp_norm[2]],\n",
    "        mode=\"lines\", line=dict(color=\"green\", width=2, dash=\"dot\"), showlegend=False\n",
    "    ))\n",
    "\n",
    "# Add labels\n",
    "inner_product_val = float(np.dot(v1, v2))\n",
    "fig.add_trace(text3d(0, 0, -0.5, f\"v₁·v₂ = {inner_product_val:.3f}\"))\n",
    "\n",
    "if np.linalg.norm(proj) > 0:\n",
    "    label_pos = proj + 0.2 * (proj / np.linalg.norm(proj))\n",
    "    fig.add_trace(text3d(*label_pos, f\"proj_{{v₁}}(v₂) = {coeff:.3f}·v₁\"))\n",
    "\n",
    "fig.add_trace(text3d(0, 0, -1.0, \"v₂ = proj_{v₁}(v₂) + ⊥ component\"))\n",
    "fig.update_layout(margin=dict(l=0, r=0, t=50, b=0))\n",
    "fig.show()"
   ]
  },
  {
   "cell_type": "markdown",
   "id": "f3876d3e",
   "metadata": {},
   "source": [
    "## 3. Cosine Similarity Visualization"
   ]
  },
  {
   "cell_type": "code",
   "execution_count": 9,
   "id": "bd3000e0",
   "metadata": {},
   "outputs": [
    {
     "data": {
      "application/vnd.plotly.v1+json": {
       "config": {
        "plotlyServerURL": "https://plot.ly"
       },
       "data": [
        {
         "line": {
          "color": "red",
          "width": 6
         },
         "marker": {
          "color": "red",
          "size": 4
         },
         "mode": "lines+markers+text",
         "name": "v̂₁ (unit)",
         "opacity": 1,
         "text": [
          null,
          "v̂₁ (unit)"
         ],
         "textposition": "top center",
         "type": "scatter3d",
         "x": [
          0,
          0.7682212795973759
         ],
         "y": [
          0,
          0.3841106397986879
         ],
         "z": [
          0,
          0.5121475197315839
         ]
        },
        {
         "line": {
          "color": "blue",
          "width": 6
         },
         "marker": {
          "color": "blue",
          "size": 4
         },
         "mode": "lines+markers+text",
         "name": "v̂₂ (unit)",
         "opacity": 1,
         "text": [
          null,
          "v̂₂ (unit)"
         ],
         "textposition": "top center",
         "type": "scatter3d",
         "x": [
          0,
          0.3651483716701107
         ],
         "y": [
          0,
          0.9128709291752769
         ],
         "z": [
          0,
          0.18257418583505536
         ]
        },
        {
         "line": {
          "color": "green",
          "dash": "dot",
          "width": 6
         },
         "mode": "lines",
         "type": "scatter3d",
         "x": {
          "bdata": "t8j+ykSV6D9ajvqil4boP5DhtOCod+g/DAsfrHho6D+yYtktB1noP+jiMo9USeg/FLoo+mA56D9R2mWZLCnoP0uHQpi3GOg/UeLDIgII6D+PdJtlDPfnP4y3Jo7W5ec/xptuymDU5z+dDSdJq8LnP1p4rjm2sOc/f0cNzIGe5z9PZvUwDoznP4u9wZlbeec/b691OGpm5z/okbw/OlPnPw4n6eLLP+c/3BP1VR8s5z8rVYDNNBjnP+iy0H4MBOc/njHRn6bv5j82ghFnA9vmPwhwxQsjxuY/NE3ExQWx5j9GXYjNq5vmPxs+LlwVhuY/KE90q0Jw5j8BF7r1M1rmPzen/3XpQ+Y/gP7kZ2Mt5j9EaakHohbmP3PgKpKl/+U/sWblRG7o5T/lY/Jd/NDlPxz/BxxQueU/y3Z4vmmh5T9udzGFSYnlP41wu7DvcOU/F+g4glxY5T8szGU7kD/lP03Dlh6LJuU/53q4bk0N5T9W9E5v1/PkP0zQdGQp2uQ/pJjakkPA5D+oCMY/JqbkP8RTEbHRi+Q/s2oqLUZx5D8SPxL7g1bkP34FXGKLO+Q/G3Ysq1wg5D+dCzke+ATkP8VAxwRe6eM/cMyrqI7N4z8S3ElUirHjP7xMklJRleM/reIC7+N44z9gf6V1QlzjPydWDzNtP+M/WB9gdGQi4z/9SUGHKAXjPxgs5bm55+I/fDEGWxjK4j80Cea5RKziP4TRTCY/juI/hUKI8Adw4j9U12ppn1HiP+P1SuIFM+I/ahUCrTsU4j954+sbQfXhP6Zn5YEW1uE/7yVMMry24T+5P/2AMpfhP36TVMJ5d+E/JdsrS5JX4T8TydlwfDfhP90jMYk4F+E/vuB/6sb24D++PI7rJ9bgP4vUneNbteA/FbtoKmOU4D/ujiAYPnPgP1iObQXtUeA/JqptS3Aw4D9Yl7NDyA7gPxK/i5Dq2d8/POA7Z++V3z+AUE7Bn1HfP2jLe1X8DN8/3CBd2wXI3j8wSmkLvYLeP4x8854iPd4/UzkpUDf33T8gXBDa+7DdP38mhfhwat0/bUk4aJcj3T+j7Kzmb9zcP66zNjL7lNw/0cD3CTpN3D/Ktd4tLQXcP2aypF7VvNs/ElHLXTN02z8soZrtRyvbP2IfH9ET4to/+KsnzJeY2j8If0Oj1E7aP7YawBvLBNo/eDun+3u62T9WxrwJ6G/ZP0e1fA0QJdk/lAEZz/TZ2D9ejHcXl47YPzwFMLD3Qtg/As+JYxf31z+x4nn89qrXP5iwoEaXXtc/",
          "dtype": "f8"
         },
         "y": {
          "bdata": "t8j+ykSV2D8SY1ZChfXYP3pUtfaCVdk/xshY5zy12T9NLjMUshTaP8ji7n3hc9o/SN7wJcrS2j9FXFsOazHbP6qCEDrDj9s/3ga1rNHt2z/J0LJqlUvcP8ybO3kNqdw/mZVL3jgG3T/2+qugFmPdP1uy9celv90/XeSTXOUb3j/wkcZn1HfeP2sopfNx094/TBMhC70u3z+zSwi6tInfP5TlBw1Y5N8/SU3XCFMf4D8+qTfrTkzgP7TUUTUfeeA/tjlHb8Ol4D/vHq8hO9LgPw7nl9WF/uA/9E6IFKMq4T+XqoBoklbhP6Ag/FtTguE/xuTxeeWt4T/dcNZNSNnhP5C8nGN7BOI/yXO3R34v4j/PKxqHUFriP/yWOq/xhOI/HrcRTmGv4j98Dh3yntniP3HPXyqqA+M/qApkhoIt4z/s2zuWJ1fjP4qVguqYgOM/TOpdFNap4z/3FX+l3tLjP10EJDCy++M/8nYYR1Ak5D/mKLd9uEzkP8Lx6mfqdOQ/gOYvmuWc5D8meZSpqcTkP9KWuis27OQ/PcTYtooT5T+0OLvhpjrlP3r3xEOKYeU/pufwdDSI5T9Q6tINpa7lP0LvmKfb1OU/9AcM3Nf65T8CeZFFmSDmP+XJK38fRuY/HtN7JGpr5j+sysHReJDmP+BO3iNLteY/em9TuODZ5j8mtUUtOf7mPzInfSFUIuc/ok9mNDFG5z99PRMG0GnnP2uFPDcwjec/jkBCaVGw5z+cCS0+M9PnPzj4rljV9ec/hpokXDcY6D/47JXsWDroP0lQt645XOg/tH3qR9l96D9beT9eN5/oP9CCdZhTwOg/2gP8nS3h6D9YffMWxQHpP0pyLqwZIuk/BFEyBytC6T+CWjjS+GHpP8+HLriCgek/m224ZMig6T/fHTCEyb/pP5oHp8OF3uk/ptTm0Pz86T+kRXJaLhvqP+8Lhg8aOeo/pqEZoL9W6j++H+C8HnTqPyASSRc3keo/1EmBYQiu6j8krXNOksrqP9EFypHU5uo/Ps3t384C6z+m9gjugB7rP0S3BnLqOes/f0yUIgtV6z8GwCG34m/rP+ip4udwius/qPDObbWk6z80h6MCsL7rP94o42Bg2Os/LhPXQ8bx6z+/vY9n4QrsP+uP5YixI+w/cJR5ZTY87D/6Kra7b1TsP4u3z0pdbOw/0k/F0v6D7D9cZmEUVJvsP6RzOtFcsuw/DJ2zyxjJ7D+jWf3Gh9/sP9EUFoep9ew/2s7K0H0L7T82u7dpBCHtP77cSBg9Nu0/",
          "dtype": "f8"
         },
         "z": {
          "bdata": "ejD/MYNj4D+14K0wG1XgP+vmjX+HRuA/y/ScRcg34D+mLk2q3SjgP/HBhNXHGeA/jHqd74YK4D+XrchCNvbfP8g0MigJ198/CsDb4oa33z+6Uw3Hr5ffP7Th8SmEd98/jGWWYQRX3z9g/ujEMDbfP00GuKsJFd8/liexbo/z3j9yb2BnwtHeP3xeL/Cir94/6/ZjZDGN3j9kyB8gbmreP4f5XoBZR94/QU/34vMj3j/IMZemPQDeP1avxCo33N0/q3zcz+C33T9P8xD3OpPdP4kNaQJGbt0/NmC/VAJJ3T9fEsFRcCPdP4rS7F2Q/dw/A8qR3mLX3D/Jjc456LDcP3QNkNYgitw/6X+QHA1j3D/UTVZ0rTvcPyT6MkcCFNw/SwhC/wvs2z9w4GcHy8PbP3+xUMs/m9s/LVFvt2py2z/gGfw4TEnbP4bG873kH9s/aEwWtTT22j/rsuWNPMzaP0jppLj8odo/SppWpnV32j8A/rvIp0zaP3epU5KTIdo/flxYdjn22T9pzb/omcrZP99yOV61ntk/yUstTIxy2T88pbooH0bZP4retmpuGdk/YiusiXrs2D8QVNj9Q7/YP+FzK0DLkdg/oLVGyhBk2D9EDnsWFTbYP7r1x5/YB9g/8B3a4VvZ1z8AKApZn6rXP5JXW4Kje9c/f0R622hM1z+hirvi7xzXP/B3Ghc57dY/1rg3+ES91j/KAlgGFI3WPz+9YsKmXNY/0Kjgrf0r1j/IhPpKGfvVP/mydxz6ydU/7Nm8paCY1T9shcpqDWfVP3bFO/BANdU/dctEuzsD1T8OhrFR/tDUPyU75DmJntQ/fCDU+txr1D+h8gsc+jjUP22KqCXhBdQ/43BXoJLS0z+jcVUVD5/TP84rbQ5Xa9M/b6H1FWs30z+CxdC2SwPTP2QIanz5ztI/8OK08nSa0j8iYCumvmXSP1ylzCPXMNI/Onkb+b770T8SyRy0dsbRPw4tVuP+kNE/+mrMFVhb0T+y9wHbgiXRP0B39cJ/79A/vDsgXk+50D/RwnQ98oLQPxAyXfJoTNA/7tG5DrQV0D88D79JqL3PP0CbLI+TT88/RlYvFCvhzj92VBoAcHLOP8iZHXtjA84/ygFDrgaUzT8VJWvDWiTNP308SuVgtMw/JwJlPxpEzD9QkA3+h9PLPwA+YE6rYss/p3lAXoXxyj+IoVVcF4DKP0XaB3hiDso/O+N84WecyT/56JTJKCrJP9BV52Gmt8g/UKC/3OFEyD8WGBpt3NHHP5mwoEaXXsc/",
          "dtype": "f8"
         }
        },
        {
         "mode": "text",
         "name": "label",
         "opacity": 1,
         "text": [
          "θ = 43.6°, cosθ = 0.725"
         ],
         "textfont": {
          "color": "black"
         },
         "type": "scatter3d",
         "x": [
          0.5649698618951053
         ],
         "y": [
          0.7529560851733812
         ],
         "z": [
          0.33744064507791793
         ]
        }
       ],
       "layout": {
        "margin": {
         "b": 0,
         "l": 0,
         "r": 0,
         "t": 50
        },
        "paper_bgcolor": "white",
        "plot_bgcolor": "white",
        "scene": {
         "aspectmode": "cube",
         "xaxis": {
          "gridcolor": "lightgray",
          "linecolor": "black",
          "linewidth": 2,
          "title": {
           "text": "x"
          }
         },
         "yaxis": {
          "gridcolor": "lightgray",
          "linecolor": "black",
          "linewidth": 2,
          "title": {
           "text": "y"
          }
         },
         "zaxis": {
          "gridcolor": "lightgray",
          "linecolor": "black",
          "linewidth": 2,
          "title": {
           "text": "z"
          }
         }
        },
        "showlegend": true,
        "template": {
         "data": {
          "bar": [
           {
            "error_x": {
             "color": "#2a3f5f"
            },
            "error_y": {
             "color": "#2a3f5f"
            },
            "marker": {
             "line": {
              "color": "#E5ECF6",
              "width": 0.5
             },
             "pattern": {
              "fillmode": "overlay",
              "size": 10,
              "solidity": 0.2
             }
            },
            "type": "bar"
           }
          ],
          "barpolar": [
           {
            "marker": {
             "line": {
              "color": "#E5ECF6",
              "width": 0.5
             },
             "pattern": {
              "fillmode": "overlay",
              "size": 10,
              "solidity": 0.2
             }
            },
            "type": "barpolar"
           }
          ],
          "carpet": [
           {
            "aaxis": {
             "endlinecolor": "#2a3f5f",
             "gridcolor": "white",
             "linecolor": "white",
             "minorgridcolor": "white",
             "startlinecolor": "#2a3f5f"
            },
            "baxis": {
             "endlinecolor": "#2a3f5f",
             "gridcolor": "white",
             "linecolor": "white",
             "minorgridcolor": "white",
             "startlinecolor": "#2a3f5f"
            },
            "type": "carpet"
           }
          ],
          "choropleth": [
           {
            "colorbar": {
             "outlinewidth": 0,
             "ticks": ""
            },
            "type": "choropleth"
           }
          ],
          "contour": [
           {
            "colorbar": {
             "outlinewidth": 0,
             "ticks": ""
            },
            "colorscale": [
             [
              0,
              "#0d0887"
             ],
             [
              0.1111111111111111,
              "#46039f"
             ],
             [
              0.2222222222222222,
              "#7201a8"
             ],
             [
              0.3333333333333333,
              "#9c179e"
             ],
             [
              0.4444444444444444,
              "#bd3786"
             ],
             [
              0.5555555555555556,
              "#d8576b"
             ],
             [
              0.6666666666666666,
              "#ed7953"
             ],
             [
              0.7777777777777778,
              "#fb9f3a"
             ],
             [
              0.8888888888888888,
              "#fdca26"
             ],
             [
              1,
              "#f0f921"
             ]
            ],
            "type": "contour"
           }
          ],
          "contourcarpet": [
           {
            "colorbar": {
             "outlinewidth": 0,
             "ticks": ""
            },
            "type": "contourcarpet"
           }
          ],
          "heatmap": [
           {
            "colorbar": {
             "outlinewidth": 0,
             "ticks": ""
            },
            "colorscale": [
             [
              0,
              "#0d0887"
             ],
             [
              0.1111111111111111,
              "#46039f"
             ],
             [
              0.2222222222222222,
              "#7201a8"
             ],
             [
              0.3333333333333333,
              "#9c179e"
             ],
             [
              0.4444444444444444,
              "#bd3786"
             ],
             [
              0.5555555555555556,
              "#d8576b"
             ],
             [
              0.6666666666666666,
              "#ed7953"
             ],
             [
              0.7777777777777778,
              "#fb9f3a"
             ],
             [
              0.8888888888888888,
              "#fdca26"
             ],
             [
              1,
              "#f0f921"
             ]
            ],
            "type": "heatmap"
           }
          ],
          "histogram": [
           {
            "marker": {
             "pattern": {
              "fillmode": "overlay",
              "size": 10,
              "solidity": 0.2
             }
            },
            "type": "histogram"
           }
          ],
          "histogram2d": [
           {
            "colorbar": {
             "outlinewidth": 0,
             "ticks": ""
            },
            "colorscale": [
             [
              0,
              "#0d0887"
             ],
             [
              0.1111111111111111,
              "#46039f"
             ],
             [
              0.2222222222222222,
              "#7201a8"
             ],
             [
              0.3333333333333333,
              "#9c179e"
             ],
             [
              0.4444444444444444,
              "#bd3786"
             ],
             [
              0.5555555555555556,
              "#d8576b"
             ],
             [
              0.6666666666666666,
              "#ed7953"
             ],
             [
              0.7777777777777778,
              "#fb9f3a"
             ],
             [
              0.8888888888888888,
              "#fdca26"
             ],
             [
              1,
              "#f0f921"
             ]
            ],
            "type": "histogram2d"
           }
          ],
          "histogram2dcontour": [
           {
            "colorbar": {
             "outlinewidth": 0,
             "ticks": ""
            },
            "colorscale": [
             [
              0,
              "#0d0887"
             ],
             [
              0.1111111111111111,
              "#46039f"
             ],
             [
              0.2222222222222222,
              "#7201a8"
             ],
             [
              0.3333333333333333,
              "#9c179e"
             ],
             [
              0.4444444444444444,
              "#bd3786"
             ],
             [
              0.5555555555555556,
              "#d8576b"
             ],
             [
              0.6666666666666666,
              "#ed7953"
             ],
             [
              0.7777777777777778,
              "#fb9f3a"
             ],
             [
              0.8888888888888888,
              "#fdca26"
             ],
             [
              1,
              "#f0f921"
             ]
            ],
            "type": "histogram2dcontour"
           }
          ],
          "mesh3d": [
           {
            "colorbar": {
             "outlinewidth": 0,
             "ticks": ""
            },
            "type": "mesh3d"
           }
          ],
          "parcoords": [
           {
            "line": {
             "colorbar": {
              "outlinewidth": 0,
              "ticks": ""
             }
            },
            "type": "parcoords"
           }
          ],
          "pie": [
           {
            "automargin": true,
            "type": "pie"
           }
          ],
          "scatter": [
           {
            "fillpattern": {
             "fillmode": "overlay",
             "size": 10,
             "solidity": 0.2
            },
            "type": "scatter"
           }
          ],
          "scatter3d": [
           {
            "line": {
             "colorbar": {
              "outlinewidth": 0,
              "ticks": ""
             }
            },
            "marker": {
             "colorbar": {
              "outlinewidth": 0,
              "ticks": ""
             }
            },
            "type": "scatter3d"
           }
          ],
          "scattercarpet": [
           {
            "marker": {
             "colorbar": {
              "outlinewidth": 0,
              "ticks": ""
             }
            },
            "type": "scattercarpet"
           }
          ],
          "scattergeo": [
           {
            "marker": {
             "colorbar": {
              "outlinewidth": 0,
              "ticks": ""
             }
            },
            "type": "scattergeo"
           }
          ],
          "scattergl": [
           {
            "marker": {
             "colorbar": {
              "outlinewidth": 0,
              "ticks": ""
             }
            },
            "type": "scattergl"
           }
          ],
          "scattermap": [
           {
            "marker": {
             "colorbar": {
              "outlinewidth": 0,
              "ticks": ""
             }
            },
            "type": "scattermap"
           }
          ],
          "scattermapbox": [
           {
            "marker": {
             "colorbar": {
              "outlinewidth": 0,
              "ticks": ""
             }
            },
            "type": "scattermapbox"
           }
          ],
          "scatterpolar": [
           {
            "marker": {
             "colorbar": {
              "outlinewidth": 0,
              "ticks": ""
             }
            },
            "type": "scatterpolar"
           }
          ],
          "scatterpolargl": [
           {
            "marker": {
             "colorbar": {
              "outlinewidth": 0,
              "ticks": ""
             }
            },
            "type": "scatterpolargl"
           }
          ],
          "scatterternary": [
           {
            "marker": {
             "colorbar": {
              "outlinewidth": 0,
              "ticks": ""
             }
            },
            "type": "scatterternary"
           }
          ],
          "surface": [
           {
            "colorbar": {
             "outlinewidth": 0,
             "ticks": ""
            },
            "colorscale": [
             [
              0,
              "#0d0887"
             ],
             [
              0.1111111111111111,
              "#46039f"
             ],
             [
              0.2222222222222222,
              "#7201a8"
             ],
             [
              0.3333333333333333,
              "#9c179e"
             ],
             [
              0.4444444444444444,
              "#bd3786"
             ],
             [
              0.5555555555555556,
              "#d8576b"
             ],
             [
              0.6666666666666666,
              "#ed7953"
             ],
             [
              0.7777777777777778,
              "#fb9f3a"
             ],
             [
              0.8888888888888888,
              "#fdca26"
             ],
             [
              1,
              "#f0f921"
             ]
            ],
            "type": "surface"
           }
          ],
          "table": [
           {
            "cells": {
             "fill": {
              "color": "#EBF0F8"
             },
             "line": {
              "color": "white"
             }
            },
            "header": {
             "fill": {
              "color": "#C8D4E3"
             },
             "line": {
              "color": "white"
             }
            },
            "type": "table"
           }
          ]
         },
         "layout": {
          "annotationdefaults": {
           "arrowcolor": "#2a3f5f",
           "arrowhead": 0,
           "arrowwidth": 1
          },
          "autotypenumbers": "strict",
          "coloraxis": {
           "colorbar": {
            "outlinewidth": 0,
            "ticks": ""
           }
          },
          "colorscale": {
           "diverging": [
            [
             0,
             "#8e0152"
            ],
            [
             0.1,
             "#c51b7d"
            ],
            [
             0.2,
             "#de77ae"
            ],
            [
             0.3,
             "#f1b6da"
            ],
            [
             0.4,
             "#fde0ef"
            ],
            [
             0.5,
             "#f7f7f7"
            ],
            [
             0.6,
             "#e6f5d0"
            ],
            [
             0.7,
             "#b8e186"
            ],
            [
             0.8,
             "#7fbc41"
            ],
            [
             0.9,
             "#4d9221"
            ],
            [
             1,
             "#276419"
            ]
           ],
           "sequential": [
            [
             0,
             "#0d0887"
            ],
            [
             0.1111111111111111,
             "#46039f"
            ],
            [
             0.2222222222222222,
             "#7201a8"
            ],
            [
             0.3333333333333333,
             "#9c179e"
            ],
            [
             0.4444444444444444,
             "#bd3786"
            ],
            [
             0.5555555555555556,
             "#d8576b"
            ],
            [
             0.6666666666666666,
             "#ed7953"
            ],
            [
             0.7777777777777778,
             "#fb9f3a"
            ],
            [
             0.8888888888888888,
             "#fdca26"
            ],
            [
             1,
             "#f0f921"
            ]
           ],
           "sequentialminus": [
            [
             0,
             "#0d0887"
            ],
            [
             0.1111111111111111,
             "#46039f"
            ],
            [
             0.2222222222222222,
             "#7201a8"
            ],
            [
             0.3333333333333333,
             "#9c179e"
            ],
            [
             0.4444444444444444,
             "#bd3786"
            ],
            [
             0.5555555555555556,
             "#d8576b"
            ],
            [
             0.6666666666666666,
             "#ed7953"
            ],
            [
             0.7777777777777778,
             "#fb9f3a"
            ],
            [
             0.8888888888888888,
             "#fdca26"
            ],
            [
             1,
             "#f0f921"
            ]
           ]
          },
          "colorway": [
           "#636efa",
           "#EF553B",
           "#00cc96",
           "#ab63fa",
           "#FFA15A",
           "#19d3f3",
           "#FF6692",
           "#B6E880",
           "#FF97FF",
           "#FECB52"
          ],
          "font": {
           "color": "#2a3f5f"
          },
          "geo": {
           "bgcolor": "white",
           "lakecolor": "white",
           "landcolor": "#E5ECF6",
           "showlakes": true,
           "showland": true,
           "subunitcolor": "white"
          },
          "hoverlabel": {
           "align": "left"
          },
          "hovermode": "closest",
          "mapbox": {
           "style": "light"
          },
          "paper_bgcolor": "white",
          "plot_bgcolor": "#E5ECF6",
          "polar": {
           "angularaxis": {
            "gridcolor": "white",
            "linecolor": "white",
            "ticks": ""
           },
           "bgcolor": "#E5ECF6",
           "radialaxis": {
            "gridcolor": "white",
            "linecolor": "white",
            "ticks": ""
           }
          },
          "scene": {
           "xaxis": {
            "backgroundcolor": "#E5ECF6",
            "gridcolor": "white",
            "gridwidth": 2,
            "linecolor": "white",
            "showbackground": true,
            "ticks": "",
            "zerolinecolor": "white"
           },
           "yaxis": {
            "backgroundcolor": "#E5ECF6",
            "gridcolor": "white",
            "gridwidth": 2,
            "linecolor": "white",
            "showbackground": true,
            "ticks": "",
            "zerolinecolor": "white"
           },
           "zaxis": {
            "backgroundcolor": "#E5ECF6",
            "gridcolor": "white",
            "gridwidth": 2,
            "linecolor": "white",
            "showbackground": true,
            "ticks": "",
            "zerolinecolor": "white"
           }
          },
          "shapedefaults": {
           "line": {
            "color": "#2a3f5f"
           }
          },
          "ternary": {
           "aaxis": {
            "gridcolor": "white",
            "linecolor": "white",
            "ticks": ""
           },
           "baxis": {
            "gridcolor": "white",
            "linecolor": "white",
            "ticks": ""
           },
           "bgcolor": "#E5ECF6",
           "caxis": {
            "gridcolor": "white",
            "linecolor": "white",
            "ticks": ""
           }
          },
          "title": {
           "x": 0.05
          },
          "xaxis": {
           "automargin": true,
           "gridcolor": "white",
           "linecolor": "white",
           "ticks": "",
           "title": {
            "standoff": 15
           },
           "zerolinecolor": "white",
           "zerolinewidth": 2
          },
          "yaxis": {
           "automargin": true,
           "gridcolor": "white",
           "linecolor": "white",
           "ticks": "",
           "title": {
            "standoff": 15
           },
           "zerolinecolor": "white",
           "zerolinewidth": 2
          }
         }
        },
        "title": {
         "text": "Cosine Similarity: Angle between normalized vectors"
        }
       }
      }
     },
     "metadata": {},
     "output_type": "display_data"
    }
   ],
   "source": [
    "# Cosine Similarity: Angle between normalized vectors\n",
    "fig = go.Figure(layout=make_layout(\"Cosine Similarity: Angle between normalized vectors\"))\n",
    "\n",
    "# Normalize vectors to unit length\n",
    "na = float(np.linalg.norm(v1))\n",
    "nb = float(np.linalg.norm(v2))\n",
    "ua = v1/na if na > 0 else v1  # Unit vector a\n",
    "ub = v2/nb if nb > 0 else v2  # Unit vector b\n",
    "\n",
    "fig.add_trace(vector_trace(ua, \"v̂₁ (unit)\", color=\"red\"))\n",
    "fig.add_trace(vector_trace(ub, \"v̂₂ (unit)\", color=\"blue\"))\n",
    "\n",
    "# Create angle arc\n",
    "u = ua\n",
    "w_raw = ub - np.dot(ub, u) * u\n",
    "nw = np.linalg.norm(w_raw)\n",
    "\n",
    "if nw > 1e-12:\n",
    "    w = w_raw / nw\n",
    "    theta = float(np.arccos(np.clip(float(np.dot(ua, ub)), -1.0, 1.0)))\n",
    "    t_vals = np.linspace(0, theta, 120)\n",
    "    arc = np.outer(np.cos(t_vals), u) + np.outer(np.sin(t_vals), w)\n",
    "    fig.add_trace(go.Scatter3d(\n",
    "        x=arc[:,0], y=arc[:,1], z=arc[:,2], \n",
    "        mode=\"lines\", line=dict(width=6, color=\"green\", dash=\"dot\")\n",
    "    ))\n",
    "    label_point = arc[int(len(t_vals)*0.6)]\n",
    "    cos_theta = float(np.cos(theta))\n",
    "else:\n",
    "    label_point = ua\n",
    "    cos_theta = float(np.dot(ua, ub))\n",
    "\n",
    "fig.add_trace(text3d(\n",
    "    label_point[0], label_point[1], label_point[2], \n",
    "    f\"θ = {np.degrees(theta):.1f}°, cosθ = {cos_theta:.3f}\"\n",
    "))\n",
    "fig.update_layout(margin=dict(l=0, r=0, t=50, b=0))\n",
    "fig.show()"
   ]
  },
  {
   "cell_type": "markdown",
   "id": "a3e347c2",
   "metadata": {},
   "source": [
    "## 4. Multi-Vector Comparison: Vector Database Simulation\n",
    "\n",
    "This visualization simulates how **vector databases** work by comparing one query vector against multiple candidates. This is the core operation in systems like Pinecone, Weaviate, Milvus, and Qdrant.\n",
    "\n",
    "### How Vector Databases Work:\n",
    "\n",
    "1. **Indexing**: Store high-dimensional vectors (embeddings) in specialized data structures\n",
    "2. **Querying**: Convert search query to vector using same embedding model\n",
    "3. **Similarity Search**: Find k-nearest neighbors using chosen distance metric\n",
    "4. **Ranking**: Return most similar vectors with their similarity scores\n",
    "\n",
    "### Visualization Elements:\n",
    "- **🔴 Red**: Query vector (what the user is searching for)\n",
    "- **🔵 Blue/Green/Orange**: Candidate vectors (database entries to search through)\n",
    "- **Dotted lines**: Euclidean distances between query and candidates\n",
    "- **Solid lines**: Inner product projections (recommendation-style scoring)\n",
    "- **Dash-dot arcs**: Cosine similarity angles (directional similarity)\n",
    "\n",
    "### Real-World Applications:\n",
    "- **Semantic Search**: Find documents with similar meaning\n",
    "- **Image Search**: Locate visually similar images\n",
    "- **Product Recommendations**: Suggest items with similar features\n",
    "- **Anomaly Detection**: Identify unusual patterns in data streams\n",
    "\n",
    "### Performance Considerations:\n",
    "- **Index Types**: HNSW, IVF, PQ for approximate nearest neighbor search\n",
    "- **Distance Metrics**: Choose based on embedding type and use case\n",
    "- **Scalability**: Handle millions of vectors with sub-second query times\n",
    "- **Accuracy vs Speed**: Balance between exact and approximate results"
   ]
  },
  {
   "cell_type": "code",
   "execution_count": 10,
   "id": "12314a3d",
   "metadata": {},
   "outputs": [
    {
     "data": {
      "application/vnd.plotly.v1+json": {
       "config": {
        "plotlyServerURL": "https://plot.ly"
       },
       "data": [
        {
         "line": {
          "color": "red",
          "width": 6
         },
         "marker": {
          "color": "red",
          "size": 4
         },
         "mode": "lines+markers+text",
         "name": "Query (v₁)",
         "opacity": 1,
         "text": [
          null,
          "Query (v₁)"
         ],
         "textposition": "top center",
         "type": "scatter3d",
         "x": [
          0,
          3
         ],
         "y": [
          0,
          1.5
         ],
         "z": [
          0,
          2
         ]
        },
        {
         "line": {
          "color": "blue",
          "width": 6
         },
         "marker": {
          "color": "blue",
          "size": 4
         },
         "mode": "lines+markers+text",
         "name": "Candidate 1 (v₂)",
         "opacity": 1,
         "text": [
          null,
          "Candidate 1 (v₂)"
         ],
         "textposition": "top center",
         "type": "scatter3d",
         "x": [
          0,
          1
         ],
         "y": [
          0,
          2.5
         ],
         "z": [
          0,
          0.5
         ]
        },
        {
         "line": {
          "color": "green",
          "width": 6
         },
         "marker": {
          "color": "green",
          "size": 4
         },
         "mode": "lines+markers+text",
         "name": "Candidate 2 (v₃)",
         "opacity": 1,
         "text": [
          null,
          "Candidate 2 (v₃)"
         ],
         "textposition": "top center",
         "type": "scatter3d",
         "x": [
          0,
          -2
         ],
         "y": [
          0,
          1
         ],
         "z": [
          0,
          1.5
         ]
        },
        {
         "line": {
          "color": "orange",
          "width": 6
         },
         "marker": {
          "color": "orange",
          "size": 4
         },
         "mode": "lines+markers+text",
         "name": "Candidate 3 (v₄)",
         "opacity": 1,
         "text": [
          null,
          "Candidate 3 (v₄)"
         ],
         "textposition": "top center",
         "type": "scatter3d",
         "x": [
          0,
          0.5
         ],
         "y": [
          0,
          -1
         ],
         "z": [
          0,
          3
         ]
        },
        {
         "line": {
          "color": "blue",
          "dash": "dot",
          "width": 4
         },
         "mode": "lines+text",
         "name": "EU: ‖v₁ − v2‖ = 2.693",
         "opacity": 1,
         "text": [
          null,
          "EU: ‖v₁ − v2‖ = 2.693 = 2.693"
         ],
         "textposition": "middle right",
         "type": "scatter3d",
         "x": [
          3,
          1
         ],
         "y": [
          1.5,
          2.5
         ],
         "z": [
          2,
          0.5
         ]
        },
        {
         "line": {
          "color": "blue",
          "dash": "solid",
          "width": 3
         },
         "mode": "lines",
         "name": "IP: proj(v₁,v2) = 0.508",
         "opacity": 1,
         "showlegend": true,
         "type": "scatter3d",
         "x": [
          0,
          1.5245901639344264
         ],
         "y": [
          0,
          0.7622950819672132
         ],
         "z": [
          0,
          1.0163934426229508
         ]
        },
        {
         "line": {
          "color": "blue",
          "dash": "dashdot",
          "width": 2
         },
         "mode": "lines",
         "name": "COS: θ = 43.6°",
         "opacity": 1,
         "showlegend": true,
         "type": "scatter3d",
         "x": {
          "bdata": "LDoyb52q4z8zj3A9ZG7jPwqC01MtLeM/lvSYcgnn4j8O4+KdCpziP864FhlETOI/raPqYcr34T85KyIrs57hP/Bl+1YVQeE/7TpO8Qjf4D+MMl8pp3jgPzdsZ0sKDuA/OsWmc5s+3z9CdXTMG1neP93WHpTQa90/SkAhvvZ23D/gieMuzXrbP5SEkquUd9o/6PJ8yY9t2T+lSvncAl3YP1aj2OczRtc/Q1Rrh2op1j/k3xvi7wbVP4TmpJQO39M/rvPmnhKy0j8=",
          "dtype": "f8"
         },
         "y": {
          "bdata": "LDoyb52q0z+X9jESVibVP716W/yfnNY/EH/4CRsN2D/1ujyVaHfZPzyKlY4r29o/0DqRlAg43D//3lcLpo3dP6qcrzOs294/FEjDoOIQ4D9KPP64zq/gP0dCc5BxSuE/V9zjbqPg4T9LRhzAPXLiP55A3B0b/+I/aExyWReH4z+c4AaFDwrkP2A1lfzhh+Q/ilePbm4A5T8UTCvklXPlP60hV8k64eU/aeVR9EBJ5j/8huesjavmP8nQTbMHCOc/mbCgRpde5z8=",
          "dtype": "f8"
         },
         "z": {
          "bdata": "kE2Y6dE42j+lS9sq3MPZP/2tDjdISNk/PqUuzDXG2D/AXDxTxj3YP58Pqdccr9c/+qJV/l0a1z9RFSn8r3/WPwcuQIw639U/IfK45SY51T+QfRyxn43UP+z4af3Q3NM/T3zFNOgm0z9Xx80QFGzSP23Nm46ErNE/eCtv4mro0D+QsQpr+R/QP1p/iEnHps4/RZCWOLwFzT8Nu1LCPF3LP9SGAPC1rck/kRUSmZb3xz+Cpa9GTzvGP6GrzxZSecQ/rfPmnhKywj8=",
          "dtype": "f8"
         }
        },
        {
         "line": {
          "color": "green",
          "dash": "dot",
          "width": 4
         },
         "mode": "lines+text",
         "name": "EU: ‖v₁ − v3‖ = 5.050",
         "opacity": 1,
         "text": [
          null,
          "EU: ‖v₁ − v3‖ = 5.050 = 5.050"
         ],
         "textposition": "middle right",
         "type": "scatter3d",
         "x": [
          3,
          -2
         ],
         "y": [
          1.5,
          1
         ],
         "z": [
          2,
          1.5
         ]
        },
        {
         "line": {
          "color": "green",
          "dash": "solid",
          "width": 3
         },
         "mode": "lines",
         "name": "IP: proj(v₁,v3) = -0.098",
         "opacity": 1,
         "showlegend": true,
         "type": "scatter3d",
         "x": [
          0,
          -0.29508196721311475
         ],
         "y": [
          0,
          -0.14754098360655737
         ],
         "z": [
          0,
          -0.19672131147540983
         ]
        },
        {
         "line": {
          "color": "green",
          "dash": "dashdot",
          "width": 2
         },
         "mode": "lines",
         "name": "COS: θ = 98.2°",
         "opacity": 1,
         "showlegend": true,
         "type": "scatter3d",
         "x": {
          "bdata": "LDoyb52q4z+VgX/voHLiP+oM+DaRIuE/emL9sEl43z8kZrgrX4LcPzJWnPo/Z9k/tnw5yPkq1j+/6QKDxdHSP39LS7UDwM4/SME0GFu0xz8txcUHw4nAPxdobHgrk7I/Z2xHhpnUjz9nvOm9bEalv5e7ngceM7m/N5ABXBHRw79CsQQlt+7Kv7rR8oWb9NC/YM0lzrpb1L/KUY6RSKjXv7po4aL21dq/d9Z4H5/g3b++ZJDsJGLgv6v9H8KYvuG/O8nLUeQD478=",
          "dtype": "f8"
         },
         "y": {
          "bdata": "LDoyb52q0z9NmPApfTDVP+i6Fbe1mtY/KxocYG7n1z+OZATu9BTZPz1/AOC/Ido/JyT9bHAM2z/07WtN1NPbP8Ji+Erndtw/WlselNT03D8EmubR90zdP7QbX/7dft0/Uj+3+kWK3T+33DvkIG/dP99ixCeSLd0/IKN3U+/F3D/fniSnvzjcP/wNwWO7hts/x/bz2sqw2j+KJuY/BbjZP+M15Dqvndg/ppytQTlj1z9TxJm2PQrWPy+iBtF+lNQ/OsnLUeQD0z8=",
          "dtype": "f8"
         },
         "z": {
          "bdata": "kE2Y6dE42j9M4nTnI3vcP7fHdKlKmN4/e6AO+8FG4D8ZRa/XICzhP1QYHZQW++E/rXEHGZWy4j9YDsfurFHjP4DS4XWO1+M/sp7/9YpD5D+1ne6BFZXkP2p4ja/Dy+Q/nWurIk7n5D/VAinqkOfkPwTv366LzOQ/YsIUtGGW5D8M/XGpWUXkP/F4yE7d2eM/a5gN6nhU4z9WUkuQ2rXiPwQDcULR/uE/GH4t30sw4T9D7zLrV0vgP+e69mJAot4/162xetaF3D8=",
          "dtype": "f8"
         }
        },
        {
         "line": {
          "color": "orange",
          "dash": "dot",
          "width": 4
         },
         "mode": "lines+text",
         "name": "EU: ‖v₁ − v4‖ = 3.674",
         "opacity": 1,
         "text": [
          null,
          "EU: ‖v₁ − v4‖ = 3.674 = 3.674"
         ],
         "textposition": "middle right",
         "type": "scatter3d",
         "x": [
          3,
          0.5
         ],
         "y": [
          1.5,
          -1
         ],
         "z": [
          2,
          3
         ]
        },
        {
         "line": {
          "color": "orange",
          "dash": "solid",
          "width": 3
         },
         "mode": "lines",
         "name": "IP: proj(v₁,v4) = 0.393",
         "opacity": 1,
         "showlegend": true,
         "type": "scatter3d",
         "x": [
          0,
          1.180327868852459
         ],
         "y": [
          0,
          0.5901639344262295
         ],
         "z": [
          0,
          0.7868852459016393
         ]
        },
        {
         "line": {
          "color": "orange",
          "dash": "dashdot",
          "width": 2
         },
         "mode": "lines",
         "name": "COS: θ = 61.3°",
         "opacity": 1,
         "showlegend": true,
         "type": "scatter3d",
         "x": {
          "bdata": "LDoyb52q4z8oPde32F7jPwraZvQ3CeM/f8eFuuap4j9BNmaOFUHiP4nzFcr5zuE//XlWgs1T4T+4wwxpz8/gP5DpV61CQ+A/opu9st1c3z/HdMxbPyPeP0L2g/dJ2tw/hClp9qSC2z/ci6RC/xzaP5UG+uYOqtg/6i0gspAq1z+/8KXWR5/VP7Sjl4f9CNQ/5/kVkoBo0j/ECxP0pL7QPwQA1uCGGM4/54UeQXKkyj9T6fgHziLHP9ysaBtjlcM/vQjYvwD8vz8=",
          "dtype": "f8"
         },
         "y": {
          "bdata": "LDoyb52q0z+CUFQL0FrSP1jpwfaqAdE/XBREvrs/zz/qkhy0OWzMP4xK0hJAisk/i8RJe0abxj+kTlUsy6DDPxv9JEBSnMA/uv92zckeuz+orpg7Ife0Pw0bpZmZia0/Gv+X4+cVoT8asJ51D2aCP2eSdQ3elI+/p7IWGO5fpL/a5+XiImiwv2D2bdz0l7a/isn+zka8vL/1pro1/GjBv3SrRWr4asS/MGQ0GZBix7/HoM6gQE7Kv/eZW26NLM2/vQjYvwD8z78=",
          "dtype": "f8"
         },
         "z": {
          "bdata": "kE2Y6dE42j+8n4vLiP7bP6qbguv/td0/ZSaHmVde3z8FZRnsW3vgP2B+T2UoP+E/bTcZjy364T/owgo4DKziP/0vDddpVOM/9YZzufDy4z/3i5kuUIfkP/Tz9bA8EeU/GiSLDHCQ5T/Q6qKCqQTmPw8Cw+qtbeY/85TJ0EfL5j/gdCKQRx3nP+okB2yDY+c/qWO9pNed5z8/Y8mJJsznP4VsColY7uc/RDy6OlwE6D8g/0hqJg7oP9RpERyyC+g/kAbijwD95z8=",
          "dtype": "f8"
         }
        },
        {
         "mode": "text",
         "name": "label",
         "opacity": 1,
         "text": [
          "Similarity Scores (v₁ vs candidates):<br>v2: EU=2.693, IP=7.750, COS=0.725<br>v3: EU=5.050, IP=-1.500, COS=-0.143<br>v4: EU=3.674, IP=6.000, COS=0.480<br>"
         ],
         "textfont": {
          "color": "black"
         },
         "type": "scatter3d",
         "x": [
          -3
         ],
         "y": [
          -3
         ],
         "z": [
          -3
         ]
        }
       ],
       "layout": {
        "margin": {
         "b": 0,
         "l": 0,
         "r": 0,
         "t": 50
        },
        "paper_bgcolor": "white",
        "plot_bgcolor": "white",
        "scene": {
         "aspectmode": "cube",
         "xaxis": {
          "gridcolor": "lightgray",
          "linecolor": "black",
          "linewidth": 2,
          "title": {
           "text": "x"
          }
         },
         "yaxis": {
          "gridcolor": "lightgray",
          "linecolor": "black",
          "linewidth": 2,
          "title": {
           "text": "y"
          }
         },
         "zaxis": {
          "gridcolor": "lightgray",
          "linecolor": "black",
          "linewidth": 2,
          "title": {
           "text": "z"
          }
         }
        },
        "showlegend": true,
        "template": {
         "data": {
          "bar": [
           {
            "error_x": {
             "color": "#2a3f5f"
            },
            "error_y": {
             "color": "#2a3f5f"
            },
            "marker": {
             "line": {
              "color": "#E5ECF6",
              "width": 0.5
             },
             "pattern": {
              "fillmode": "overlay",
              "size": 10,
              "solidity": 0.2
             }
            },
            "type": "bar"
           }
          ],
          "barpolar": [
           {
            "marker": {
             "line": {
              "color": "#E5ECF6",
              "width": 0.5
             },
             "pattern": {
              "fillmode": "overlay",
              "size": 10,
              "solidity": 0.2
             }
            },
            "type": "barpolar"
           }
          ],
          "carpet": [
           {
            "aaxis": {
             "endlinecolor": "#2a3f5f",
             "gridcolor": "white",
             "linecolor": "white",
             "minorgridcolor": "white",
             "startlinecolor": "#2a3f5f"
            },
            "baxis": {
             "endlinecolor": "#2a3f5f",
             "gridcolor": "white",
             "linecolor": "white",
             "minorgridcolor": "white",
             "startlinecolor": "#2a3f5f"
            },
            "type": "carpet"
           }
          ],
          "choropleth": [
           {
            "colorbar": {
             "outlinewidth": 0,
             "ticks": ""
            },
            "type": "choropleth"
           }
          ],
          "contour": [
           {
            "colorbar": {
             "outlinewidth": 0,
             "ticks": ""
            },
            "colorscale": [
             [
              0,
              "#0d0887"
             ],
             [
              0.1111111111111111,
              "#46039f"
             ],
             [
              0.2222222222222222,
              "#7201a8"
             ],
             [
              0.3333333333333333,
              "#9c179e"
             ],
             [
              0.4444444444444444,
              "#bd3786"
             ],
             [
              0.5555555555555556,
              "#d8576b"
             ],
             [
              0.6666666666666666,
              "#ed7953"
             ],
             [
              0.7777777777777778,
              "#fb9f3a"
             ],
             [
              0.8888888888888888,
              "#fdca26"
             ],
             [
              1,
              "#f0f921"
             ]
            ],
            "type": "contour"
           }
          ],
          "contourcarpet": [
           {
            "colorbar": {
             "outlinewidth": 0,
             "ticks": ""
            },
            "type": "contourcarpet"
           }
          ],
          "heatmap": [
           {
            "colorbar": {
             "outlinewidth": 0,
             "ticks": ""
            },
            "colorscale": [
             [
              0,
              "#0d0887"
             ],
             [
              0.1111111111111111,
              "#46039f"
             ],
             [
              0.2222222222222222,
              "#7201a8"
             ],
             [
              0.3333333333333333,
              "#9c179e"
             ],
             [
              0.4444444444444444,
              "#bd3786"
             ],
             [
              0.5555555555555556,
              "#d8576b"
             ],
             [
              0.6666666666666666,
              "#ed7953"
             ],
             [
              0.7777777777777778,
              "#fb9f3a"
             ],
             [
              0.8888888888888888,
              "#fdca26"
             ],
             [
              1,
              "#f0f921"
             ]
            ],
            "type": "heatmap"
           }
          ],
          "histogram": [
           {
            "marker": {
             "pattern": {
              "fillmode": "overlay",
              "size": 10,
              "solidity": 0.2
             }
            },
            "type": "histogram"
           }
          ],
          "histogram2d": [
           {
            "colorbar": {
             "outlinewidth": 0,
             "ticks": ""
            },
            "colorscale": [
             [
              0,
              "#0d0887"
             ],
             [
              0.1111111111111111,
              "#46039f"
             ],
             [
              0.2222222222222222,
              "#7201a8"
             ],
             [
              0.3333333333333333,
              "#9c179e"
             ],
             [
              0.4444444444444444,
              "#bd3786"
             ],
             [
              0.5555555555555556,
              "#d8576b"
             ],
             [
              0.6666666666666666,
              "#ed7953"
             ],
             [
              0.7777777777777778,
              "#fb9f3a"
             ],
             [
              0.8888888888888888,
              "#fdca26"
             ],
             [
              1,
              "#f0f921"
             ]
            ],
            "type": "histogram2d"
           }
          ],
          "histogram2dcontour": [
           {
            "colorbar": {
             "outlinewidth": 0,
             "ticks": ""
            },
            "colorscale": [
             [
              0,
              "#0d0887"
             ],
             [
              0.1111111111111111,
              "#46039f"
             ],
             [
              0.2222222222222222,
              "#7201a8"
             ],
             [
              0.3333333333333333,
              "#9c179e"
             ],
             [
              0.4444444444444444,
              "#bd3786"
             ],
             [
              0.5555555555555556,
              "#d8576b"
             ],
             [
              0.6666666666666666,
              "#ed7953"
             ],
             [
              0.7777777777777778,
              "#fb9f3a"
             ],
             [
              0.8888888888888888,
              "#fdca26"
             ],
             [
              1,
              "#f0f921"
             ]
            ],
            "type": "histogram2dcontour"
           }
          ],
          "mesh3d": [
           {
            "colorbar": {
             "outlinewidth": 0,
             "ticks": ""
            },
            "type": "mesh3d"
           }
          ],
          "parcoords": [
           {
            "line": {
             "colorbar": {
              "outlinewidth": 0,
              "ticks": ""
             }
            },
            "type": "parcoords"
           }
          ],
          "pie": [
           {
            "automargin": true,
            "type": "pie"
           }
          ],
          "scatter": [
           {
            "fillpattern": {
             "fillmode": "overlay",
             "size": 10,
             "solidity": 0.2
            },
            "type": "scatter"
           }
          ],
          "scatter3d": [
           {
            "line": {
             "colorbar": {
              "outlinewidth": 0,
              "ticks": ""
             }
            },
            "marker": {
             "colorbar": {
              "outlinewidth": 0,
              "ticks": ""
             }
            },
            "type": "scatter3d"
           }
          ],
          "scattercarpet": [
           {
            "marker": {
             "colorbar": {
              "outlinewidth": 0,
              "ticks": ""
             }
            },
            "type": "scattercarpet"
           }
          ],
          "scattergeo": [
           {
            "marker": {
             "colorbar": {
              "outlinewidth": 0,
              "ticks": ""
             }
            },
            "type": "scattergeo"
           }
          ],
          "scattergl": [
           {
            "marker": {
             "colorbar": {
              "outlinewidth": 0,
              "ticks": ""
             }
            },
            "type": "scattergl"
           }
          ],
          "scattermap": [
           {
            "marker": {
             "colorbar": {
              "outlinewidth": 0,
              "ticks": ""
             }
            },
            "type": "scattermap"
           }
          ],
          "scattermapbox": [
           {
            "marker": {
             "colorbar": {
              "outlinewidth": 0,
              "ticks": ""
             }
            },
            "type": "scattermapbox"
           }
          ],
          "scatterpolar": [
           {
            "marker": {
             "colorbar": {
              "outlinewidth": 0,
              "ticks": ""
             }
            },
            "type": "scatterpolar"
           }
          ],
          "scatterpolargl": [
           {
            "marker": {
             "colorbar": {
              "outlinewidth": 0,
              "ticks": ""
             }
            },
            "type": "scatterpolargl"
           }
          ],
          "scatterternary": [
           {
            "marker": {
             "colorbar": {
              "outlinewidth": 0,
              "ticks": ""
             }
            },
            "type": "scatterternary"
           }
          ],
          "surface": [
           {
            "colorbar": {
             "outlinewidth": 0,
             "ticks": ""
            },
            "colorscale": [
             [
              0,
              "#0d0887"
             ],
             [
              0.1111111111111111,
              "#46039f"
             ],
             [
              0.2222222222222222,
              "#7201a8"
             ],
             [
              0.3333333333333333,
              "#9c179e"
             ],
             [
              0.4444444444444444,
              "#bd3786"
             ],
             [
              0.5555555555555556,
              "#d8576b"
             ],
             [
              0.6666666666666666,
              "#ed7953"
             ],
             [
              0.7777777777777778,
              "#fb9f3a"
             ],
             [
              0.8888888888888888,
              "#fdca26"
             ],
             [
              1,
              "#f0f921"
             ]
            ],
            "type": "surface"
           }
          ],
          "table": [
           {
            "cells": {
             "fill": {
              "color": "#EBF0F8"
             },
             "line": {
              "color": "white"
             }
            },
            "header": {
             "fill": {
              "color": "#C8D4E3"
             },
             "line": {
              "color": "white"
             }
            },
            "type": "table"
           }
          ]
         },
         "layout": {
          "annotationdefaults": {
           "arrowcolor": "#2a3f5f",
           "arrowhead": 0,
           "arrowwidth": 1
          },
          "autotypenumbers": "strict",
          "coloraxis": {
           "colorbar": {
            "outlinewidth": 0,
            "ticks": ""
           }
          },
          "colorscale": {
           "diverging": [
            [
             0,
             "#8e0152"
            ],
            [
             0.1,
             "#c51b7d"
            ],
            [
             0.2,
             "#de77ae"
            ],
            [
             0.3,
             "#f1b6da"
            ],
            [
             0.4,
             "#fde0ef"
            ],
            [
             0.5,
             "#f7f7f7"
            ],
            [
             0.6,
             "#e6f5d0"
            ],
            [
             0.7,
             "#b8e186"
            ],
            [
             0.8,
             "#7fbc41"
            ],
            [
             0.9,
             "#4d9221"
            ],
            [
             1,
             "#276419"
            ]
           ],
           "sequential": [
            [
             0,
             "#0d0887"
            ],
            [
             0.1111111111111111,
             "#46039f"
            ],
            [
             0.2222222222222222,
             "#7201a8"
            ],
            [
             0.3333333333333333,
             "#9c179e"
            ],
            [
             0.4444444444444444,
             "#bd3786"
            ],
            [
             0.5555555555555556,
             "#d8576b"
            ],
            [
             0.6666666666666666,
             "#ed7953"
            ],
            [
             0.7777777777777778,
             "#fb9f3a"
            ],
            [
             0.8888888888888888,
             "#fdca26"
            ],
            [
             1,
             "#f0f921"
            ]
           ],
           "sequentialminus": [
            [
             0,
             "#0d0887"
            ],
            [
             0.1111111111111111,
             "#46039f"
            ],
            [
             0.2222222222222222,
             "#7201a8"
            ],
            [
             0.3333333333333333,
             "#9c179e"
            ],
            [
             0.4444444444444444,
             "#bd3786"
            ],
            [
             0.5555555555555556,
             "#d8576b"
            ],
            [
             0.6666666666666666,
             "#ed7953"
            ],
            [
             0.7777777777777778,
             "#fb9f3a"
            ],
            [
             0.8888888888888888,
             "#fdca26"
            ],
            [
             1,
             "#f0f921"
            ]
           ]
          },
          "colorway": [
           "#636efa",
           "#EF553B",
           "#00cc96",
           "#ab63fa",
           "#FFA15A",
           "#19d3f3",
           "#FF6692",
           "#B6E880",
           "#FF97FF",
           "#FECB52"
          ],
          "font": {
           "color": "#2a3f5f"
          },
          "geo": {
           "bgcolor": "white",
           "lakecolor": "white",
           "landcolor": "#E5ECF6",
           "showlakes": true,
           "showland": true,
           "subunitcolor": "white"
          },
          "hoverlabel": {
           "align": "left"
          },
          "hovermode": "closest",
          "mapbox": {
           "style": "light"
          },
          "paper_bgcolor": "white",
          "plot_bgcolor": "#E5ECF6",
          "polar": {
           "angularaxis": {
            "gridcolor": "white",
            "linecolor": "white",
            "ticks": ""
           },
           "bgcolor": "#E5ECF6",
           "radialaxis": {
            "gridcolor": "white",
            "linecolor": "white",
            "ticks": ""
           }
          },
          "scene": {
           "xaxis": {
            "backgroundcolor": "#E5ECF6",
            "gridcolor": "white",
            "gridwidth": 2,
            "linecolor": "white",
            "showbackground": true,
            "ticks": "",
            "zerolinecolor": "white"
           },
           "yaxis": {
            "backgroundcolor": "#E5ECF6",
            "gridcolor": "white",
            "gridwidth": 2,
            "linecolor": "white",
            "showbackground": true,
            "ticks": "",
            "zerolinecolor": "white"
           },
           "zaxis": {
            "backgroundcolor": "#E5ECF6",
            "gridcolor": "white",
            "gridwidth": 2,
            "linecolor": "white",
            "showbackground": true,
            "ticks": "",
            "zerolinecolor": "white"
           }
          },
          "shapedefaults": {
           "line": {
            "color": "#2a3f5f"
           }
          },
          "ternary": {
           "aaxis": {
            "gridcolor": "white",
            "linecolor": "white",
            "ticks": ""
           },
           "baxis": {
            "gridcolor": "white",
            "linecolor": "white",
            "ticks": ""
           },
           "bgcolor": "#E5ECF6",
           "caxis": {
            "gridcolor": "white",
            "linecolor": "white",
            "ticks": ""
           }
          },
          "title": {
           "x": 0.05
          },
          "xaxis": {
           "automargin": true,
           "gridcolor": "white",
           "linecolor": "white",
           "ticks": "",
           "title": {
            "standoff": 15
           },
           "zerolinecolor": "white",
           "zerolinewidth": 2
          },
          "yaxis": {
           "automargin": true,
           "gridcolor": "white",
           "linecolor": "white",
           "ticks": "",
           "title": {
            "standoff": 15
           },
           "zerolinecolor": "white",
           "zerolinewidth": 2
          }
         }
        },
        "title": {
         "text": "Multi-Vector Comparison: Query vs All Candidates"
        }
       }
      }
     },
     "metadata": {},
     "output_type": "display_data"
    },
    {
     "name": "stdout",
     "output_type": "stream",
     "text": [
      "Multi-Vector Comparison Summary:\n",
      "• Red: Query vector (v₁)\n",
      "• Blue/Green/Orange: Candidate vectors (v₂/v₃/v₄)\n",
      "• Dotted lines: Euclidean distances\n",
      "• Solid lines: Inner product projections\n",
      "• Dash-dot arcs: Cosine similarity angles\n",
      "\n",
      "Detailed Scores:\n",
      "v₁ vs v2: EU=2.693, IP=7.750, COS=0.725\n",
      "v₁ vs v3: EU=5.050, IP=-1.500, COS=-0.143\n",
      "v₁ vs v4: EU=3.674, IP=6.000, COS=0.480\n"
     ]
    }
   ],
   "source": [
    "# Compare query vector against all candidates with all metrics\n",
    "fig = go.Figure(layout=make_layout(\"Multi-Vector Comparison: Query vs All Candidates\"))\n",
    "\n",
    "# Add all vectors\n",
    "for i, (vec, name, color) in enumerate(zip(vectors, vector_names, vector_colors)):\n",
    "    fig.add_trace(vector_trace(vec, name, color=color))\n",
    "\n",
    "# Add metric visualizations for each candidate\n",
    "for i, (vec, name, color) in enumerate(zip(vectors[1:], vector_names[1:], vector_colors[1:]), 2):\n",
    "    metrics = metrics_v1[f'v1_v{i}']\n",
    "    \n",
    "    # Euclidean distance (dotted line)\n",
    "    fig.add_trace(tip_to_tip_trace(\n",
    "        v1, vec, dash=\"dot\", color=color,\n",
    "        name=f\"EU: ‖v₁ − v{i}‖ = {metrics['euclidean_dist']:.3f}\"\n",
    "    ))\n",
    "    \n",
    "    # Inner product projection (solid line)\n",
    "    proj, coeff = projection_of_b_on_a(v1, vec)\n",
    "    if np.linalg.norm(proj) > 0.1:\n",
    "        fig.add_trace(go.Scatter3d(\n",
    "            x=[0, proj[0]], y=[0, proj[1]], z=[0, proj[2]],\n",
    "            mode=\"lines\",\n",
    "            line=dict(color=color, width=3, dash=\"solid\"),\n",
    "            name=f\"IP: proj(v₁,v{i}) = {coeff:.3f}\",\n",
    "            showlegend=True,\n",
    "            opacity=1.0\n",
    "        ))\n",
    "    \n",
    "    # Cosine similarity arc\n",
    "    na = float(np.linalg.norm(v1))\n",
    "    nb = float(np.linalg.norm(vec))\n",
    "    if na > 0 and nb > 0:\n",
    "        ua = v1 / na\n",
    "        ub = vec / nb\n",
    "        cos_sim = metrics['cosine_sim']\n",
    "        theta = np.arccos(np.clip(cos_sim, -1.0, 1.0))\n",
    "        \n",
    "        if 0.2 < theta < np.pi - 0.2:\n",
    "            arc_radius = 0.8\n",
    "            cross_prod = np.cross(ua, ub)\n",
    "            cross_norm = np.linalg.norm(cross_prod)\n",
    "            \n",
    "            if cross_norm > 1e-10:\n",
    "                u = ua / np.linalg.norm(ua)\n",
    "                w = cross_prod / cross_norm\n",
    "                v = np.cross(w, u)\n",
    "                \n",
    "                t_vals = np.linspace(0, theta, 25)\n",
    "                arc_points = []\n",
    "                \n",
    "                for t in t_vals:\n",
    "                    cos_t, sin_t = np.cos(t), np.sin(t)\n",
    "                    point = arc_radius * (cos_t * u + sin_t * v)\n",
    "                    arc_points.append(point)\n",
    "                \n",
    "                arc_points = np.array(arc_points)\n",
    "                fig.add_trace(go.Scatter3d(\n",
    "                    x=arc_points[:, 0], y=arc_points[:, 1], z=arc_points[:, 2],\n",
    "                    mode=\"lines\",\n",
    "                    line=dict(color=color, width=2, dash=\"dashdot\"),\n",
    "                    name=f\"COS: θ = {np.degrees(theta):.1f}°\",\n",
    "                    showlegend=True,\n",
    "                    opacity=1.0\n",
    "                ))\n",
    "\n",
    "# Add metric summary\n",
    "summary_text = \"Similarity Scores (v₁ vs candidates):<br>\"\n",
    "for i in range(2, 5):\n",
    "    m = metrics_v1[f'v1_v{i}']\n",
    "    summary_text += f\"v{i}: EU={m['euclidean_dist']:.3f}, IP={m['dot_product']:.3f}, COS={m['cosine_sim']:.3f}<br>\"\n",
    "\n",
    "fig.add_trace(text3d(-3, -3, -3, summary_text, color=\"black\"))\n",
    "fig.update_layout(margin=dict(l=0, r=0, t=50, b=0))\n",
    "fig.show()\n",
    "\n",
    "print(\"Multi-Vector Comparison Summary:\")\n",
    "print(\"• Red: Query vector (v₁)\")\n",
    "print(\"• Blue/Green/Orange: Candidate vectors (v₂/v₃/v₄)\")\n",
    "print(\"• Dotted lines: Euclidean distances\")\n",
    "print(\"• Solid lines: Inner product projections\")\n",
    "print(\"• Dash-dot arcs: Cosine similarity angles\")\n",
    "print(\"\\nDetailed Scores:\")\n",
    "for i in range(2, 5):\n",
    "    m = metrics_v1[f'v1_v{i}']\n",
    "    print(f\"v₁ vs v{i}: EU={m['euclidean_dist']:.3f}, IP={m['dot_product']:.3f}, COS={m['cosine_sim']:.3f}\")"
   ]
  },
  {
   "cell_type": "markdown",
   "id": "ee74ce34",
   "metadata": {},
   "source": [
    "\n",
    "## 🎯 Key Takeaways\n",
    "\n",
    "### **Choosing the Right Metric**\n",
    "\n",
    "| Scenario | Recommended Metric | Why? | Example |\n",
    "|----------|-------------------|------|---------|\n",
    "| **Text/Document Search** | Cosine Similarity | Direction matters, magnitude varies | Semantic search engines |\n",
    "| **Image/Visual Search** | Euclidean Distance | Spatial proximity in feature space | Computer vision applications |\n",
    "| **User Recommendations** | Inner Product | Both direction and magnitude matter | Collaborative filtering |\n",
    "| **Geographic Data** | Euclidean Distance | Physical distances | Location-based services |\n",
    "| **Anomaly Detection** | Euclidean Distance | Outlier identification | Fraud detection, monitoring |\n",
    "\n",
    "### **Metric Properties Summary**\n",
    "\n",
    "#### **Euclidean Distance (L2)**\n",
    "- ✅ **Intuitive**: Physical distance in space\n",
    "- ✅ **Bounded**: Always ≥ 0\n",
    "- ✅ **Scale-sensitive**: Magnitude affects similarity\n",
    "- ❌ **Curse of dimensionality**: Performance degrades in high dimensions\n",
    "\n",
    "#### **Inner Product (IP)**\n",
    "- ✅ **Efficient**: Simple dot product computation\n",
    "- ✅ **Magnitude-aware**: Considers both direction and scale\n",
    "- ✅ **ML-friendly**: Used in neural networks and attention mechanisms\n",
    "- ❌ **Unbounded**: Can be negative, harder to interpret\n",
    "\n",
    "#### **Cosine Similarity**\n",
    "- ✅ **Scale-invariant**: Works with varying magnitudes\n",
    "- ✅ **Bounded**: Easy to interpret [-1, 1] range\n",
    "- ✅ **Angle-based**: Intuitive geometric interpretation\n",
    "- ❌ **Ignores magnitude**: May miss important scale information\n",
    "\n",
    "### **Vector Database Best Practices**\n",
    "\n",
    "1. **Choose metric based on embedding type**:\n",
    "   - Normalized embeddings → Cosine Similarity\n",
    "   - Raw features → Euclidean Distance or Inner Product\n",
    "\n",
    "2. **Consider your use case**:\n",
    "   - Search quality vs speed trade-offs\n",
    "   - Exact vs approximate nearest neighbors\n",
    "   - Real-time requirements\n",
    "\n",
    "3. **Monitor and tune**:\n",
    "   - Query performance and latency\n",
    "   - Result quality and relevance\n",
    "   - Index maintenance and updates\n",
    "\n",
    "### **Further Reading**\n",
    "- [Vector Databases: A Comprehensive Guide](https://go.wiphoo.dev/vector-dbs)\n",
    "- [Embeddings and Similarity Metrics](https://go.wiphoo.dev/embeddings)\n",
    "- [Practical Vector Search](https://go.wiphoo.dev/vector-search)\n",
    "\n",
    "### **Try It Yourself**\n",
    "Experiment with different vectors and see how the metrics behave:\n",
    "- Try vectors of different magnitudes\n",
    "- Test orthogonal vectors (cosine similarity = 0)\n",
    "- Compare opposite vectors (cosine similarity = -1)\n",
    "\n",
    "---\n",
    "\n",
    "*This notebook provides interactive visualizations to build intuition about vector similarity metrics. For production vector database implementations, consider using specialized libraries like FAISS, Annoy, or managed services like Pinecone and Weaviate.*"
   ]
  }
 ],
 "metadata": {
  "kernelspec": {
   "display_name": ".venv",
   "language": "python",
   "name": "python3"
  },
  "language_info": {
   "codemirror_mode": {
    "name": "ipython",
    "version": 3
   },
   "file_extension": ".py",
   "mimetype": "text/x-python",
   "name": "python",
   "nbconvert_exporter": "python",
   "pygments_lexer": "ipython3",
   "version": "3.12.3"
  }
 },
 "nbformat": 4,
 "nbformat_minor": 5
}
