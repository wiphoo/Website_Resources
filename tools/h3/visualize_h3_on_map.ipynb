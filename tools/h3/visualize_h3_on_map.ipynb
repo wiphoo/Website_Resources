{
 "cells": [
  {
   "cell_type": "markdown",
   "metadata": {},
   "source": [
    "### Example of Render H3 Cell over Map\n",
    "\n",
    "This Jupyter Notebook contains a Python code snippet to render an H3 cell overlay on a map using Folium.\n",
    "\n",
    "Requirements: h3 and folium libraries.\n",
    "\n",
    "Blog reference: [wiphoo.dev](https://wiphoo.dev)"
   ]
  },
  {
   "cell_type": "code",
   "execution_count": null,
   "metadata": {},
   "outputs": [],
   "source": [
    "%pip install h3 folium"
   ]
  },
  {
   "cell_type": "code",
   "execution_count": 1,
   "metadata": {},
   "outputs": [],
   "source": [
    "import h3\n",
    "import folium"
   ]
  },
  {
   "cell_type": "code",
   "execution_count": 24,
   "metadata": {},
   "outputs": [
    {
     "data": {
      "text/plain": [
       "'8764a4b15ffffff'"
      ]
     },
     "execution_count": 24,
     "metadata": {},
     "output_type": "execute_result"
    }
   ],
   "source": [
    "# input location and h3 resolution\n",
    "latitude = 13.7305\n",
    "longitude = 100.5172\n",
    "h3_resolution = 7\n",
    "\n",
    "# get the h3 cell from location (latitude, longitude), and resolution to cell\n",
    "h3_cell = h3.latlng_to_cell(\n",
    "    latitude,\n",
    "    longitude,\n",
    "    h3_resolution\n",
    ")\n",
    "h3_cell"
   ]
  },
  {
   "cell_type": "code",
   "execution_count": 27,
   "metadata": {},
   "outputs": [
    {
     "data": {
      "text/plain": [
       "{'type': 'Polygon',\n",
       " 'coordinates': (((100.51414312636211, 13.708476796367076),\n",
       "   (100.52436118354818, 13.718041133717751),\n",
       "   (100.52090573186676, 13.731466666410542),\n",
       "   (100.50723107756062, 13.73532809136669),\n",
       "   (100.49701253388658, 13.725763449290344),\n",
       "   (100.50046913071581, 13.71233768714799),\n",
       "   (100.51414312636211, 13.708476796367076)),)}"
      ]
     },
     "execution_count": 27,
     "metadata": {},
     "output_type": "execute_result"
    }
   ],
   "source": [
    "# convert h3 cell to\n",
    "h3_shape = h3.cells_to_h3shape([h3_cell,])\n",
    "geojson_data = h3.h3shape_to_geo(h3_shape)\n",
    "\n",
    "geojson_data"
   ]
  },
  {
   "cell_type": "code",
   "execution_count": 25,
   "metadata": {},
   "outputs": [
    {
     "data": {
      "text/html": [
       "<div style=\"width:100%;\"><div style=\"position:relative;width:100%;height:0;padding-bottom:60%;\"><span style=\"color:#565656\">Make this Notebook Trusted to load map: File -> Trust Notebook</span><iframe srcdoc=\"&lt;!DOCTYPE html&gt;\n",
       "&lt;html&gt;\n",
       "&lt;head&gt;\n",
       "    \n",
       "    &lt;meta http-equiv=&quot;content-type&quot; content=&quot;text/html; charset=UTF-8&quot; /&gt;\n",
       "    \n",
       "        &lt;script&gt;\n",
       "            L_NO_TOUCH = false;\n",
       "            L_DISABLE_3D = false;\n",
       "        &lt;/script&gt;\n",
       "    \n",
       "    &lt;style&gt;html, body {width: 100%;height: 100%;margin: 0;padding: 0;}&lt;/style&gt;\n",
       "    &lt;style&gt;#map {position:absolute;top:0;bottom:0;right:0;left:0;}&lt;/style&gt;\n",
       "    &lt;script src=&quot;https://cdn.jsdelivr.net/npm/leaflet@1.9.3/dist/leaflet.js&quot;&gt;&lt;/script&gt;\n",
       "    &lt;script src=&quot;https://code.jquery.com/jquery-3.7.1.min.js&quot;&gt;&lt;/script&gt;\n",
       "    &lt;script src=&quot;https://cdn.jsdelivr.net/npm/bootstrap@5.2.2/dist/js/bootstrap.bundle.min.js&quot;&gt;&lt;/script&gt;\n",
       "    &lt;script src=&quot;https://cdnjs.cloudflare.com/ajax/libs/Leaflet.awesome-markers/2.0.2/leaflet.awesome-markers.js&quot;&gt;&lt;/script&gt;\n",
       "    &lt;link rel=&quot;stylesheet&quot; href=&quot;https://cdn.jsdelivr.net/npm/leaflet@1.9.3/dist/leaflet.css&quot;/&gt;\n",
       "    &lt;link rel=&quot;stylesheet&quot; href=&quot;https://cdn.jsdelivr.net/npm/bootstrap@5.2.2/dist/css/bootstrap.min.css&quot;/&gt;\n",
       "    &lt;link rel=&quot;stylesheet&quot; href=&quot;https://netdna.bootstrapcdn.com/bootstrap/3.0.0/css/bootstrap-glyphicons.css&quot;/&gt;\n",
       "    &lt;link rel=&quot;stylesheet&quot; href=&quot;https://cdn.jsdelivr.net/npm/@fortawesome/fontawesome-free@6.2.0/css/all.min.css&quot;/&gt;\n",
       "    &lt;link rel=&quot;stylesheet&quot; href=&quot;https://cdnjs.cloudflare.com/ajax/libs/Leaflet.awesome-markers/2.0.2/leaflet.awesome-markers.css&quot;/&gt;\n",
       "    &lt;link rel=&quot;stylesheet&quot; href=&quot;https://cdn.jsdelivr.net/gh/python-visualization/folium/folium/templates/leaflet.awesome.rotate.min.css&quot;/&gt;\n",
       "    \n",
       "            &lt;meta name=&quot;viewport&quot; content=&quot;width=device-width,\n",
       "                initial-scale=1.0, maximum-scale=1.0, user-scalable=no&quot; /&gt;\n",
       "            &lt;style&gt;\n",
       "                #map_9a331d2be569b68beec06595f69ab4cb {\n",
       "                    position: relative;\n",
       "                    width: 100.0%;\n",
       "                    height: 100.0%;\n",
       "                    left: 0.0%;\n",
       "                    top: 0.0%;\n",
       "                }\n",
       "                .leaflet-container { font-size: 1rem; }\n",
       "            &lt;/style&gt;\n",
       "        \n",
       "&lt;/head&gt;\n",
       "&lt;body&gt;\n",
       "    \n",
       "    \n",
       "            &lt;div class=&quot;folium-map&quot; id=&quot;map_9a331d2be569b68beec06595f69ab4cb&quot; &gt;&lt;/div&gt;\n",
       "        \n",
       "&lt;/body&gt;\n",
       "&lt;script&gt;\n",
       "    \n",
       "    \n",
       "            var map_9a331d2be569b68beec06595f69ab4cb = L.map(\n",
       "                &quot;map_9a331d2be569b68beec06595f69ab4cb&quot;,\n",
       "                {\n",
       "                    center: [13.7305, 100.5172],\n",
       "                    crs: L.CRS.EPSG3857,\n",
       "                    ...{\n",
       "  &quot;zoom&quot;: 13,\n",
       "  &quot;zoomControl&quot;: true,\n",
       "  &quot;preferCanvas&quot;: false,\n",
       "}\n",
       "\n",
       "                }\n",
       "            );\n",
       "\n",
       "            \n",
       "\n",
       "        \n",
       "    \n",
       "            var tile_layer_ff51a72b39d6f2951580e0004e03e42f = L.tileLayer(\n",
       "                &quot;https://tile.openstreetmap.org/{z}/{x}/{y}.png&quot;,\n",
       "                {\n",
       "  &quot;minZoom&quot;: 0,\n",
       "  &quot;maxZoom&quot;: 19,\n",
       "  &quot;maxNativeZoom&quot;: 19,\n",
       "  &quot;noWrap&quot;: false,\n",
       "  &quot;attribution&quot;: &quot;\\u0026copy; \\u003ca href=\\&quot;https://www.openstreetmap.org/copyright\\&quot;\\u003eOpenStreetMap\\u003c/a\\u003e contributors&quot;,\n",
       "  &quot;subdomains&quot;: &quot;abc&quot;,\n",
       "  &quot;detectRetina&quot;: false,\n",
       "  &quot;tms&quot;: false,\n",
       "  &quot;opacity&quot;: 1,\n",
       "}\n",
       "\n",
       "            );\n",
       "        \n",
       "    \n",
       "            tile_layer_ff51a72b39d6f2951580e0004e03e42f.addTo(map_9a331d2be569b68beec06595f69ab4cb);\n",
       "        \n",
       "    \n",
       "            var marker_b1b5652d2174429ab90ea36d11474dae = L.marker(\n",
       "                [13.7305, 100.5172],\n",
       "                {\n",
       "}\n",
       "            ).addTo(map_9a331d2be569b68beec06595f69ab4cb);\n",
       "        \n",
       "    \n",
       "            var icon_83072c313c56d18346bb8eff943871ab = L.AwesomeMarkers.icon(\n",
       "                {\n",
       "  &quot;markerColor&quot;: &quot;red&quot;,\n",
       "  &quot;iconColor&quot;: &quot;white&quot;,\n",
       "  &quot;icon&quot;: &quot;info-sign&quot;,\n",
       "  &quot;prefix&quot;: &quot;glyphicon&quot;,\n",
       "  &quot;extraClasses&quot;: &quot;fa-rotate-0&quot;,\n",
       "}\n",
       "            );\n",
       "            marker_b1b5652d2174429ab90ea36d11474dae.setIcon(icon_83072c313c56d18346bb8eff943871ab);\n",
       "        \n",
       "    \n",
       "\n",
       "        function geo_json_d0357fbf7d7a445dea03b2fe9b91d3e4_onEachFeature(feature, layer) {\n",
       "            layer.on({\n",
       "            });\n",
       "        };\n",
       "        var geo_json_d0357fbf7d7a445dea03b2fe9b91d3e4 = L.geoJson(null, {\n",
       "                onEachFeature: geo_json_d0357fbf7d7a445dea03b2fe9b91d3e4_onEachFeature,\n",
       "            \n",
       "            ...{\n",
       "}\n",
       "        });\n",
       "\n",
       "        function geo_json_d0357fbf7d7a445dea03b2fe9b91d3e4_add (data) {\n",
       "            geo_json_d0357fbf7d7a445dea03b2fe9b91d3e4\n",
       "                .addData(data);\n",
       "        }\n",
       "            geo_json_d0357fbf7d7a445dea03b2fe9b91d3e4_add({&quot;coordinates&quot;: [[[100.51414312636211, 13.708476796367076], [100.52436118354818, 13.718041133717751], [100.52090573186676, 13.731466666410542], [100.50723107756062, 13.73532809136669], [100.49701253388658, 13.725763449290344], [100.50046913071581, 13.71233768714799], [100.51414312636211, 13.708476796367076]]], &quot;type&quot;: &quot;Polygon&quot;});\n",
       "        geo_json_d0357fbf7d7a445dea03b2fe9b91d3e4.setStyle(function(feature) {return feature.properties.style;});\n",
       "\n",
       "        \n",
       "    \n",
       "            geo_json_d0357fbf7d7a445dea03b2fe9b91d3e4.addTo(map_9a331d2be569b68beec06595f69ab4cb);\n",
       "        \n",
       "&lt;/script&gt;\n",
       "&lt;/html&gt;\" style=\"position:absolute;width:100%;height:100%;left:0;top:0;border:none !important;\" allowfullscreen webkitallowfullscreen mozallowfullscreen></iframe></div></div>"
      ],
      "text/plain": [
       "<folium.folium.Map at 0x74cc22ba1c40>"
      ]
     },
     "execution_count": 25,
     "metadata": {},
     "output_type": "execute_result"
    }
   ],
   "source": [
    "# render cell on the map\n",
    "folium_map = folium.Map((latitude, longitude), zoom_start=13)\n",
    "\n",
    "# marker at input location\n",
    "folium.Marker(location=(latitude, longitude),\n",
    "                icon=folium.Icon(color=\"red\"),).add_to(folium_map)\n",
    "\n",
    "# h3 cell given input location\n",
    "folium.GeoJson(geojson_data).add_to(folium_map)\n",
    "\n",
    "folium_map"
   ]
  }
 ],
 "metadata": {
  "kernelspec": {
   "display_name": ".venv",
   "language": "python",
   "name": "python3"
  },
  "language_info": {
   "codemirror_mode": {
    "name": "ipython",
    "version": 3
   },
   "file_extension": ".py",
   "mimetype": "text/x-python",
   "name": "python",
   "nbconvert_exporter": "python",
   "pygments_lexer": "ipython3",
   "version": "3.12.3"
  }
 },
 "nbformat": 4,
 "nbformat_minor": 2
}
