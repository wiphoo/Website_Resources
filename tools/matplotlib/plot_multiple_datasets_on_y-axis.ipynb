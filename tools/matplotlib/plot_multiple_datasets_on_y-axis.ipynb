{
 "cells": [
  {
   "cell_type": "code",
   "execution_count": 4,
   "metadata": {},
   "outputs": [],
   "source": [
    "import math\n",
    "\n",
    "import pandas as pd\n",
    "import numpy as np\n",
    "\n",
    "import matplotlib.pyplot as plt"
   ]
  },
  {
   "cell_type": "code",
   "execution_count": 5,
   "metadata": {},
   "outputs": [],
   "source": [
    "# Earth radius in kilometers\n",
    "Earth_Radius_KM = 6371\n",
    "\n",
    "# ref : https://en.wikipedia.org/wiki/Haversine_formula\n",
    "def haversine_distance(origin: tuple[float, float], destination: tuple[float, float]) -> float:\n",
    "    '''\n",
    "        Calculates the haversine distance between two geographic coordinates in kilometers.\n",
    "\n",
    "        The haversine formula is used to calculate the great-circle distance between two points on a sphere given their geographic coordinates (latitude and longitude). This function takes two tuples of latitude and longitude in degrees, converts them to radians, and returns the distance in kilometers using the Earth's radius.\n",
    "\n",
    "        Args:\n",
    "            origin (tuple): A tuple of (latitude, longitude) in degrees for the first location.\n",
    "            destination (tuple): A tuple of (latitude, longitude) in degrees for the second location.\n",
    "\n",
    "        Returns:\n",
    "            float: The distance between the two locations in kilometers.\n",
    "    '''\n",
    "    # convert to radians\n",
    "    origin_lat_rad, origin_lon_rad = map(math.radians, origin)\n",
    "    dest_lat_rad, dest_lon_rad = map(math.radians, destination)\n",
    "    \n",
    "    # differences in coordinates\n",
    "    diff_in_lat = origin_lat_rad - dest_lat_rad\n",
    "    diff_in_lon = origin_lon_rad - dest_lon_rad\n",
    "    \n",
    "    # haversine formula\n",
    "    haversine_value = math.sin(diff_in_lat / 2)**2 + math.cos(origin_lat_rad) * math.cos(dest_lat_rad) * math.sin(diff_in_lon / 2)**2\n",
    "    great_circle_angle = 2 * math.atan2(math.sqrt(haversine_value), math.sqrt(1 - haversine_value))\n",
    "    \n",
    "    # return distance in kilometers\n",
    "    return Earth_Radius_KM * great_circle_angle"
   ]
  },
  {
   "cell_type": "code",
   "execution_count": 7,
   "metadata": {},
   "outputs": [
    {
     "data": {
      "text/plain": [
       "[1.7946459460383746,\n",
       " 2.345332820322107,\n",
       " 2.4152431456443124,\n",
       " 2.3889656330519986,\n",
       " 3.8864963676299915,\n",
       " 4.915107145183374,\n",
       " 12.546019960900033,\n",
       " 22.446085333650725,\n",
       " 22.60725075555429,\n",
       " 28.256855697968415]"
      ]
     },
     "execution_count": 7,
     "metadata": {},
     "output_type": "execute_result"
    }
   ],
   "source": [
    "\n",
    "\n"
   ]
  },
  {
   "cell_type": "code",
   "execution_count": null,
   "metadata": {},
   "outputs": [],
   "source": [
    "# geneate random datasets with distance, ranking index [0, 1000], ranking score [0, 100], and recall score [0, 1]\n",
    "origin_location = (13.730535078167222, 100.51722744907757)\n",
    "random_locations = [(13.741460172760418, 100.52945703900683), (13.722747225901431, 100.49704947551552), (13.751713487254452, 100.51226159917519), (13.743477711408703, 100.4995739810327), (13.714646756745294, 100.54927435500979), (13.693737924271923, 100.49201727752865), (13.619711506655612, 100.53902398019436), (13.912907423320988, 100.6063458466953), (13.914512135214704, 100.60634242176562), (13.522935037016458, 100.66803031320607)]\n",
    "\n",
    "# calculate the distance between the origin and each random location\n",
    "distance = [haversine_distance(origin_location, location) for location in random_locations]\n",
    "\n",
    "# ranking index proportional to distance (scaled to [0, 1000])\n",
    "def calculate_ranking_index(distances):\n",
    "    # scale distances to [0, 1000]\n",
    "    return np.clip((distances / 100) * 1000, 0, 1000).astype(int)\n",
    "# apply the function to each row's distance list\n",
    "ranking_index = [calculate_ranking_index(d) for d in distance]\n",
    "\n",
    "# ranking score proportional to ranking index (scaled to [0, 100])\n",
    "def calculate_inverse_ranking_score(index):\n",
    "    # inverse proportionality: higher index -> lower score\n",
    "    epsilon = 1e-5\n",
    "    score = 1000 / (index + epsilon) \n",
    "    # hormalize to 0 to 100 scale\n",
    "    normalized_score = np.clip(score, 0, 100)\n",
    "    return normalized_score\n",
    "ranking_score = np.array([calculate_inverse_ranking_score(index) for index in ranking_index])\n",
    "\n",
    "# recall score [0, 1]\n",
    "recall_score = np.random.uniform(0, 1, size=len(random_locations))\n",
    "\n",
    "df =  pd.DataFrame({\n",
    "    \"Distance\": distance,\n",
    "    \"Ranking Index\": ranking_index,\n",
    "    \"Ranking Score\": ranking_score,\n",
    "    \"Recall Score\": recall_score\n",
    "})\n"
   ]
  }
 ],
 "metadata": {
  "kernelspec": {
   "display_name": ".venv",
   "language": "python",
   "name": "python3"
  },
  "language_info": {
   "codemirror_mode": {
    "name": "ipython",
    "version": 3
   },
   "file_extension": ".py",
   "mimetype": "text/x-python",
   "name": "python",
   "nbconvert_exporter": "python",
   "pygments_lexer": "ipython3",
   "version": "3.12.3"
  }
 },
 "nbformat": 4,
 "nbformat_minor": 2
}
